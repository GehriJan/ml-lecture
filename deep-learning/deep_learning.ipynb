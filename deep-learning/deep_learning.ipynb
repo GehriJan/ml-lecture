{
 "cells": [
  {
   "cell_type": "markdown",
   "metadata": {},
   "source": [
    "# Deep Learning\n",
    "\n",
    "## Aufgabem\n",
    "1. _Laden der Daten und Splitting in Trainings- und Testdaten (Verhältnis 75:25)._\n",
    "2. _Überlegen Sie sich eine geeignete Netzwerkarchitektur für die Klassifikationsaufgabe._\n",
    "3. _Implementieren Sie Ihr Netzwerk in Keras/Tensorflow._\n",
    "4. _Wahlen Sie eine geeignete Loss-Funktion und einen geeigneten Optimizer. Begründen Sie Ihre\n",
    "Auswahl in Ihrem Kurzreport._\n",
    "5. _Evaluieren Sie Ihr ML-System und stellen Sie die Ergebnisse in geeigneter Weise dar. Nutzen Sie\n",
    "zur Evaluation eine Kreuzvalidierung (3-fold)._\n",
    "6. _In dem Notebook `transfer_learning.ipynb`_\n",
    "\n",
    "### Laden der Daten und Splitting in Trainings- und Testdaten (Verhältnis 75:25)\n",
    "Dieser Schritt ist identisch bei _Merkmalsbasierte Klassifikation_ und _Deep Learning_ und wurde somit in `setup.py` ausgelagert.\n",
    "Dort wird das Verhältnis durch `split=['train[75%:]', 'test[:25%]']` erstellt.\n"
   ]
  },
  {
   "cell_type": "code",
   "execution_count": 67,
   "metadata": {},
   "outputs": [],
   "source": [
    "import tensorflow as tf\n",
    "import keras\n",
    "import matplotlib.pyplot as plt\n",
    "import numpy as np\n",
    "import os\n",
    "from pathlib import Path\n",
    "import sys\n",
    "%matplotlib inline\n",
    "\n",
    "\n",
    "notebook_dir = Path().resolve()\n",
    "sys.path.append(str(notebook_dir.parent))\n",
    "from setup import setup_dataset\n",
    "\n",
    "keras.utils.set_random_seed(0)\n",
    "\n",
    "verification_image_dir = '../dataset/verification'\n",
    "model_folder = 'models/'\n",
    "model_filename = 'dog_classifier.keras'\n",
    "weights_filename = 'model.weights.h5'"
   ]
  },
  {
   "cell_type": "markdown",
   "metadata": {},
   "source": [
    "## Hyperparameter definieren"
   ]
  },
  {
   "cell_type": "code",
   "execution_count": 68,
   "metadata": {},
   "outputs": [],
   "source": [
    "num_classes = 5\n",
    "batch_size = 33\n",
    "epochs = 20\n",
    "learning_rate = 0.001\n",
    "resize_size = (256, 256)\n",
    "indices = [0, 2, 77, 84, 55]"
   ]
  },
  {
   "cell_type": "markdown",
   "metadata": {},
   "source": [
    "## Laden der Datensets"
   ]
  },
  {
   "cell_type": "code",
   "execution_count": 69,
   "metadata": {},
   "outputs": [
    {
     "data": {
      "image/png": "[encoded data removed]",
      "text/plain": [
       "<Figure size 640x480 with 1 Axes>"
      ]
     },
     "metadata": {},
     "output_type": "display_data"
    },
    {
     "name": "stdout",
     "output_type": "stream",
     "text": [
      "Finished loading data\n"
     ]
    }
   ],
   "source": [
    "train_dataset, test_dataset, metadata = setup_dataset('../dataset', labels=indices)\n",
    "\n",
    "table = tf.lookup.StaticHashTable(\n",
    "    initializer=tf.lookup.KeyValueTensorInitializer(\n",
    "        keys=tf.constant(indices, dtype=tf.int64),\n",
    "        values=tf.constant(list(range(num_classes)),  dtype=tf.int64),\n",
    "    ),\n",
    "    default_value= tf.constant(0,  dtype=tf.int64)\n",
    ")\n",
    "\n",
    "def preprocess(img, label):\n",
    "    img = tf.image.resize(img, resize_size)\n",
    "    img = img / 255.0  # Normalisierung\n",
    "    label = table.lookup(label)\n",
    "    return img, tf.one_hot(label, num_classes)  # One-Hot-Encoding der Labels\n",
    "\n",
    "train_dataset = (\n",
    "    train_dataset\n",
    "        .map(preprocess)\n",
    "        .shuffle(1000)\n",
    "        .batch(batch_size)\n",
    "        .prefetch(tf.data.AUTOTUNE)\n",
    ")\n",
    "\n",
    "test_dataset = (\n",
    "    test_dataset\n",
    "        .map(preprocess)\n",
    "        .batch(batch_size)\n",
    "        .prefetch(tf.data.AUTOTUNE)\n",
    ")\n",
    "\n",
    "def plot_batch_sizes(ds):\n",
    "    batch_sizes = [np.array(batch[1]).shape[0] for batch in ds]\n",
    "    plt.bar(range(len(batch_sizes)), batch_sizes)\n",
    "    plt.title(\"Batch sizes of train dataset\")\n",
    "    plt.xlabel(\"Batch number\")\n",
    "    plt.ylabel(\"Batch size\")\n",
    "    plt.show()\n",
    "\n",
    "plot_batch_sizes(train_dataset)\n",
    "\n",
    "y = np.concatenate([y for x, y in test_dataset], axis=0)\n",
    "print(\"Finished loading data\")"
   ]
  },
  {
   "cell_type": "markdown",
   "metadata": {},
   "source": [
    "# Model erstellen"
   ]
  },
  {
   "cell_type": "code",
   "execution_count": 70,
   "metadata": {},
   "outputs": [
    {
     "data": {
      "text/plain": [
       "\" def build_model(hp):\\n    model = keras.models.Sequential()\\n    model.add(keras.layers.Conv2D(\\n        filters=hp.Int('conv_1_filter', min_value=32, max_value=128, step=32),\\n        kernel_size=(3, 3),\\n        activation='relu',\\n        input_shape=(*resize_size, 3)\\n    ))\\n    model.add(keras.layers.Conv2D(\\n        filters=hp.Int('conv_2_filter', min_value=32, max_value=128, step=32),\\n        kernel_size=(3, 3),\\n        activation='relu'\\n    ))\\n    if hp.Boolean('dropout_1'):\\n        model.add(keras.layers.Dropout(rate=hp.Float('dropout_1_rate', min_value=0.2, max_value=0.5, step=0.1)))\\n    model.add(keras.layers.MaxPooling2D(pool_size=(2, 2)))\\n    model.add(keras.layers.Conv2D(\\n        filters=hp.Int('conv_3_filter', min_value=32, max_value=128, step=32),\\n        kernel_size=(3, 3),\\n        activation='relu'\\n    ))\\n    if hp.Boolean('dropout_2'):\\n        model.add(keras.layers.Dropout(rate=hp.Float('dropout_2_rate', min_value=0.2, max_value=0.5, step=0.1)))\\n    model.add(keras.layers.Flatten())\\n    model.add(keras.layers.Dense(num_classes, activation='softmax'))\\n\\n    model.compile(\\n        optimizer=keras.optimizers.Adam(learning_rate=hp.Float('learning_rate', min_value=1e-4, max_value=1e-2, sampling='LOG')),\\n        loss='categorical_crossentropy',\\n        metrics=['accuracy']\\n    )\\n    return model\\n\\ntuner = BayesianOptimization(\\n    build_model,\\n    objective='val_accuracy',\\n    max_trials=20,\\n    executions_per_trial=2,\\n    directory='bayesian_opt',\\n    project_name='dog_classifier'\\n)\\n\\ntuner.search(train_dataset, epochs=epochs, validation_data=test_dataset)\\n\\nbest_hps = tuner.get_best_hyperparameters(num_trials=1)[0] \""
      ]
     },
     "execution_count": 70,
     "metadata": {},
     "output_type": "execute_result"
    }
   ],
   "source": [
    "from kerastuner.tuners import BayesianOptimization\n",
    "\n",
    "model = keras.models.Sequential([\n",
    "    keras.layers.Conv2D(32, (3, 3), activation='relu', input_shape=(*resize_size, 3)),\n",
    "    keras.layers.BatchNormalization(),\n",
    "    keras.layers.MaxPooling2D(pool_size=(2, 2)),\n",
    "    keras.layers.Dropout(0.2),\n",
    "\n",
    "    keras.layers.Conv2D(64, (3, 3), activation='relu'),\n",
    "    keras.layers.BatchNormalization(),\n",
    "    keras.layers.MaxPooling2D(pool_size=(2, 2)),\n",
    "    keras.layers.Dropout(0.2),\n",
    "\n",
    "    keras.layers.Conv2D(128, (3, 3), activation='relu'),\n",
    "    keras.layers.BatchNormalization(),\n",
    "    keras.layers.MaxPooling2D(pool_size=(2, 2)),\n",
    "    keras.layers.Dropout(0.2),\n",
    "\n",
    "    keras.layers.Flatten(),\n",
    "    \n",
    "    keras.layers.Dense(256, activation='relu'),\n",
    "    keras.layers.Dropout(0.5),\n",
    "    keras.layers.Dense(num_classes, activation='softmax')\n",
    "])\n",
    "\n",
    "model.compile(\n",
    "    optimizer=keras.optimizers.Adam(learning_rate=learning_rate),\n",
    "    loss='categorical_crossentropy',\n",
    "    metrics=['accuracy']\n",
    ")\n",
    "\"\"\" def build_model(hp):\n",
    "    model = keras.models.Sequential()\n",
    "    model.add(keras.layers.Conv2D(\n",
    "        filters=hp.Int('conv_1_filter', min_value=32, max_value=128, step=32),\n",
    "        kernel_size=(3, 3),\n",
    "        activation='relu',\n",
    "        input_shape=(*resize_size, 3)\n",
    "    ))\n",
    "    model.add(keras.layers.Conv2D(\n",
    "        filters=hp.Int('conv_2_filter', min_value=32, max_value=128, step=32),\n",
    "        kernel_size=(3, 3),\n",
    "        activation='relu'\n",
    "    ))\n",
    "    if hp.Boolean('dropout_1'):\n",
    "        model.add(keras.layers.Dropout(rate=hp.Float('dropout_1_rate', min_value=0.2, max_value=0.5, step=0.1)))\n",
    "    model.add(keras.layers.MaxPooling2D(pool_size=(2, 2)))\n",
    "    model.add(keras.layers.Conv2D(\n",
    "        filters=hp.Int('conv_3_filter', min_value=32, max_value=128, step=32),\n",
    "        kernel_size=(3, 3),\n",
    "        activation='relu'\n",
    "    ))\n",
    "    if hp.Boolean('dropout_2'):\n",
    "        model.add(keras.layers.Dropout(rate=hp.Float('dropout_2_rate', min_value=0.2, max_value=0.5, step=0.1)))\n",
    "    model.add(keras.layers.Flatten())\n",
    "    model.add(keras.layers.Dense(num_classes, activation='softmax'))\n",
    "\n",
    "    model.compile(\n",
    "        optimizer=keras.optimizers.Adam(learning_rate=hp.Float('learning_rate', min_value=1e-4, max_value=1e-2, sampling='LOG')),\n",
    "        loss='categorical_crossentropy',\n",
    "        metrics=['accuracy']\n",
    "    )\n",
    "    return model\n",
    "\n",
    "tuner = BayesianOptimization(\n",
    "    build_model,\n",
    "    objective='val_accuracy',\n",
    "    max_trials=20,\n",
    "    executions_per_trial=2,\n",
    "    directory='bayesian_opt',\n",
    "    project_name='dog_classifier'\n",
    ")\n",
    "\n",
    "tuner.search(train_dataset, epochs=epochs, validation_data=test_dataset)\n",
    "\n",
    "best_hps = tuner.get_best_hyperparameters(num_trials=1)[0] \"\"\""
   ]
  },
  {
   "cell_type": "markdown",
   "metadata": {},
   "source": [
    "## Training des Models"
   ]
  },
  {
   "cell_type": "code",
   "execution_count": 71,
   "metadata": {},
   "outputs": [
    {
     "name": "stdout",
     "output_type": "stream",
     "text": [
      "Epoch 1/20\n",
      "\u001b[1m4/4\u001b[0m \u001b[32m━━━━━━━━━━━━━━━━━━━━\u001b[0m\u001b[37m\u001b[0m \u001b[1m7s\u001b[0m 1s/step - accuracy: 0.2115 - loss: 38.6740 - val_accuracy: 0.2021 - val_loss: 9.3262 - learning_rate: 0.0010\n",
      "Epoch 2/20\n"
     ]
    },
    {
     "name": "stderr",
     "output_type": "stream",
     "text": [
      "2024-12-12 16:14:16.851410: I tensorflow/core/framework/local_rendezvous.cc:424] Local rendezvous recv item cancelled. Key hash: 4266677454130355594\n",
      "2024-12-12 16:14:16.851437: I tensorflow/core/framework/local_rendezvous.cc:424] Local rendezvous recv item cancelled. Key hash: 17662422034860115762\n"
     ]
    },
    {
     "name": "stdout",
     "output_type": "stream",
     "text": [
      "\u001b[1m4/4\u001b[0m \u001b[32m━━━━━━━━━━━━━━━━━━━━\u001b[0m\u001b[37m\u001b[0m \u001b[1m0s\u001b[0m 59ms/step - accuracy: 0.4366 - loss: 48.8089"
     ]
    },
    {
     "name": "stderr",
     "output_type": "stream",
     "text": [
      "2024-12-12 16:14:17.367398: I tensorflow/core/framework/local_rendezvous.cc:424] Local rendezvous recv item cancelled. Key hash: 4266677454130355594\n",
      "2024-12-12 16:14:17.367423: I tensorflow/core/framework/local_rendezvous.cc:424] Local rendezvous recv item cancelled. Key hash: 17662422034860115762\n"
     ]
    },
    {
     "name": "stdout",
     "output_type": "stream",
     "text": [
      "\u001b[1m4/4\u001b[0m \u001b[32m━━━━━━━━━━━━━━━━━━━━\u001b[0m\u001b[37m\u001b[0m \u001b[1m1s\u001b[0m 138ms/step - accuracy: 0.4370 - loss: 47.4965 - val_accuracy: 0.1170 - val_loss: 8.9242 - learning_rate: 0.0010\n",
      "Epoch 3/20\n"
     ]
    },
    {
     "name": "stderr",
     "output_type": "stream",
     "text": [
      "2024-12-12 16:14:17.595822: I tensorflow/core/framework/local_rendezvous.cc:424] Local rendezvous recv item cancelled. Key hash: 4266677454130355594\n",
      "2024-12-12 16:14:17.595859: I tensorflow/core/framework/local_rendezvous.cc:424] Local rendezvous recv item cancelled. Key hash: 17662422034860115762\n"
     ]
    },
    {
     "name": "stdout",
     "output_type": "stream",
     "text": [
      "\u001b[1m4/4\u001b[0m \u001b[32m━━━━━━━━━━━━━━━━━━━━\u001b[0m\u001b[37m\u001b[0m \u001b[1m1s\u001b[0m 133ms/step - accuracy: 0.6350 - loss: 23.1083 - val_accuracy: 0.2553 - val_loss: 12.5211 - learning_rate: 0.0010\n",
      "Epoch 4/20\n"
     ]
    },
    {
     "name": "stderr",
     "output_type": "stream",
     "text": [
      "2024-12-12 16:14:18.320629: I tensorflow/core/framework/local_rendezvous.cc:424] Local rendezvous recv item cancelled. Key hash: 4266677454130355594\n",
      "2024-12-12 16:14:18.320682: I tensorflow/core/framework/local_rendezvous.cc:424] Local rendezvous recv item cancelled. Key hash: 17662422034860115762\n"
     ]
    },
    {
     "name": "stdout",
     "output_type": "stream",
     "text": [
      "\u001b[1m4/4\u001b[0m \u001b[32m━━━━━━━━━━━━━━━━━━━━\u001b[0m\u001b[37m\u001b[0m \u001b[1m0s\u001b[0m 58ms/step - accuracy: 0.7072 - loss: 17.4145"
     ]
    },
    {
     "name": "stderr",
     "output_type": "stream",
     "text": [
      "2024-12-12 16:14:18.819462: I tensorflow/core/framework/local_rendezvous.cc:424] Local rendezvous recv item cancelled. Key hash: 4266677454130355594\n",
      "2024-12-12 16:14:18.819488: I tensorflow/core/framework/local_rendezvous.cc:424] Local rendezvous recv item cancelled. Key hash: 17662422034860115762\n"
     ]
    },
    {
     "name": "stdout",
     "output_type": "stream",
     "text": [
      "\u001b[1m4/4\u001b[0m \u001b[32m━━━━━━━━━━━━━━━━━━━━\u001b[0m\u001b[37m\u001b[0m \u001b[1m1s\u001b[0m 136ms/step - accuracy: 0.7073 - loss: 16.9531 - val_accuracy: 0.3085 - val_loss: 8.8600 - learning_rate: 0.0010\n",
      "Epoch 5/20\n"
     ]
    },
    {
     "name": "stderr",
     "output_type": "stream",
     "text": [
      "2024-12-12 16:14:19.047961: I tensorflow/core/framework/local_rendezvous.cc:424] Local rendezvous recv item cancelled. Key hash: 4266677454130355594\n",
      "2024-12-12 16:14:19.048000: I tensorflow/core/framework/local_rendezvous.cc:424] Local rendezvous recv item cancelled. Key hash: 17662422034860115762\n"
     ]
    },
    {
     "name": "stdout",
     "output_type": "stream",
     "text": [
      "\u001b[1m4/4\u001b[0m \u001b[32m━━━━━━━━━━━━━━━━━━━━\u001b[0m\u001b[37m\u001b[0m \u001b[1m0s\u001b[0m 59ms/step - accuracy: 0.7738 - loss: 9.0480"
     ]
    },
    {
     "name": "stderr",
     "output_type": "stream",
     "text": [
      "2024-12-12 16:14:19.543435: I tensorflow/core/framework/local_rendezvous.cc:424] Local rendezvous recv item cancelled. Key hash: 4266677454130355594\n",
      "2024-12-12 16:14:19.543471: I tensorflow/core/framework/local_rendezvous.cc:424] Local rendezvous recv item cancelled. Key hash: 17662422034860115762\n"
     ]
    },
    {
     "name": "stdout",
     "output_type": "stream",
     "text": [
      "\u001b[1m4/4\u001b[0m \u001b[32m━━━━━━━━━━━━━━━━━━━━\u001b[0m\u001b[37m\u001b[0m \u001b[1m1s\u001b[0m 136ms/step - accuracy: 0.7744 - loss: 9.0441 - val_accuracy: 0.3298 - val_loss: 13.1245 - learning_rate: 0.0010\n",
      "Epoch 6/20\n"
     ]
    },
    {
     "name": "stderr",
     "output_type": "stream",
     "text": [
      "2024-12-12 16:14:19.771156: I tensorflow/core/framework/local_rendezvous.cc:424] Local rendezvous recv item cancelled. Key hash: 4266677454130355594\n",
      "2024-12-12 16:14:19.771190: I tensorflow/core/framework/local_rendezvous.cc:424] Local rendezvous recv item cancelled. Key hash: 17662422034860115762\n"
     ]
    },
    {
     "name": "stdout",
     "output_type": "stream",
     "text": [
      "\u001b[1m4/4\u001b[0m \u001b[32m━━━━━━━━━━━━━━━━━━━━\u001b[0m\u001b[37m\u001b[0m \u001b[1m1s\u001b[0m 135ms/step - accuracy: 0.8250 - loss: 6.5920 - val_accuracy: 0.4574 - val_loss: 16.3116 - learning_rate: 0.0010\n",
      "Epoch 7/20\n"
     ]
    },
    {
     "name": "stderr",
     "output_type": "stream",
     "text": [
      "2024-12-12 16:14:20.507776: I tensorflow/core/framework/local_rendezvous.cc:424] Local rendezvous recv item cancelled. Key hash: 4266677454130355594\n",
      "2024-12-12 16:14:20.507800: I tensorflow/core/framework/local_rendezvous.cc:424] Local rendezvous recv item cancelled. Key hash: 17662422034860115762\n"
     ]
    },
    {
     "name": "stdout",
     "output_type": "stream",
     "text": [
      "\u001b[1m3/4\u001b[0m \u001b[32m━━━━━━━━━━━━━━━\u001b[0m\u001b[37m━━━━━\u001b[0m \u001b[1m0s\u001b[0m 66ms/step - accuracy: 0.7778 - loss: 8.3677"
     ]
    },
    {
     "name": "stderr",
     "output_type": "stream",
     "text": [
      "2024-12-12 16:14:20.774867: W tensorflow/core/kernels/data/prefetch_autotuner.cc:52] Prefetch autotuner tried to allocate 25952916 bytes after encountering the first element of size 25952916 bytes.This already causes the autotune ram budget to be exceeded. To stay within the ram budget, either increase the ram budget or reduce element size\n"
     ]
    },
    {
     "name": "stdout",
     "output_type": "stream",
     "text": [
      "\u001b[1m4/4\u001b[0m \u001b[32m━━━━━━━━━━━━━━━━━━━━\u001b[0m\u001b[37m\u001b[0m \u001b[1m0s\u001b[0m 63ms/step - accuracy: 0.7929 - loss: 7.8369\n",
      "Epoch 7: ReduceLROnPlateau reducing learning rate to 1.0000000474974512e-06.\n",
      "\u001b[1m4/4\u001b[0m \u001b[32m━━━━━━━━━━━━━━━━━━━━\u001b[0m\u001b[37m\u001b[0m \u001b[1m1s\u001b[0m 142ms/step - accuracy: 0.8021 - loss: 7.5184 - val_accuracy: 0.4894 - val_loss: 18.2052 - learning_rate: 0.0010\n",
      "Epoch 8/20\n"
     ]
    },
    {
     "name": "stderr",
     "output_type": "stream",
     "text": [
      "2024-12-12 16:14:21.252469: I tensorflow/core/framework/local_rendezvous.cc:424] Local rendezvous recv item cancelled. Key hash: 4266677454130355594\n",
      "2024-12-12 16:14:21.252509: I tensorflow/core/framework/local_rendezvous.cc:424] Local rendezvous recv item cancelled. Key hash: 17662422034860115762\n"
     ]
    },
    {
     "name": "stdout",
     "output_type": "stream",
     "text": [
      "\u001b[1m4/4\u001b[0m \u001b[32m━━━━━━━━━━━━━━━━━━━━\u001b[0m\u001b[37m\u001b[0m \u001b[1m1s\u001b[0m 138ms/step - accuracy: 0.9063 - loss: 2.6926 - val_accuracy: 0.4681 - val_loss: 26.1816 - learning_rate: 1.0000e-06\n",
      "Epoch 9/20\n"
     ]
    },
    {
     "name": "stderr",
     "output_type": "stream",
     "text": [
      "2024-12-12 16:14:21.987205: I tensorflow/core/framework/local_rendezvous.cc:424] Local rendezvous recv item cancelled. Key hash: 4266677454130355594\n",
      "2024-12-12 16:14:21.987231: I tensorflow/core/framework/local_rendezvous.cc:424] Local rendezvous recv item cancelled. Key hash: 17662422034860115762\n"
     ]
    },
    {
     "name": "stdout",
     "output_type": "stream",
     "text": [
      "\u001b[1m4/4\u001b[0m \u001b[32m━━━━━━━━━━━━━━━━━━━━\u001b[0m\u001b[37m\u001b[0m \u001b[1m1s\u001b[0m 133ms/step - accuracy: 0.8779 - loss: 5.6284 - val_accuracy: 0.4681 - val_loss: 34.7020 - learning_rate: 1.0000e-06\n",
      "Epoch 10/20\n"
     ]
    },
    {
     "name": "stderr",
     "output_type": "stream",
     "text": [
      "2024-12-12 16:14:22.713381: I tensorflow/core/framework/local_rendezvous.cc:424] Local rendezvous recv item cancelled. Key hash: 4266677454130355594\n",
      "2024-12-12 16:14:22.713454: I tensorflow/core/framework/local_rendezvous.cc:424] Local rendezvous recv item cancelled. Key hash: 17662422034860115762\n"
     ]
    },
    {
     "name": "stdout",
     "output_type": "stream",
     "text": [
      "\u001b[1m4/4\u001b[0m \u001b[32m━━━━━━━━━━━━━━━━━━━━\u001b[0m\u001b[37m\u001b[0m \u001b[1m1s\u001b[0m 135ms/step - accuracy: 0.8730 - loss: 7.2049 - val_accuracy: 0.4468 - val_loss: 42.1031 - learning_rate: 1.0000e-06\n",
      "Epoch 11/20\n"
     ]
    },
    {
     "name": "stderr",
     "output_type": "stream",
     "text": [
      "2024-12-12 16:14:23.458076: I tensorflow/core/framework/local_rendezvous.cc:424] Local rendezvous recv item cancelled. Key hash: 4266677454130355594\n",
      "2024-12-12 16:14:23.458104: I tensorflow/core/framework/local_rendezvous.cc:424] Local rendezvous recv item cancelled. Key hash: 17662422034860115762\n"
     ]
    },
    {
     "name": "stdout",
     "output_type": "stream",
     "text": [
      "\u001b[1m4/4\u001b[0m \u001b[32m━━━━━━━━━━━━━━━━━━━━\u001b[0m\u001b[37m\u001b[0m \u001b[1m1s\u001b[0m 135ms/step - accuracy: 0.9055 - loss: 2.8932 - val_accuracy: 0.4255 - val_loss: 48.7773 - learning_rate: 1.0000e-06\n",
      "Epoch 12/20\n"
     ]
    },
    {
     "name": "stderr",
     "output_type": "stream",
     "text": [
      "2024-12-12 16:14:24.181971: I tensorflow/core/framework/local_rendezvous.cc:424] Local rendezvous recv item cancelled. Key hash: 4266677454130355594\n",
      "2024-12-12 16:14:24.181995: I tensorflow/core/framework/local_rendezvous.cc:424] Local rendezvous recv item cancelled. Key hash: 17662422034860115762\n"
     ]
    },
    {
     "name": "stdout",
     "output_type": "stream",
     "text": [
      "\u001b[1m4/4\u001b[0m \u001b[32m━━━━━━━━━━━━━━━━━━━━\u001b[0m\u001b[37m\u001b[0m \u001b[1m1s\u001b[0m 140ms/step - accuracy: 0.8862 - loss: 2.0373 - val_accuracy: 0.4255 - val_loss: 54.9355 - learning_rate: 1.0000e-06\n",
      "Epoch 13/20\n"
     ]
    },
    {
     "name": "stderr",
     "output_type": "stream",
     "text": [
      "2024-12-12 16:14:24.925767: I tensorflow/core/framework/local_rendezvous.cc:424] Local rendezvous recv item cancelled. Key hash: 4266677454130355594\n",
      "2024-12-12 16:14:24.925797: I tensorflow/core/framework/local_rendezvous.cc:424] Local rendezvous recv item cancelled. Key hash: 17662422034860115762\n"
     ]
    },
    {
     "name": "stdout",
     "output_type": "stream",
     "text": [
      "\u001b[1m4/4\u001b[0m \u001b[32m━━━━━━━━━━━━━━━━━━━━\u001b[0m\u001b[37m\u001b[0m \u001b[1m1s\u001b[0m 143ms/step - accuracy: 0.8791 - loss: 2.2799 - val_accuracy: 0.4255 - val_loss: 60.4418 - learning_rate: 1.0000e-06\n",
      "Epoch 14/20\n"
     ]
    },
    {
     "name": "stderr",
     "output_type": "stream",
     "text": [
      "2024-12-12 16:14:25.703064: I tensorflow/core/framework/local_rendezvous.cc:424] Local rendezvous recv item cancelled. Key hash: 4266677454130355594\n",
      "2024-12-12 16:14:25.703207: I tensorflow/core/framework/local_rendezvous.cc:424] Local rendezvous recv item cancelled. Key hash: 17662422034860115762\n"
     ]
    },
    {
     "name": "stdout",
     "output_type": "stream",
     "text": [
      "\u001b[1m4/4\u001b[0m \u001b[32m━━━━━━━━━━━━━━━━━━━━\u001b[0m\u001b[37m\u001b[0m \u001b[1m1s\u001b[0m 138ms/step - accuracy: 0.8741 - loss: 5.1271 - val_accuracy: 0.4255 - val_loss: 65.2911 - learning_rate: 1.0000e-06\n",
      "Epoch 15/20\n"
     ]
    },
    {
     "name": "stderr",
     "output_type": "stream",
     "text": [
      "2024-12-12 16:14:26.488052: I tensorflow/core/framework/local_rendezvous.cc:424] Local rendezvous recv item cancelled. Key hash: 4266677454130355594\n",
      "2024-12-12 16:14:26.488079: I tensorflow/core/framework/local_rendezvous.cc:424] Local rendezvous recv item cancelled. Key hash: 17662422034860115762\n"
     ]
    },
    {
     "name": "stdout",
     "output_type": "stream",
     "text": [
      "\u001b[1m3/4\u001b[0m \u001b[32m━━━━━━━━━━━━━━━\u001b[0m\u001b[37m━━━━━\u001b[0m \u001b[1m0s\u001b[0m 63ms/step - accuracy: 0.9024 - loss: 2.0363"
     ]
    },
    {
     "name": "stderr",
     "output_type": "stream",
     "text": [
      "2024-12-12 16:14:26.767178: W tensorflow/core/kernels/data/prefetch_autotuner.cc:52] Prefetch autotuner tried to allocate 25952916 bytes after encountering the first element of size 25952916 bytes.This already causes the autotune ram budget to be exceeded. To stay within the ram budget, either increase the ram budget or reduce element size\n"
     ]
    },
    {
     "name": "stdout",
     "output_type": "stream",
     "text": [
      "\u001b[1m4/4\u001b[0m \u001b[32m━━━━━━━━━━━━━━━━━━━━\u001b[0m\u001b[37m\u001b[0m \u001b[1m1s\u001b[0m 140ms/step - accuracy: 0.8953 - loss: 2.0961 - val_accuracy: 0.4255 - val_loss: 69.5844 - learning_rate: 1.0000e-06\n",
      "Epoch 16/20\n"
     ]
    },
    {
     "name": "stderr",
     "output_type": "stream",
     "text": [
      "2024-12-12 16:14:27.245444: I tensorflow/core/framework/local_rendezvous.cc:424] Local rendezvous recv item cancelled. Key hash: 4266677454130355594\n",
      "2024-12-12 16:14:27.245492: I tensorflow/core/framework/local_rendezvous.cc:424] Local rendezvous recv item cancelled. Key hash: 17662422034860115762\n"
     ]
    },
    {
     "name": "stdout",
     "output_type": "stream",
     "text": [
      "\u001b[1m3/4\u001b[0m \u001b[32m━━━━━━━━━━━━━━━\u001b[0m\u001b[37m━━━━━\u001b[0m \u001b[1m0s\u001b[0m 60ms/step - accuracy: 0.9444 - loss: 2.2857"
     ]
    },
    {
     "name": "stderr",
     "output_type": "stream",
     "text": [
      "2024-12-12 16:14:27.598827: W tensorflow/core/kernels/data/prefetch_autotuner.cc:52] Prefetch autotuner tried to allocate 25952916 bytes after encountering the first element of size 25952916 bytes.This already causes the autotune ram budget to be exceeded. To stay within the ram budget, either increase the ram budget or reduce element size\n"
     ]
    },
    {
     "name": "stdout",
     "output_type": "stream",
     "text": [
      "\u001b[1m4/4\u001b[0m \u001b[32m━━━━━━━━━━━━━━━━━━━━\u001b[0m\u001b[37m\u001b[0m \u001b[1m1s\u001b[0m 138ms/step - accuracy: 0.9359 - loss: 2.3119 - val_accuracy: 0.4043 - val_loss: 73.4905 - learning_rate: 1.0000e-06\n",
      "Epoch 17/20\n"
     ]
    },
    {
     "name": "stderr",
     "output_type": "stream",
     "text": [
      "2024-12-12 16:14:28.067586: I tensorflow/core/framework/local_rendezvous.cc:424] Local rendezvous recv item cancelled. Key hash: 4266677454130355594\n",
      "2024-12-12 16:14:28.067625: I tensorflow/core/framework/local_rendezvous.cc:424] Local rendezvous recv item cancelled. Key hash: 17662422034860115762\n"
     ]
    },
    {
     "name": "stdout",
     "output_type": "stream",
     "text": [
      "\u001b[1m4/4\u001b[0m \u001b[32m━━━━━━━━━━━━━━━━━━━━\u001b[0m\u001b[37m\u001b[0m \u001b[1m0s\u001b[0m 59ms/step - accuracy: 0.8955 - loss: 2.6441"
     ]
    },
    {
     "name": "stderr",
     "output_type": "stream",
     "text": [
      "2024-12-12 16:14:28.587495: I tensorflow/core/framework/local_rendezvous.cc:424] Local rendezvous recv item cancelled. Key hash: 4266677454130355594\n",
      "2024-12-12 16:14:28.587522: I tensorflow/core/framework/local_rendezvous.cc:424] Local rendezvous recv item cancelled. Key hash: 17662422034860115762\n"
     ]
    },
    {
     "name": "stdout",
     "output_type": "stream",
     "text": [
      "\u001b[1m4/4\u001b[0m \u001b[32m━━━━━━━━━━━━━━━━━━━━\u001b[0m\u001b[37m\u001b[0m \u001b[1m1s\u001b[0m 138ms/step - accuracy: 0.8964 - loss: 2.4891 - val_accuracy: 0.3936 - val_loss: 77.0144 - learning_rate: 1.0000e-06\n",
      "Epoch 18/20\n"
     ]
    },
    {
     "name": "stderr",
     "output_type": "stream",
     "text": [
      "2024-12-12 16:14:28.819761: I tensorflow/core/framework/local_rendezvous.cc:424] Local rendezvous recv item cancelled. Key hash: 4266677454130355594\n",
      "2024-12-12 16:14:28.819860: I tensorflow/core/framework/local_rendezvous.cc:424] Local rendezvous recv item cancelled. Key hash: 17662422034860115762\n"
     ]
    },
    {
     "name": "stdout",
     "output_type": "stream",
     "text": [
      "\u001b[1m3/4\u001b[0m \u001b[32m━━━━━━━━━━━━━━━\u001b[0m\u001b[37m━━━━━\u001b[0m \u001b[1m0s\u001b[0m 59ms/step - accuracy: 0.8805 - loss: 4.9391"
     ]
    },
    {
     "name": "stderr",
     "output_type": "stream",
     "text": [
      "2024-12-12 16:14:29.231132: W tensorflow/core/kernels/data/prefetch_autotuner.cc:52] Prefetch autotuner tried to allocate 25952916 bytes after encountering the first element of size 25952916 bytes.This already causes the autotune ram budget to be exceeded. To stay within the ram budget, either increase the ram budget or reduce element size\n"
     ]
    },
    {
     "name": "stdout",
     "output_type": "stream",
     "text": [
      "\u001b[1m4/4\u001b[0m \u001b[32m━━━━━━━━━━━━━━━━━━━━\u001b[0m\u001b[37m\u001b[0m \u001b[1m1s\u001b[0m 138ms/step - accuracy: 0.8852 - loss: 4.5230 - val_accuracy: 0.3936 - val_loss: 80.1656 - learning_rate: 1.0000e-06\n",
      "Epoch 19/20\n"
     ]
    },
    {
     "name": "stderr",
     "output_type": "stream",
     "text": [
      "2024-12-12 16:14:29.698177: I tensorflow/core/framework/local_rendezvous.cc:424] Local rendezvous recv item cancelled. Key hash: 4266677454130355594\n",
      "2024-12-12 16:14:29.698213: I tensorflow/core/framework/local_rendezvous.cc:424] Local rendezvous recv item cancelled. Key hash: 17662422034860115762\n"
     ]
    },
    {
     "name": "stdout",
     "output_type": "stream",
     "text": [
      "\u001b[1m4/4\u001b[0m \u001b[32m━━━━━━━━━━━━━━━━━━━━\u001b[0m\u001b[37m\u001b[0m \u001b[1m0s\u001b[0m 60ms/step - accuracy: 0.9069 - loss: 3.1930"
     ]
    },
    {
     "name": "stderr",
     "output_type": "stream",
     "text": [
      "2024-12-12 16:14:30.236196: I tensorflow/core/framework/local_rendezvous.cc:424] Local rendezvous recv item cancelled. Key hash: 4266677454130355594\n",
      "2024-12-12 16:14:30.236234: I tensorflow/core/framework/local_rendezvous.cc:424] Local rendezvous recv item cancelled. Key hash: 17662422034860115762\n"
     ]
    },
    {
     "name": "stdout",
     "output_type": "stream",
     "text": [
      "\u001b[1m4/4\u001b[0m \u001b[32m━━━━━━━━━━━━━━━━━━━━\u001b[0m\u001b[37m\u001b[0m \u001b[1m1s\u001b[0m 138ms/step - accuracy: 0.9086 - loss: 3.1470 - val_accuracy: 0.3936 - val_loss: 82.9212 - learning_rate: 1.0000e-06\n",
      "Epoch 20/20\n"
     ]
    },
    {
     "name": "stderr",
     "output_type": "stream",
     "text": [
      "2024-12-12 16:14:30.465124: I tensorflow/core/framework/local_rendezvous.cc:424] Local rendezvous recv item cancelled. Key hash: 4266677454130355594\n",
      "2024-12-12 16:14:30.465153: I tensorflow/core/framework/local_rendezvous.cc:424] Local rendezvous recv item cancelled. Key hash: 17662422034860115762\n"
     ]
    },
    {
     "name": "stdout",
     "output_type": "stream",
     "text": [
      "\u001b[1m4/4\u001b[0m \u001b[32m━━━━━━━━━━━━━━━━━━━━\u001b[0m\u001b[37m\u001b[0m \u001b[1m0s\u001b[0m 60ms/step - accuracy: 0.8822 - loss: 4.4419"
     ]
    },
    {
     "name": "stderr",
     "output_type": "stream",
     "text": [
      "2024-12-12 16:14:30.988876: I tensorflow/core/framework/local_rendezvous.cc:424] Local rendezvous recv item cancelled. Key hash: 4266677454130355594\n"
     ]
    },
    {
     "name": "stdout",
     "output_type": "stream",
     "text": [
      "\u001b[1m4/4\u001b[0m \u001b[32m━━━━━━━━━━━━━━━━━━━━\u001b[0m\u001b[37m\u001b[0m \u001b[1m1s\u001b[0m 139ms/step - accuracy: 0.8842 - loss: 4.2829 - val_accuracy: 0.3936 - val_loss: 85.3569 - learning_rate: 1.0000e-06\n"
     ]
    },
    {
     "name": "stderr",
     "output_type": "stream",
     "text": [
      "2024-12-12 16:14:31.216856: I tensorflow/core/framework/local_rendezvous.cc:424] Local rendezvous recv item cancelled. Key hash: 4266677454130355594\n",
      "2024-12-12 16:14:31.216893: I tensorflow/core/framework/local_rendezvous.cc:424] Local rendezvous recv item cancelled. Key hash: 17662422034860115762\n"
     ]
    },
    {
     "data": {
      "text/html": [
       "<pre style=\"white-space:pre;overflow-x:auto;line-height:normal;font-family:Menlo,'DejaVu Sans Mono',consolas,'Courier New',monospace\"><span style=\"font-weight: bold\">Model: \"sequential_11\"</span>\n",
       "</pre>\n"
      ],
      "text/plain": [
       "\u001b[1mModel: \"sequential_11\"\u001b[0m\n"
      ]
     },
     "metadata": {},
     "output_type": "display_data"
    },
    {
     "data": {
      "text/html": [
       "<pre style=\"white-space:pre;overflow-x:auto;line-height:normal;font-family:Menlo,'DejaVu Sans Mono',consolas,'Courier New',monospace\">┏━━━━━━━━━━━━━━━━━━━━━━━━━━━━━━━━━┳━━━━━━━━━━━━━━━━━━━━━━━━┳━━━━━━━━━━━━━━━┓\n",
       "┃<span style=\"font-weight: bold\"> Layer (type)                    </span>┃<span style=\"font-weight: bold\"> Output Shape           </span>┃<span style=\"font-weight: bold\">       Param # </span>┃\n",
       "┡━━━━━━━━━━━━━━━━━━━━━━━━━━━━━━━━━╇━━━━━━━━━━━━━━━━━━━━━━━━╇━━━━━━━━━━━━━━━┩\n",
       "│ conv2d_33 (<span style=\"color: #0087ff; text-decoration-color: #0087ff\">Conv2D</span>)              │ (<span style=\"color: #00d7ff; text-decoration-color: #00d7ff\">None</span>, <span style=\"color: #00af00; text-decoration-color: #00af00\">254</span>, <span style=\"color: #00af00; text-decoration-color: #00af00\">254</span>, <span style=\"color: #00af00; text-decoration-color: #00af00\">32</span>)   │           <span style=\"color: #00af00; text-decoration-color: #00af00\">896</span> │\n",
       "├─────────────────────────────────┼────────────────────────┼───────────────┤\n",
       "│ batch_normalization_33          │ (<span style=\"color: #00d7ff; text-decoration-color: #00d7ff\">None</span>, <span style=\"color: #00af00; text-decoration-color: #00af00\">254</span>, <span style=\"color: #00af00; text-decoration-color: #00af00\">254</span>, <span style=\"color: #00af00; text-decoration-color: #00af00\">32</span>)   │           <span style=\"color: #00af00; text-decoration-color: #00af00\">128</span> │\n",
       "│ (<span style=\"color: #0087ff; text-decoration-color: #0087ff\">BatchNormalization</span>)            │                        │               │\n",
       "├─────────────────────────────────┼────────────────────────┼───────────────┤\n",
       "│ max_pooling2d_33 (<span style=\"color: #0087ff; text-decoration-color: #0087ff\">MaxPooling2D</span>) │ (<span style=\"color: #00d7ff; text-decoration-color: #00d7ff\">None</span>, <span style=\"color: #00af00; text-decoration-color: #00af00\">127</span>, <span style=\"color: #00af00; text-decoration-color: #00af00\">127</span>, <span style=\"color: #00af00; text-decoration-color: #00af00\">32</span>)   │             <span style=\"color: #00af00; text-decoration-color: #00af00\">0</span> │\n",
       "├─────────────────────────────────┼────────────────────────┼───────────────┤\n",
       "│ dropout_44 (<span style=\"color: #0087ff; text-decoration-color: #0087ff\">Dropout</span>)            │ (<span style=\"color: #00d7ff; text-decoration-color: #00d7ff\">None</span>, <span style=\"color: #00af00; text-decoration-color: #00af00\">127</span>, <span style=\"color: #00af00; text-decoration-color: #00af00\">127</span>, <span style=\"color: #00af00; text-decoration-color: #00af00\">32</span>)   │             <span style=\"color: #00af00; text-decoration-color: #00af00\">0</span> │\n",
       "├─────────────────────────────────┼────────────────────────┼───────────────┤\n",
       "│ conv2d_34 (<span style=\"color: #0087ff; text-decoration-color: #0087ff\">Conv2D</span>)              │ (<span style=\"color: #00d7ff; text-decoration-color: #00d7ff\">None</span>, <span style=\"color: #00af00; text-decoration-color: #00af00\">125</span>, <span style=\"color: #00af00; text-decoration-color: #00af00\">125</span>, <span style=\"color: #00af00; text-decoration-color: #00af00\">64</span>)   │        <span style=\"color: #00af00; text-decoration-color: #00af00\">18,496</span> │\n",
       "├─────────────────────────────────┼────────────────────────┼───────────────┤\n",
       "│ batch_normalization_34          │ (<span style=\"color: #00d7ff; text-decoration-color: #00d7ff\">None</span>, <span style=\"color: #00af00; text-decoration-color: #00af00\">125</span>, <span style=\"color: #00af00; text-decoration-color: #00af00\">125</span>, <span style=\"color: #00af00; text-decoration-color: #00af00\">64</span>)   │           <span style=\"color: #00af00; text-decoration-color: #00af00\">256</span> │\n",
       "│ (<span style=\"color: #0087ff; text-decoration-color: #0087ff\">BatchNormalization</span>)            │                        │               │\n",
       "├─────────────────────────────────┼────────────────────────┼───────────────┤\n",
       "│ max_pooling2d_34 (<span style=\"color: #0087ff; text-decoration-color: #0087ff\">MaxPooling2D</span>) │ (<span style=\"color: #00d7ff; text-decoration-color: #00d7ff\">None</span>, <span style=\"color: #00af00; text-decoration-color: #00af00\">62</span>, <span style=\"color: #00af00; text-decoration-color: #00af00\">62</span>, <span style=\"color: #00af00; text-decoration-color: #00af00\">64</span>)     │             <span style=\"color: #00af00; text-decoration-color: #00af00\">0</span> │\n",
       "├─────────────────────────────────┼────────────────────────┼───────────────┤\n",
       "│ dropout_45 (<span style=\"color: #0087ff; text-decoration-color: #0087ff\">Dropout</span>)            │ (<span style=\"color: #00d7ff; text-decoration-color: #00d7ff\">None</span>, <span style=\"color: #00af00; text-decoration-color: #00af00\">62</span>, <span style=\"color: #00af00; text-decoration-color: #00af00\">62</span>, <span style=\"color: #00af00; text-decoration-color: #00af00\">64</span>)     │             <span style=\"color: #00af00; text-decoration-color: #00af00\">0</span> │\n",
       "├─────────────────────────────────┼────────────────────────┼───────────────┤\n",
       "│ conv2d_35 (<span style=\"color: #0087ff; text-decoration-color: #0087ff\">Conv2D</span>)              │ (<span style=\"color: #00d7ff; text-decoration-color: #00d7ff\">None</span>, <span style=\"color: #00af00; text-decoration-color: #00af00\">60</span>, <span style=\"color: #00af00; text-decoration-color: #00af00\">60</span>, <span style=\"color: #00af00; text-decoration-color: #00af00\">128</span>)    │        <span style=\"color: #00af00; text-decoration-color: #00af00\">73,856</span> │\n",
       "├─────────────────────────────────┼────────────────────────┼───────────────┤\n",
       "│ batch_normalization_35          │ (<span style=\"color: #00d7ff; text-decoration-color: #00d7ff\">None</span>, <span style=\"color: #00af00; text-decoration-color: #00af00\">60</span>, <span style=\"color: #00af00; text-decoration-color: #00af00\">60</span>, <span style=\"color: #00af00; text-decoration-color: #00af00\">128</span>)    │           <span style=\"color: #00af00; text-decoration-color: #00af00\">512</span> │\n",
       "│ (<span style=\"color: #0087ff; text-decoration-color: #0087ff\">BatchNormalization</span>)            │                        │               │\n",
       "├─────────────────────────────────┼────────────────────────┼───────────────┤\n",
       "│ max_pooling2d_35 (<span style=\"color: #0087ff; text-decoration-color: #0087ff\">MaxPooling2D</span>) │ (<span style=\"color: #00d7ff; text-decoration-color: #00d7ff\">None</span>, <span style=\"color: #00af00; text-decoration-color: #00af00\">30</span>, <span style=\"color: #00af00; text-decoration-color: #00af00\">30</span>, <span style=\"color: #00af00; text-decoration-color: #00af00\">128</span>)    │             <span style=\"color: #00af00; text-decoration-color: #00af00\">0</span> │\n",
       "├─────────────────────────────────┼────────────────────────┼───────────────┤\n",
       "│ dropout_46 (<span style=\"color: #0087ff; text-decoration-color: #0087ff\">Dropout</span>)            │ (<span style=\"color: #00d7ff; text-decoration-color: #00d7ff\">None</span>, <span style=\"color: #00af00; text-decoration-color: #00af00\">30</span>, <span style=\"color: #00af00; text-decoration-color: #00af00\">30</span>, <span style=\"color: #00af00; text-decoration-color: #00af00\">128</span>)    │             <span style=\"color: #00af00; text-decoration-color: #00af00\">0</span> │\n",
       "├─────────────────────────────────┼────────────────────────┼───────────────┤\n",
       "│ flatten_11 (<span style=\"color: #0087ff; text-decoration-color: #0087ff\">Flatten</span>)            │ (<span style=\"color: #00d7ff; text-decoration-color: #00d7ff\">None</span>, <span style=\"color: #00af00; text-decoration-color: #00af00\">115200</span>)         │             <span style=\"color: #00af00; text-decoration-color: #00af00\">0</span> │\n",
       "├─────────────────────────────────┼────────────────────────┼───────────────┤\n",
       "│ dense_22 (<span style=\"color: #0087ff; text-decoration-color: #0087ff\">Dense</span>)                │ (<span style=\"color: #00d7ff; text-decoration-color: #00d7ff\">None</span>, <span style=\"color: #00af00; text-decoration-color: #00af00\">256</span>)            │    <span style=\"color: #00af00; text-decoration-color: #00af00\">29,491,456</span> │\n",
       "├─────────────────────────────────┼────────────────────────┼───────────────┤\n",
       "│ dropout_47 (<span style=\"color: #0087ff; text-decoration-color: #0087ff\">Dropout</span>)            │ (<span style=\"color: #00d7ff; text-decoration-color: #00d7ff\">None</span>, <span style=\"color: #00af00; text-decoration-color: #00af00\">256</span>)            │             <span style=\"color: #00af00; text-decoration-color: #00af00\">0</span> │\n",
       "├─────────────────────────────────┼────────────────────────┼───────────────┤\n",
       "│ dense_23 (<span style=\"color: #0087ff; text-decoration-color: #0087ff\">Dense</span>)                │ (<span style=\"color: #00d7ff; text-decoration-color: #00d7ff\">None</span>, <span style=\"color: #00af00; text-decoration-color: #00af00\">5</span>)              │         <span style=\"color: #00af00; text-decoration-color: #00af00\">1,285</span> │\n",
       "└─────────────────────────────────┴────────────────────────┴───────────────┘\n",
       "</pre>\n"
      ],
      "text/plain": [
       "┏━━━━━━━━━━━━━━━━━━━━━━━━━━━━━━━━━┳━━━━━━━━━━━━━━━━━━━━━━━━┳━━━━━━━━━━━━━━━┓\n",
       "┃\u001b[1m \u001b[0m\u001b[1mLayer (type)                   \u001b[0m\u001b[1m \u001b[0m┃\u001b[1m \u001b[0m\u001b[1mOutput Shape          \u001b[0m\u001b[1m \u001b[0m┃\u001b[1m \u001b[0m\u001b[1m      Param #\u001b[0m\u001b[1m \u001b[0m┃\n",
       "┡━━━━━━━━━━━━━━━━━━━━━━━━━━━━━━━━━╇━━━━━━━━━━━━━━━━━━━━━━━━╇━━━━━━━━━━━━━━━┩\n",
       "│ conv2d_33 (\u001b[38;5;33mConv2D\u001b[0m)              │ (\u001b[38;5;45mNone\u001b[0m, \u001b[38;5;34m254\u001b[0m, \u001b[38;5;34m254\u001b[0m, \u001b[38;5;34m32\u001b[0m)   │           \u001b[38;5;34m896\u001b[0m │\n",
       "├─────────────────────────────────┼────────────────────────┼───────────────┤\n",
       "│ batch_normalization_33          │ (\u001b[38;5;45mNone\u001b[0m, \u001b[38;5;34m254\u001b[0m, \u001b[38;5;34m254\u001b[0m, \u001b[38;5;34m32\u001b[0m)   │           \u001b[38;5;34m128\u001b[0m │\n",
       "│ (\u001b[38;5;33mBatchNormalization\u001b[0m)            │                        │               │\n",
       "├─────────────────────────────────┼────────────────────────┼───────────────┤\n",
       "│ max_pooling2d_33 (\u001b[38;5;33mMaxPooling2D\u001b[0m) │ (\u001b[38;5;45mNone\u001b[0m, \u001b[38;5;34m127\u001b[0m, \u001b[38;5;34m127\u001b[0m, \u001b[38;5;34m32\u001b[0m)   │             \u001b[38;5;34m0\u001b[0m │\n",
       "├─────────────────────────────────┼────────────────────────┼───────────────┤\n",
       "│ dropout_44 (\u001b[38;5;33mDropout\u001b[0m)            │ (\u001b[38;5;45mNone\u001b[0m, \u001b[38;5;34m127\u001b[0m, \u001b[38;5;34m127\u001b[0m, \u001b[38;5;34m32\u001b[0m)   │             \u001b[38;5;34m0\u001b[0m │\n",
       "├─────────────────────────────────┼────────────────────────┼───────────────┤\n",
       "│ conv2d_34 (\u001b[38;5;33mConv2D\u001b[0m)              │ (\u001b[38;5;45mNone\u001b[0m, \u001b[38;5;34m125\u001b[0m, \u001b[38;5;34m125\u001b[0m, \u001b[38;5;34m64\u001b[0m)   │        \u001b[38;5;34m18,496\u001b[0m │\n",
       "├─────────────────────────────────┼────────────────────────┼───────────────┤\n",
       "│ batch_normalization_34          │ (\u001b[38;5;45mNone\u001b[0m, \u001b[38;5;34m125\u001b[0m, \u001b[38;5;34m125\u001b[0m, \u001b[38;5;34m64\u001b[0m)   │           \u001b[38;5;34m256\u001b[0m │\n",
       "│ (\u001b[38;5;33mBatchNormalization\u001b[0m)            │                        │               │\n",
       "├─────────────────────────────────┼────────────────────────┼───────────────┤\n",
       "│ max_pooling2d_34 (\u001b[38;5;33mMaxPooling2D\u001b[0m) │ (\u001b[38;5;45mNone\u001b[0m, \u001b[38;5;34m62\u001b[0m, \u001b[38;5;34m62\u001b[0m, \u001b[38;5;34m64\u001b[0m)     │             \u001b[38;5;34m0\u001b[0m │\n",
       "├─────────────────────────────────┼────────────────────────┼───────────────┤\n",
       "│ dropout_45 (\u001b[38;5;33mDropout\u001b[0m)            │ (\u001b[38;5;45mNone\u001b[0m, \u001b[38;5;34m62\u001b[0m, \u001b[38;5;34m62\u001b[0m, \u001b[38;5;34m64\u001b[0m)     │             \u001b[38;5;34m0\u001b[0m │\n",
       "├─────────────────────────────────┼────────────────────────┼───────────────┤\n",
       "│ conv2d_35 (\u001b[38;5;33mConv2D\u001b[0m)              │ (\u001b[38;5;45mNone\u001b[0m, \u001b[38;5;34m60\u001b[0m, \u001b[38;5;34m60\u001b[0m, \u001b[38;5;34m128\u001b[0m)    │        \u001b[38;5;34m73,856\u001b[0m │\n",
       "├─────────────────────────────────┼────────────────────────┼───────────────┤\n",
       "│ batch_normalization_35          │ (\u001b[38;5;45mNone\u001b[0m, \u001b[38;5;34m60\u001b[0m, \u001b[38;5;34m60\u001b[0m, \u001b[38;5;34m128\u001b[0m)    │           \u001b[38;5;34m512\u001b[0m │\n",
       "│ (\u001b[38;5;33mBatchNormalization\u001b[0m)            │                        │               │\n",
       "├─────────────────────────────────┼────────────────────────┼───────────────┤\n",
       "│ max_pooling2d_35 (\u001b[38;5;33mMaxPooling2D\u001b[0m) │ (\u001b[38;5;45mNone\u001b[0m, \u001b[38;5;34m30\u001b[0m, \u001b[38;5;34m30\u001b[0m, \u001b[38;5;34m128\u001b[0m)    │             \u001b[38;5;34m0\u001b[0m │\n",
       "├─────────────────────────────────┼────────────────────────┼───────────────┤\n",
       "│ dropout_46 (\u001b[38;5;33mDropout\u001b[0m)            │ (\u001b[38;5;45mNone\u001b[0m, \u001b[38;5;34m30\u001b[0m, \u001b[38;5;34m30\u001b[0m, \u001b[38;5;34m128\u001b[0m)    │             \u001b[38;5;34m0\u001b[0m │\n",
       "├─────────────────────────────────┼────────────────────────┼───────────────┤\n",
       "│ flatten_11 (\u001b[38;5;33mFlatten\u001b[0m)            │ (\u001b[38;5;45mNone\u001b[0m, \u001b[38;5;34m115200\u001b[0m)         │             \u001b[38;5;34m0\u001b[0m │\n",
       "├─────────────────────────────────┼────────────────────────┼───────────────┤\n",
       "│ dense_22 (\u001b[38;5;33mDense\u001b[0m)                │ (\u001b[38;5;45mNone\u001b[0m, \u001b[38;5;34m256\u001b[0m)            │    \u001b[38;5;34m29,491,456\u001b[0m │\n",
       "├─────────────────────────────────┼────────────────────────┼───────────────┤\n",
       "│ dropout_47 (\u001b[38;5;33mDropout\u001b[0m)            │ (\u001b[38;5;45mNone\u001b[0m, \u001b[38;5;34m256\u001b[0m)            │             \u001b[38;5;34m0\u001b[0m │\n",
       "├─────────────────────────────────┼────────────────────────┼───────────────┤\n",
       "│ dense_23 (\u001b[38;5;33mDense\u001b[0m)                │ (\u001b[38;5;45mNone\u001b[0m, \u001b[38;5;34m5\u001b[0m)              │         \u001b[38;5;34m1,285\u001b[0m │\n",
       "└─────────────────────────────────┴────────────────────────┴───────────────┘\n"
      ]
     },
     "metadata": {},
     "output_type": "display_data"
    },
    {
     "data": {
      "text/html": [
       "<pre style=\"white-space:pre;overflow-x:auto;line-height:normal;font-family:Menlo,'DejaVu Sans Mono',consolas,'Courier New',monospace\"><span style=\"font-weight: bold\"> Total params: </span><span style=\"color: #00af00; text-decoration-color: #00af00\">88,759,761</span> (338.59 MB)\n",
       "</pre>\n"
      ],
      "text/plain": [
       "\u001b[1m Total params: \u001b[0m\u001b[38;5;34m88,759,761\u001b[0m (338.59 MB)\n"
      ]
     },
     "metadata": {},
     "output_type": "display_data"
    },
    {
     "data": {
      "text/html": [
       "<pre style=\"white-space:pre;overflow-x:auto;line-height:normal;font-family:Menlo,'DejaVu Sans Mono',consolas,'Courier New',monospace\"><span style=\"font-weight: bold\"> Trainable params: </span><span style=\"color: #00af00; text-decoration-color: #00af00\">29,586,437</span> (112.86 MB)\n",
       "</pre>\n"
      ],
      "text/plain": [
       "\u001b[1m Trainable params: \u001b[0m\u001b[38;5;34m29,586,437\u001b[0m (112.86 MB)\n"
      ]
     },
     "metadata": {},
     "output_type": "display_data"
    },
    {
     "data": {
      "text/html": [
       "<pre style=\"white-space:pre;overflow-x:auto;line-height:normal;font-family:Menlo,'DejaVu Sans Mono',consolas,'Courier New',monospace\"><span style=\"font-weight: bold\"> Non-trainable params: </span><span style=\"color: #00af00; text-decoration-color: #00af00\">448</span> (1.75 KB)\n",
       "</pre>\n"
      ],
      "text/plain": [
       "\u001b[1m Non-trainable params: \u001b[0m\u001b[38;5;34m448\u001b[0m (1.75 KB)\n"
      ]
     },
     "metadata": {},
     "output_type": "display_data"
    },
    {
     "data": {
      "text/html": [
       "<pre style=\"white-space:pre;overflow-x:auto;line-height:normal;font-family:Menlo,'DejaVu Sans Mono',consolas,'Courier New',monospace\"><span style=\"font-weight: bold\"> Optimizer params: </span><span style=\"color: #00af00; text-decoration-color: #00af00\">59,172,876</span> (225.73 MB)\n",
       "</pre>\n"
      ],
      "text/plain": [
       "\u001b[1m Optimizer params: \u001b[0m\u001b[38;5;34m59,172,876\u001b[0m (225.73 MB)\n"
      ]
     },
     "metadata": {},
     "output_type": "display_data"
    },
    {
     "data": {
      "image/png": "[encoded data removed]",
      "text/plain": [
       "<Figure size 1200x600 with 2 Axes>"
      ]
     },
     "metadata": {},
     "output_type": "display_data"
    }
   ],
   "source": [
    "reduce_lr = keras.callbacks.ReduceLROnPlateau(\n",
    "    monitor='val_loss',\n",
    "    factor=0.001,\n",
    "    patience=3,\n",
    "    verbose=1,\n",
    "    min_lr=1e-6\n",
    ")\n",
    "\n",
    "history = model.fit(\n",
    "    train_dataset,\n",
    "    validation_data=test_dataset,\n",
    "    epochs=epochs,\n",
    "    callbacks=[reduce_lr],\n",
    "    verbose=1\n",
    ")\n",
    "\n",
    "model.save_weights(os.path.join(model_folder, weights_filename))\n",
    "model.save(os.path.join(model_folder, model_filename))\n",
    "\n",
    "model.summary()\n",
    "\n",
    "fig, (ax1, ax2) = plt.subplots(1,2, figsize=(12, 6))\n",
    "fig.suptitle('Accuracy and Loss during Training')\n",
    "\n",
    "# Plot Accuracy\n",
    "ax1.set_title(\"Accuracy\")\n",
    "ax1.plot(history.history['accuracy'], label='Train Accuracy')\n",
    "ax1.plot(history.history['val_accuracy'], label='Test Accuracy')\n",
    "ax1.set(xlabel=\"epochs\")\n",
    "ax1.legend()\n",
    "\n",
    "# Plot Loss\n",
    "ax2.set_title(\"Loss\")\n",
    "ax2.plot(history.history['loss'], label='Train Loss')\n",
    "ax2.plot(history.history['val_loss'], label='Test Loss')\n",
    "ax2.set(xlabel=\"epochs\")\n",
    "ax2.legend()\n",
    "\n",
    "plt.show()"
   ]
  },
  {
   "cell_type": "markdown",
   "metadata": {},
   "source": [
    "# Performancetest des Modells"
   ]
  },
  {
   "cell_type": "code",
   "execution_count": 72,
   "metadata": {},
   "outputs": [
    {
     "name": "stdout",
     "output_type": "stream",
     "text": [
      "Model loaded successfully!\n",
      "Class labels: {0: 'Chihuahua', 1: 'Maltese Dog', 2: 'Komondor', 3: 'German Shepherd', 4: 'African Hunting Dog'}\n",
      "Testing image: (<tf.Tensor: shape=(33, 256, 256, 3), dtype=float32, numpy=\n",
      "array([[[[0.16206037, 0.2444133 , 0.12102176],\n",
      "         [0.2108216 , 0.28572303, 0.15905792],\n",
      "         [0.2515871 , 0.32665944, 0.19948162],\n",
      "         ...,\n",
      "         [0.06834915, 0.20909837, 0.6489719 ],\n",
      "         [0.07432801, 0.20360191, 0.5709043 ],\n",
      "         [0.06896548, 0.19655433, 0.5554315 ]],\n",
      "\n",
      "        [[0.1615554 , 0.24117395, 0.10368724],\n",
      "         [0.17215995, 0.24171112, 0.10375306],\n",
      "         [0.22076668, 0.29054046, 0.15191458],\n",
      "         ...,\n",
      "         [0.14684197, 0.27693033, 0.57623327],\n",
      "         [0.14047487, 0.25670034, 0.4956449 ],\n",
      "         [0.10564797, 0.21901347, 0.4507077 ]],\n",
      "\n",
      "        [[0.15462449, 0.22065543, 0.07947896],\n",
      "         [0.16651851, 0.2358353 , 0.08690508],\n",
      "         [0.22406311, 0.28617248, 0.139803  ],\n",
      "         ...,\n",
      "         [0.04697732, 0.14130841, 0.28444394],\n",
      "         [0.00108768, 0.06442004, 0.16405496],\n",
      "         [0.0041769 , 0.04297731, 0.1361452 ]],\n",
      "\n",
      "        ...,\n",
      "\n",
      "        [[0.8429715 , 0.79057413, 0.7343582 ],\n",
      "         [0.9231397 , 0.87191933, 0.7602108 ],\n",
      "         [0.9875829 , 0.96851164, 0.8040202 ],\n",
      "         ...,\n",
      "         [0.82583463, 0.72717327, 0.5687285 ],\n",
      "         [0.96767247, 0.90045196, 0.74299186],\n",
      "         [0.7814092 , 0.7062637 , 0.5525796 ]],\n",
      "\n",
      "        [[0.69914496, 0.6302198 , 0.54542714],\n",
      "         [0.7677632 , 0.7041618 , 0.59004724],\n",
      "         [0.7920167 , 0.7351948 , 0.59912974],\n",
      "         ...,\n",
      "         [0.64179856, 0.54289895, 0.41419953],\n",
      "         [0.8895094 , 0.80994445, 0.6457073 ],\n",
      "         [0.9539215 , 0.8968208 , 0.7333577 ]],\n",
      "\n",
      "        [[0.7268585 , 0.6378212 , 0.52692527],\n",
      "         [0.7462117 , 0.6668566 , 0.5450245 ],\n",
      "         [0.6916614 , 0.62740743, 0.51233304],\n",
      "         ...,\n",
      "         [0.570701  , 0.46815047, 0.38036793],\n",
      "         [0.63497823, 0.5541199 , 0.40384975],\n",
      "         [0.81492525, 0.75077105, 0.60206985]]],\n",
      "\n",
      "\n",
      "       [[[0.21256894, 0.1655101 , 0.21256894],\n",
      "         [0.21754749, 0.17048867, 0.21754749],\n",
      "         [0.22252604, 0.17546722, 0.22252604],\n",
      "         ...,\n",
      "         [0.2459712 , 0.20675552, 0.24204963],\n",
      "         [0.2559283 , 0.21671262, 0.25200674],\n",
      "         [0.26249233, 0.22327666, 0.25857076]],\n",
      "\n",
      "        [[0.2177577 , 0.17069888, 0.2177577 ],\n",
      "         [0.22202052, 0.1749617 , 0.22202052],\n",
      "         [0.22699907, 0.17994025, 0.22699907],\n",
      "         ...,\n",
      "         [0.25100163, 0.21178594, 0.24708007],\n",
      "         [0.26040134, 0.22118565, 0.25647977],\n",
      "         [0.2669654 , 0.22774969, 0.26304382]],\n",
      "\n",
      "        [[0.22352941, 0.1764706 , 0.22352941],\n",
      "         [0.22455749, 0.17749867, 0.22455749],\n",
      "         [0.22778578, 0.18072695, 0.22778578],\n",
      "         ...,\n",
      "         [0.25480238, 0.2155867 , 0.2508808 ],\n",
      "         [0.26211703, 0.22290134, 0.25819546],\n",
      "         [0.26868108, 0.22946538, 0.2647595 ]],\n",
      "\n",
      "        ...,\n",
      "\n",
      "        [[0.39784205, 0.43369356, 0.35115483],\n",
      "         [0.4382795 , 0.48079392, 0.3960342 ],\n",
      "         [0.42653832, 0.47359714, 0.38732263],\n",
      "         ...,\n",
      "         [0.4888043 , 0.5550213 , 0.39166445],\n",
      "         [0.4981388 , 0.5642481 , 0.40121436],\n",
      "         [0.4963312 , 0.56180495, 0.40067774]],\n",
      "\n",
      "        [[0.40648994, 0.44178408, 0.35943112],\n",
      "         [0.42786202, 0.46791255, 0.38397413],\n",
      "         [0.42759752, 0.47465634, 0.38838184],\n",
      "         ...,\n",
      "         [0.47485447, 0.54152113, 0.37681526],\n",
      "         [0.48511794, 0.55178463, 0.38707873],\n",
      "         [0.4859877 , 0.5526544 , 0.38794848]],\n",
      "\n",
      "        [[0.45706812, 0.49236223, 0.4100093 ],\n",
      "         [0.44710135, 0.48715192, 0.4032135 ],\n",
      "         [0.4518726 , 0.4989314 , 0.4126569 ],\n",
      "         ...,\n",
      "         [0.47141743, 0.5380841 , 0.3733782 ],\n",
      "         [0.48413756, 0.55080426, 0.38609836],\n",
      "         [0.48572305, 0.5523897 , 0.3876838 ]]],\n",
      "\n",
      "\n",
      "       [[[0.6769627 , 0.69264895, 0.6887274 ],\n",
      "         [0.61121327, 0.62689954, 0.622978  ],\n",
      "         [0.6013639 , 0.6170502 , 0.6131286 ],\n",
      "         ...,\n",
      "         [0.62131774, 0.6173962 , 0.6031375 ],\n",
      "         [0.77696306, 0.77696306, 0.77696306],\n",
      "         [0.6175482 , 0.6175482 , 0.6175482 ]],\n",
      "\n",
      "        [[0.572173  , 0.5878593 , 0.5839377 ],\n",
      "         [0.09108917, 0.10230282, 0.09838125],\n",
      "         [0.09754746, 0.11323374, 0.10931217],\n",
      "         ...,\n",
      "         [0.26045364, 0.25254738, 0.24568649],\n",
      "         [0.24758792, 0.24758792, 0.24758792],\n",
      "         [0.31659073, 0.31659073, 0.31659073]],\n",
      "\n",
      "        [[0.5597036 , 0.57538986, 0.5714683 ],\n",
      "         [0.10895488, 0.12229106, 0.11836949],\n",
      "         [0.09344351, 0.10912978, 0.10520821],\n",
      "         ...,\n",
      "         [0.3604272 , 0.35085323, 0.34938246],\n",
      "         [0.60777223, 0.6044021 , 0.6060872 ],\n",
      "         [0.28891376, 0.28891376, 0.28891376]],\n",
      "\n",
      "        ...,\n",
      "\n",
      "        [[0.6000863 , 0.6000863 , 0.5983123 ],\n",
      "         [0.35795277, 0.35795277, 0.35245973],\n",
      "         [0.493337  , 0.4940495 , 0.48406887],\n",
      "         ...,\n",
      "         [0.26166514, 0.30891562, 0.25342372],\n",
      "         [0.56953084, 0.5840286 , 0.5700823 ],\n",
      "         [0.26681298, 0.27465612, 0.27073455]],\n",
      "\n",
      "        [[0.6061231 , 0.6061231 , 0.6139662 ],\n",
      "         [0.39438063, 0.39438063, 0.399242  ],\n",
      "         [0.5603906 , 0.5603906 , 0.5609484 ],\n",
      "         ...,\n",
      "         [0.5716859 , 0.58868825, 0.569293  ],\n",
      "         [0.39274058, 0.4005837 , 0.38920736],\n",
      "         [0.26469588, 0.27253902, 0.2607743 ]],\n",
      "\n",
      "        [[0.46333575, 0.46188846, 0.47670892],\n",
      "         [0.19479299, 0.19321606, 0.20578997],\n",
      "         [0.18177556, 0.18177556, 0.1887332 ],\n",
      "         ...,\n",
      "         [0.26424518, 0.25188923, 0.2780611 ],\n",
      "         [0.20859076, 0.21405771, 0.2068512 ],\n",
      "         [0.18294474, 0.19078788, 0.17902318]]],\n",
      "\n",
      "\n",
      "       ...,\n",
      "\n",
      "\n",
      "       [[[0.66759825, 0.6950492 , 0.6249454 ],\n",
      "         [0.74213195, 0.7695829 , 0.69956344],\n",
      "         [0.6915566 , 0.71900755, 0.6484193 ],\n",
      "         ...,\n",
      "         [0.41887254, 0.48307386, 0.32576403],\n",
      "         [0.4579427 , 0.5219133 , 0.37015358],\n",
      "         [0.47098365, 0.54157186, 0.3925523 ]],\n",
      "\n",
      "        [[0.7387782 , 0.76550245, 0.70257354],\n",
      "         [0.7359825 , 0.7625804 , 0.7006319 ],\n",
      "         [0.7013739 , 0.72882485, 0.6602587 ],\n",
      "         ...,\n",
      "         [0.43096182, 0.49329618, 0.3415556 ],\n",
      "         [0.43080002, 0.49445465, 0.34991288],\n",
      "         [0.41956764, 0.48813382, 0.34113625]],\n",
      "\n",
      "        [[0.7507937 , 0.7749521 , 0.72216225],\n",
      "         [0.69435894, 0.71823776, 0.666007  ],\n",
      "         [0.6688266 , 0.69459254, 0.63521755],\n",
      "         ...,\n",
      "         [0.38563305, 0.44409946, 0.2998698 ],\n",
      "         [0.43000537, 0.4910654 , 0.35494408],\n",
      "         [0.4059197 , 0.46697974, 0.33328068]],\n",
      "\n",
      "        ...,\n",
      "\n",
      "        [[0.60198665, 0.5588494 , 0.55100626],\n",
      "         [0.8315334 , 0.7784697 , 0.7739354 ],\n",
      "         [0.7477855 , 0.680261  , 0.68344724],\n",
      "         ...,\n",
      "         [0.6537827 , 0.61758006, 0.60729647],\n",
      "         [0.7265022 , 0.6928931 , 0.6907734 ],\n",
      "         [0.7301911 , 0.7014045 , 0.7014514 ]],\n",
      "\n",
      "        [[0.70431983, 0.6611826 , 0.6475184 ],\n",
      "         [0.871965  , 0.8189013 , 0.8134574 ],\n",
      "         [0.7323568 , 0.66483223, 0.6680185 ],\n",
      "         ...,\n",
      "         [0.61013424, 0.5744294 , 0.5840313 ],\n",
      "         [0.6529584 , 0.62594116, 0.6402746 ],\n",
      "         [0.7709626 , 0.74785346, 0.76844174]],\n",
      "\n",
      "        [[0.8152947 , 0.77215743, 0.75647116],\n",
      "         [0.83955747, 0.7864938 , 0.78073394],\n",
      "         [0.71799266, 0.6504682 , 0.6565669 ],\n",
      "         ...,\n",
      "         [0.62989527, 0.5988578 , 0.6192622 ],\n",
      "         [0.7693302 , 0.74328375, 0.76988167],\n",
      "         [0.81103325, 0.7912358 , 0.8184446 ]]],\n",
      "\n",
      "\n",
      "       [[[0.3727252 , 0.38056833, 0.22958793],\n",
      "         [0.27584252, 0.2797641 , 0.14980085],\n",
      "         [0.16883425, 0.17064951, 0.05615043],\n",
      "         ...,\n",
      "         [0.24168964, 0.35994178, 0.10714614],\n",
      "         [0.1814951 , 0.29522058, 0.0464614 ],\n",
      "         [0.1375383 , 0.25518537, 0.01564032]],\n",
      "\n",
      "        [[0.36316636, 0.37689185, 0.24047947],\n",
      "         [0.23599878, 0.24748008, 0.12045803],\n",
      "         [0.25819546, 0.25819546, 0.15727635],\n",
      "         ...,\n",
      "         [0.24467678, 0.3658701 , 0.10243566],\n",
      "         [0.22480851, 0.338534  , 0.0767693 ],\n",
      "         [0.11065411, 0.22970282, 0.00233609]],\n",
      "\n",
      "        [[0.29144454, 0.30418965, 0.18654259],\n",
      "         [0.24935661, 0.2621017 , 0.15566789],\n",
      "         [0.21886489, 0.22356005, 0.13688725],\n",
      "         ...,\n",
      "         [0.20720741, 0.33835018, 0.05764399],\n",
      "         [0.20569853, 0.3254519 , 0.04883578],\n",
      "         [0.17889859, 0.30247396, 0.03039216]],\n",
      "\n",
      "        ...,\n",
      "\n",
      "        [[0.8319929 , 0.83983606, 0.6888557 ],\n",
      "         [0.6657169 , 0.68477327, 0.5407935 ],\n",
      "         [0.64175093, 0.67552084, 0.5362209 ],\n",
      "         ...,\n",
      "         [0.79053307, 0.757284  , 0.5886336 ],\n",
      "         [0.6248238 , 0.6120634 , 0.3955576 ],\n",
      "         [0.6617264 , 0.64972425, 0.42708334]],\n",
      "\n",
      "        [[0.6517999 , 0.66930914, 0.50054383],\n",
      "         [0.69570315, 0.72526044, 0.5602788 ],\n",
      "         [0.7730162 , 0.8073912 , 0.6574525 ],\n",
      "         ...,\n",
      "         [0.7101716 , 0.6830959 , 0.4707261 ],\n",
      "         [0.65897673, 0.63530177, 0.41555607],\n",
      "         [0.6684283 , 0.6426547 , 0.42393535]],\n",
      "\n",
      "        [[0.586129  , 0.6096584 , 0.4233839 ],\n",
      "         [0.7076057 , 0.7384268 , 0.5675628 ],\n",
      "         [0.7285999 , 0.7652267 , 0.6082797 ],\n",
      "         ...,\n",
      "         [0.6241881 , 0.5993643 , 0.3716682 ],\n",
      "         [0.5506587 , 0.49968597, 0.37989432],\n",
      "         [0.57522976, 0.5199066 , 0.4174326 ]]],\n",
      "\n",
      "\n",
      "       [[[0.3411964 , 0.3647258 , 0.23139247],\n",
      "         [0.37662378, 0.39829198, 0.26868108],\n",
      "         [0.36462936, 0.3842372 , 0.25874698],\n",
      "         ...,\n",
      "         [0.26083046, 0.33926183, 0.3039677 ],\n",
      "         [0.27926174, 0.35769314, 0.31621793],\n",
      "         [0.25274047, 0.3443765 , 0.26430604]],\n",
      "\n",
      "        [[0.29072458, 0.314254  , 0.17307751],\n",
      "         [0.33054087, 0.35407028, 0.21661623],\n",
      "         [0.33065274, 0.35241303, 0.22261795],\n",
      "         ...,\n",
      "         [0.2849272 , 0.37038216, 0.32578197],\n",
      "         [0.25952557, 0.34393886, 0.3004033 ],\n",
      "         [0.24460916, 0.337486  , 0.25679514]],\n",
      "\n",
      "        [[0.2999847 , 0.3235141 , 0.18233763],\n",
      "         [0.3441636 , 0.36955422, 0.23210019],\n",
      "         [0.35150918, 0.37896016, 0.24562684],\n",
      "         ...,\n",
      "         [0.240042  , 0.33415964, 0.2797635 ],\n",
      "         [0.20411287, 0.29568726, 0.24162818],\n",
      "         [0.19675294, 0.2875773 , 0.20743768]],\n",
      "\n",
      "        ...,\n",
      "\n",
      "        [[0.25182322, 0.2669274 , 0.17570508],\n",
      "         [0.24892093, 0.2640251 , 0.17719147],\n",
      "         [0.27104133, 0.2861455 , 0.20520127],\n",
      "         ...,\n",
      "         [0.1608432 , 0.1951961 , 0.17953192],\n",
      "         [0.13475604, 0.1720334 , 0.15138443],\n",
      "         [0.14471424, 0.20843218, 0.15744396]],\n",
      "\n",
      "        [[0.28628984, 0.35379285, 0.2658333 ],\n",
      "         [0.24529533, 0.30633426, 0.22395833],\n",
      "         [0.24132948, 0.29057887, 0.22015183],\n",
      "         ...,\n",
      "         [0.10990529, 0.1578989 , 0.11374278],\n",
      "         [0.13558045, 0.195064  , 0.13795166],\n",
      "         [0.1426011 , 0.2158701 , 0.13544731]],\n",
      "\n",
      "        [[0.21695772, 0.29146752, 0.20519301],\n",
      "         [0.17924942, 0.24631438, 0.1656235 ],\n",
      "         [0.1802543 , 0.23287377, 0.16146599],\n",
      "         ...,\n",
      "         [0.19970056, 0.24839848, 0.20052011],\n",
      "         [0.21033487, 0.2714179 , 0.21013573],\n",
      "         [0.22472589, 0.29799488, 0.21420199]]]], dtype=float32)>, <tf.Tensor: shape=(33, 5), dtype=float32, numpy=\n",
      "array([[1., 0., 0., 0., 0.],\n",
      "       [0., 0., 1., 0., 0.],\n",
      "       [0., 0., 1., 0., 0.],\n",
      "       [1., 0., 0., 0., 0.],\n",
      "       [0., 0., 0., 1., 0.],\n",
      "       [0., 1., 0., 0., 0.],\n",
      "       [0., 0., 1., 0., 0.],\n",
      "       [0., 0., 1., 0., 0.],\n",
      "       [1., 0., 0., 0., 0.],\n",
      "       [0., 0., 1., 0., 0.],\n",
      "       [0., 0., 0., 1., 0.],\n",
      "       [0., 1., 0., 0., 0.],\n",
      "       [0., 0., 0., 1., 0.],\n",
      "       [0., 0., 0., 1., 0.],\n",
      "       [1., 0., 0., 0., 0.],\n",
      "       [0., 1., 0., 0., 0.],\n",
      "       [0., 0., 0., 1., 0.],\n",
      "       [0., 0., 1., 0., 0.],\n",
      "       [0., 0., 0., 1., 0.],\n",
      "       [0., 0., 1., 0., 0.],\n",
      "       [0., 0., 0., 1., 0.],\n",
      "       [0., 0., 0., 0., 1.],\n",
      "       [0., 0., 1., 0., 0.],\n",
      "       [0., 0., 0., 0., 1.],\n",
      "       [0., 0., 1., 0., 0.],\n",
      "       [1., 0., 0., 0., 0.],\n",
      "       [0., 1., 0., 0., 0.],\n",
      "       [0., 0., 0., 1., 0.],\n",
      "       [0., 0., 0., 0., 1.],\n",
      "       [0., 0., 0., 0., 1.],\n",
      "       [0., 0., 0., 0., 1.],\n",
      "       [0., 0., 0., 1., 0.],\n",
      "       [0., 0., 0., 1., 0.]], dtype=float32)>)\n"
     ]
    },
    {
     "ename": "InvalidArgumentError",
     "evalue": "{{function_node __wrapped__Pack_N_2_device_/job:localhost/replica:0/task:0/device:GPU:0}} Shapes of all inputs must match: values[0].shape = [33,256,256,3] != values[1].shape = [33,5] [Op:Pack] name: images",
     "output_type": "error",
     "traceback": [
      "\u001b[0;31m---------------------------------------------------------------------------\u001b[0m",
      "\u001b[0;31mInvalidArgumentError\u001b[0m                      Traceback (most recent call last)",
      "Cell \u001b[0;32mIn[72], line 39\u001b[0m\n\u001b[1;32m     37\u001b[0m \u001b[38;5;28;01mfor\u001b[39;00m img \u001b[38;5;129;01min\u001b[39;00m train_dataset:\n\u001b[1;32m     38\u001b[0m     \u001b[38;5;28mprint\u001b[39m(\u001b[38;5;124mf\u001b[39m\u001b[38;5;124m\"\u001b[39m\u001b[38;5;124mTesting image: \u001b[39m\u001b[38;5;132;01m{\u001b[39;00mimg\u001b[38;5;132;01m}\u001b[39;00m\u001b[38;5;124m\"\u001b[39m)\n\u001b[0;32m---> 39\u001b[0m     \u001b[43mpredict_image\u001b[49m\u001b[43m(\u001b[49m\u001b[43mimg\u001b[49m\u001b[43m)\u001b[49m\n",
      "Cell \u001b[0;32mIn[72], line 24\u001b[0m, in \u001b[0;36mpredict_image\u001b[0;34m(img)\u001b[0m\n\u001b[1;32m     23\u001b[0m \u001b[38;5;28;01mdef\u001b[39;00m \u001b[38;5;21mpredict_image\u001b[39m(img):\n\u001b[0;32m---> 24\u001b[0m     preprocessed_image \u001b[38;5;241m=\u001b[39m \u001b[43mpreprocess_image\u001b[49m\u001b[43m(\u001b[49m\u001b[43mimg\u001b[49m\u001b[43m)\u001b[49m\n\u001b[1;32m     25\u001b[0m     predictions \u001b[38;5;241m=\u001b[39m model\u001b[38;5;241m.\u001b[39mpredict(preprocessed_image)\n\u001b[1;32m     26\u001b[0m     predicted_class \u001b[38;5;241m=\u001b[39m np\u001b[38;5;241m.\u001b[39margmax(predictions, axis\u001b[38;5;241m=\u001b[39m\u001b[38;5;241m-\u001b[39m\u001b[38;5;241m1\u001b[39m)[\u001b[38;5;241m0\u001b[39m]\n",
      "Cell \u001b[0;32mIn[72], line 17\u001b[0m, in \u001b[0;36mpreprocess_image\u001b[0;34m(img)\u001b[0m\n\u001b[1;32m     16\u001b[0m \u001b[38;5;28;01mdef\u001b[39;00m \u001b[38;5;21mpreprocess_image\u001b[39m(img):\n\u001b[0;32m---> 17\u001b[0m     img_array \u001b[38;5;241m=\u001b[39m \u001b[43mtf\u001b[49m\u001b[38;5;241;43m.\u001b[39;49m\u001b[43mimage\u001b[49m\u001b[38;5;241;43m.\u001b[39;49m\u001b[43mresize\u001b[49m\u001b[43m(\u001b[49m\u001b[43mimg\u001b[49m\u001b[43m,\u001b[49m\u001b[43m \u001b[49m\u001b[43mresize_size\u001b[49m\u001b[43m)\u001b[49m\n\u001b[1;32m     18\u001b[0m     img_array \u001b[38;5;241m=\u001b[39m np\u001b[38;5;241m.\u001b[39mexpand_dims(img_array, axis\u001b[38;5;241m=\u001b[39m\u001b[38;5;241m0\u001b[39m)  \u001b[38;5;66;03m# Add batch dimension\u001b[39;00m\n\u001b[1;32m     19\u001b[0m     img_array \u001b[38;5;241m=\u001b[39m img_array \u001b[38;5;241m/\u001b[39m \u001b[38;5;241m255.0\u001b[39m  \u001b[38;5;66;03m# Normalize pixel values to [0, 1]\u001b[39;00m\n",
      "File \u001b[0;32m~/Documents/git/ml-lecture/.venv/lib/python3.12/site-packages/tensorflow/python/util/traceback_utils.py:153\u001b[0m, in \u001b[0;36mfilter_traceback.<locals>.error_handler\u001b[0;34m(*args, **kwargs)\u001b[0m\n\u001b[1;32m    151\u001b[0m \u001b[38;5;28;01mexcept\u001b[39;00m \u001b[38;5;167;01mException\u001b[39;00m \u001b[38;5;28;01mas\u001b[39;00m e:\n\u001b[1;32m    152\u001b[0m   filtered_tb \u001b[38;5;241m=\u001b[39m _process_traceback_frames(e\u001b[38;5;241m.\u001b[39m__traceback__)\n\u001b[0;32m--> 153\u001b[0m   \u001b[38;5;28;01mraise\u001b[39;00m e\u001b[38;5;241m.\u001b[39mwith_traceback(filtered_tb) \u001b[38;5;28;01mfrom\u001b[39;00m \u001b[38;5;28;01mNone\u001b[39;00m\n\u001b[1;32m    154\u001b[0m \u001b[38;5;28;01mfinally\u001b[39;00m:\n\u001b[1;32m    155\u001b[0m   \u001b[38;5;28;01mdel\u001b[39;00m filtered_tb\n",
      "File \u001b[0;32m~/Documents/git/ml-lecture/.venv/lib/python3.12/site-packages/tensorflow/python/framework/ops.py:6002\u001b[0m, in \u001b[0;36mraise_from_not_ok_status\u001b[0;34m(e, name)\u001b[0m\n\u001b[1;32m   6000\u001b[0m \u001b[38;5;28;01mdef\u001b[39;00m \u001b[38;5;21mraise_from_not_ok_status\u001b[39m(e, name) \u001b[38;5;241m-\u001b[39m\u001b[38;5;241m>\u001b[39m NoReturn:\n\u001b[1;32m   6001\u001b[0m   e\u001b[38;5;241m.\u001b[39mmessage \u001b[38;5;241m+\u001b[39m\u001b[38;5;241m=\u001b[39m (\u001b[38;5;124m\"\u001b[39m\u001b[38;5;124m name: \u001b[39m\u001b[38;5;124m\"\u001b[39m \u001b[38;5;241m+\u001b[39m \u001b[38;5;28mstr\u001b[39m(name \u001b[38;5;28;01mif\u001b[39;00m name \u001b[38;5;129;01mis\u001b[39;00m \u001b[38;5;129;01mnot\u001b[39;00m \u001b[38;5;28;01mNone\u001b[39;00m \u001b[38;5;28;01melse\u001b[39;00m \u001b[38;5;124m\"\u001b[39m\u001b[38;5;124m\"\u001b[39m))\n\u001b[0;32m-> 6002\u001b[0m   \u001b[38;5;28;01mraise\u001b[39;00m core\u001b[38;5;241m.\u001b[39m_status_to_exception(e) \u001b[38;5;28;01mfrom\u001b[39;00m \u001b[38;5;28;01mNone\u001b[39;00m\n",
      "\u001b[0;31mInvalidArgumentError\u001b[0m: {{function_node __wrapped__Pack_N_2_device_/job:localhost/replica:0/task:0/device:GPU:0}} Shapes of all inputs must match: values[0].shape = [33,256,256,3] != values[1].shape = [33,5] [Op:Pack] name: images"
     ]
    }
   ],
   "source": [
    "model = keras.models.load_model(os.path.join(model_folder, model_filename))\n",
    "print(\"Model loaded successfully!\")\n",
    "\n",
    "# Step 2: Define Class Labels\n",
    "# Ensure these match the class labels used during training\n",
    "class_labels = {\n",
    "    0: \"Chihuahua\",\n",
    "    1: \"Maltese Dog\",\n",
    "    2: \"Komondor\",\n",
    "    3: \"German Shepherd\",\n",
    "    4: \"African Hunting Dog\"\n",
    "}\n",
    "print(\"Class labels:\", class_labels)\n",
    "\n",
    "# Step 3: Define Image Preprocessing Function\n",
    "def preprocess_image(img):\n",
    "    img_array = tf.image.resize(img, resize_size)\n",
    "    img_array = np.expand_dims(img_array, axis=0)  # Add batch dimension\n",
    "    img_array = img_array / 255.0  # Normalize pixel values to [0, 1]\n",
    "    return img_array\n",
    "\n",
    "# Step 4: Predict Function\n",
    "def predict_image(img):\n",
    "    preprocessed_image = preprocess_image(img)\n",
    "    predictions = model.predict(preprocessed_image)\n",
    "    predicted_class = np.argmax(predictions, axis=-1)[0]\n",
    "    predicted_label = class_labels[predicted_class]\n",
    "\n",
    "    # Display the image with its prediction\n",
    "    img = keras.preprocessing.image.load_img(img)\n",
    "    plt.imshow(img)\n",
    "    plt.title(f\"Predicted: {predicted_label}\")\n",
    "    plt.axis(\"off\")\n",
    "    plt.show()\n",
    "    print(f\"Predicted Label: {predicted_label}\")\n",
    "\n",
    "for img in train_dataset:\n",
    "    print(f\"Testing image: {img}\")\n",
    "    predict_image(img)\n"
   ]
  }
 ],
 "metadata": {
  "kernelspec": {
   "display_name": ".venv",
   "language": "python",
   "name": "python3"
  },
  "language_info": {
   "codemirror_mode": {
    "name": "ipython",
    "version": 3
   },
   "file_extension": ".py",
   "mimetype": "text/x-python",
   "name": "python",
   "nbconvert_exporter": "python",
   "pygments_lexer": "ipython3",
   "version": "3.12.7"
  }
 },
 "nbformat": 4,
 "nbformat_minor": 2
}

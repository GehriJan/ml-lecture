{
 "cells": [
  {
   "cell_type": "markdown",
   "metadata": {},
   "source": [
    "# Deep Learning\n",
    "\n",
    "## Aufgabem\n",
    "1. _Laden der Daten und Splitting in Trainings- und Testdaten (Verhältnis 75:25)._\n",
    "2. _Überlegen Sie sich eine geeignete Netzwerkarchitektur für die Klassifikationsaufgabe._\n",
    "3. _Implementieren Sie Ihr Netzwerk in Keras/Tensorflow._\n",
    "4. _Wahlen Sie eine geeignete Loss-Funktion und einen geeigneten Optimizer. Begründen Sie Ihre\n",
    "Auswahl in Ihrem Kurzreport._\n",
    "5. _Evaluieren Sie Ihr ML-System und stellen Sie die Ergebnisse in geeigneter Weise dar. Nutzen Sie\n",
    "zur Evaluation eine Kreuzvalidierung (3-fold)._\n",
    "6. _In dem Notebook `transfer_learning.ipynb`_\n",
    "\n",
    "### Laden der Daten und Splitting in Trainings- und Testdaten (Verhältnis 75:25)\n",
    "Dieser Schritt ist identisch bei _Merkmalsbasierte Klassifikation_ und _Deep Learning_ und wurde somit in `setup.py` ausgelagert.\n",
    "Dort wird das Verhältnis durch `split=['train[75%:]', 'test[:25%]']` erstellt.\n"
   ]
  },
  {
   "cell_type": "code",
   "execution_count": null,
   "metadata": {},
   "outputs": [],
   "source": [
    "from tensorflow.keras.preprocessing.image import load_img, img_to_array\n",
    "from tensorflow.keras.models import Sequential, load_model\n",
    "from tensorflow.keras.optimizers import Adam\n",
    "import tensorflow as tf\n",
    "from tensorflow.keras.layers import Conv2D, MaxPooling2D, Flatten, Dense, Dropout\n",
    "import matplotlib.pyplot as plt\n",
    "%matplotlib inline\n",
    "\n",
    "import numpy as np\n",
    "import os\n",
    "from pathlib import Path\n",
    "import sys\n",
    "\n",
    "notebook_dir = Path().resolve()\n",
    "sys.path.append(str(notebook_dir.parent))\n",
    "\n",
    "from setup import setup_dataset\n",
    "\n",
    "train_dataset, test_dataset, metadata = setup_dataset('../dataset')\n",
    "\n",
    "verification_image_dir = '../dataset/verification'\n",
    "model_folder = 'models/'\n",
    "model_filename = 'dog_classifier.h5'\n",
    "weights_filename = 'model.weights.h5'"
   ]
  },
  {
   "cell_type": "markdown",
   "metadata": {},
   "source": [
    "### Überlegen Sie sich eine geeignete Netzwerkarchitektur für die Klassifikationsaufgabe.\n",
    "### Implementieren Sie Ihr Netzwerk in Keras/Tensorflow.\n",
    "### Wahlen Sie eine geeignete Loss-Funktion und einen geeigneten Optimizer. Begründen Sie Ihre\n",
    "Auswahl in Ihrem Kurzreport._"
   ]
  },
  {
   "cell_type": "code",
   "execution_count": 11,
   "metadata": {},
   "outputs": [
    {
     "name": "stdout",
     "output_type": "stream",
     "text": [
      "Epoch 1/15\n",
      "\u001b[1m5/5\u001b[0m \u001b[32m━━━━━━━━━━━━━━━━━━━━\u001b[0m\u001b[37m\u001b[0m \u001b[1m3s\u001b[0m 382ms/step - accuracy: 0.3835 - loss: 1.0740 - val_accuracy: 0.6400 - val_loss: 1.3760\n",
      "Epoch 2/15\n"
     ]
    },
    {
     "name": "stderr",
     "output_type": "stream",
     "text": [
      "2024-12-10 11:08:06.046788: I tensorflow/core/framework/local_rendezvous.cc:424] Local rendezvous recv item cancelled. Key hash: 13566228589279304123\n",
      "2024-12-10 11:08:06.046812: I tensorflow/core/framework/local_rendezvous.cc:424] Local rendezvous recv item cancelled. Key hash: 5468732834743256518\n"
     ]
    },
    {
     "name": "stdout",
     "output_type": "stream",
     "text": [
      "\u001b[1m5/5\u001b[0m \u001b[32m━━━━━━━━━━━━━━━━━━━━\u001b[0m\u001b[37m\u001b[0m \u001b[1m1s\u001b[0m 82ms/step - accuracy: 0.6716 - loss: 0.8697 - val_accuracy: 0.3600 - val_loss: 0.9462\n",
      "Epoch 3/15\n"
     ]
    },
    {
     "name": "stderr",
     "output_type": "stream",
     "text": [
      "2024-12-10 11:08:06.665306: I tensorflow/core/framework/local_rendezvous.cc:424] Local rendezvous recv item cancelled. Key hash: 13566228589279304123\n",
      "2024-12-10 11:08:06.665334: I tensorflow/core/framework/local_rendezvous.cc:424] Local rendezvous recv item cancelled. Key hash: 5468732834743256518\n"
     ]
    },
    {
     "name": "stdout",
     "output_type": "stream",
     "text": [
      "\u001b[1m5/5\u001b[0m \u001b[32m━━━━━━━━━━━━━━━━━━━━\u001b[0m\u001b[37m\u001b[0m \u001b[1m1s\u001b[0m 82ms/step - accuracy: 0.3364 - loss: 5.4091 - val_accuracy: 0.6400 - val_loss: 16.1420\n",
      "Epoch 4/15\n"
     ]
    },
    {
     "name": "stderr",
     "output_type": "stream",
     "text": [
      "2024-12-10 11:08:07.286079: I tensorflow/core/framework/local_rendezvous.cc:424] Local rendezvous recv item cancelled. Key hash: 13566228589279304123\n",
      "2024-12-10 11:08:07.286105: I tensorflow/core/framework/local_rendezvous.cc:424] Local rendezvous recv item cancelled. Key hash: 5468732834743256518\n"
     ]
    },
    {
     "name": "stdout",
     "output_type": "stream",
     "text": [
      "\u001b[1m5/5\u001b[0m \u001b[32m━━━━━━━━━━━━━━━━━━━━\u001b[0m\u001b[37m\u001b[0m \u001b[1m1s\u001b[0m 92ms/step - accuracy: 0.4297 - loss: 24.1874 - val_accuracy: 0.6400 - val_loss: 8.6739\n",
      "Epoch 5/15\n"
     ]
    },
    {
     "name": "stderr",
     "output_type": "stream",
     "text": [
      "2024-12-10 11:08:07.953965: I tensorflow/core/framework/local_rendezvous.cc:424] Local rendezvous recv item cancelled. Key hash: 13566228589279304123\n",
      "2024-12-10 11:08:07.953993: I tensorflow/core/framework/local_rendezvous.cc:424] Local rendezvous recv item cancelled. Key hash: 5468732834743256518\n"
     ]
    },
    {
     "name": "stdout",
     "output_type": "stream",
     "text": [
      "\u001b[1m5/5\u001b[0m \u001b[32m━━━━━━━━━━━━━━━━━━━━\u001b[0m\u001b[37m\u001b[0m \u001b[1m1s\u001b[0m 88ms/step - accuracy: 0.4145 - loss: 80.1483 - val_accuracy: 0.6400 - val_loss: 85.6530\n",
      "Epoch 6/15\n"
     ]
    },
    {
     "name": "stderr",
     "output_type": "stream",
     "text": [
      "2024-12-10 11:08:08.610566: I tensorflow/core/framework/local_rendezvous.cc:424] Local rendezvous recv item cancelled. Key hash: 13566228589279304123\n"
     ]
    },
    {
     "name": "stdout",
     "output_type": "stream",
     "text": [
      "\u001b[1m5/5\u001b[0m \u001b[32m━━━━━━━━━━━━━━━━━━━━\u001b[0m\u001b[37m\u001b[0m \u001b[1m0s\u001b[0m 35ms/step - accuracy: 0.4002 - loss: 340.3130"
     ]
    },
    {
     "name": "stderr",
     "output_type": "stream",
     "text": [
      "2024-12-10 11:08:09.062525: I tensorflow/core/framework/local_rendezvous.cc:424] Local rendezvous recv item cancelled. Key hash: 13566228589279304123\n",
      "2024-12-10 11:08:09.062550: I tensorflow/core/framework/local_rendezvous.cc:424] Local rendezvous recv item cancelled. Key hash: 5468732834743256518\n"
     ]
    },
    {
     "name": "stdout",
     "output_type": "stream",
     "text": [
      "\u001b[1m5/5\u001b[0m \u001b[32m━━━━━━━━━━━━━━━━━━━━\u001b[0m\u001b[37m\u001b[0m \u001b[1m1s\u001b[0m 89ms/step - accuracy: 0.3997 - loss: 340.6150 - val_accuracy: 0.3600 - val_loss: 87.3640\n",
      "Epoch 7/15\n"
     ]
    },
    {
     "name": "stderr",
     "output_type": "stream",
     "text": [
      "2024-12-10 11:08:09.271202: I tensorflow/core/framework/local_rendezvous.cc:424] Local rendezvous recv item cancelled. Key hash: 13566228589279304123\n",
      "2024-12-10 11:08:09.271225: I tensorflow/core/framework/local_rendezvous.cc:424] Local rendezvous recv item cancelled. Key hash: 5468732834743256518\n"
     ]
    },
    {
     "name": "stdout",
     "output_type": "stream",
     "text": [
      "\u001b[1m5/5\u001b[0m \u001b[32m━━━━━━━━━━━━━━━━━━━━\u001b[0m\u001b[37m\u001b[0m \u001b[1m1s\u001b[0m 86ms/step - accuracy: 0.3130 - loss: 992.0707 - val_accuracy: 0.6400 - val_loss: 777.7184\n",
      "Epoch 8/15\n"
     ]
    },
    {
     "name": "stderr",
     "output_type": "stream",
     "text": [
      "2024-12-10 11:08:09.913971: I tensorflow/core/framework/local_rendezvous.cc:424] Local rendezvous recv item cancelled. Key hash: 13566228589279304123\n",
      "2024-12-10 11:08:09.914009: I tensorflow/core/framework/local_rendezvous.cc:424] Local rendezvous recv item cancelled. Key hash: 5468732834743256518\n"
     ]
    },
    {
     "name": "stdout",
     "output_type": "stream",
     "text": [
      "\u001b[1m5/5\u001b[0m \u001b[32m━━━━━━━━━━━━━━━━━━━━\u001b[0m\u001b[37m\u001b[0m \u001b[1m1s\u001b[0m 95ms/step - accuracy: 0.4469 - loss: 1594.6851 - val_accuracy: 0.6400 - val_loss: 2778.7002\n",
      "Epoch 9/15\n"
     ]
    },
    {
     "name": "stderr",
     "output_type": "stream",
     "text": [
      "2024-12-10 11:08:10.736903: I tensorflow/core/framework/local_rendezvous.cc:424] Local rendezvous recv item cancelled. Key hash: 13566228589279304123\n",
      "2024-12-10 11:08:10.736931: I tensorflow/core/framework/local_rendezvous.cc:424] Local rendezvous recv item cancelled. Key hash: 5468732834743256518\n"
     ]
    },
    {
     "name": "stdout",
     "output_type": "stream",
     "text": [
      "\u001b[1m3/5\u001b[0m \u001b[32m━━━━━━━━━━━━\u001b[0m\u001b[37m━━━━━━━━\u001b[0m \u001b[1m0s\u001b[0m 39ms/step - accuracy: 0.4167 - loss: 3001.6484 "
     ]
    },
    {
     "name": "stderr",
     "output_type": "stream",
     "text": [
      "2024-12-10 11:08:11.084943: W tensorflow/core/kernels/data/prefetch_autotuner.cc:52] Prefetch autotuner tried to allocate 19268224 bytes after encountering the first element of size 19268224 bytes.This already causes the autotune ram budget to be exceeded. To stay within the ram budget, either increase the ram budget or reduce element size\n"
     ]
    },
    {
     "name": "stdout",
     "output_type": "stream",
     "text": [
      "\u001b[1m5/5\u001b[0m \u001b[32m━━━━━━━━━━━━━━━━━━━━\u001b[0m\u001b[37m\u001b[0m \u001b[1m1s\u001b[0m 84ms/step - accuracy: 0.4519 - loss: 3113.4878 - val_accuracy: 0.6400 - val_loss: 1730.7848\n",
      "Epoch 10/15\n"
     ]
    },
    {
     "name": "stderr",
     "output_type": "stream",
     "text": [
      "2024-12-10 11:08:11.464030: I tensorflow/core/framework/local_rendezvous.cc:424] Local rendezvous recv item cancelled. Key hash: 13566228589279304123\n",
      "2024-12-10 11:08:11.464063: I tensorflow/core/framework/local_rendezvous.cc:424] Local rendezvous recv item cancelled. Key hash: 5468732834743256518\n"
     ]
    },
    {
     "name": "stdout",
     "output_type": "stream",
     "text": [
      "\u001b[1m5/5\u001b[0m \u001b[32m━━━━━━━━━━━━━━━━━━━━\u001b[0m\u001b[37m\u001b[0m \u001b[1m1s\u001b[0m 90ms/step - accuracy: 0.3546 - loss: 8029.7632 - val_accuracy: 0.6400 - val_loss: 2344.3755\n",
      "Epoch 11/15\n"
     ]
    },
    {
     "name": "stderr",
     "output_type": "stream",
     "text": [
      "2024-12-10 11:08:12.105740: I tensorflow/core/framework/local_rendezvous.cc:424] Local rendezvous recv item cancelled. Key hash: 13566228589279304123\n",
      "2024-12-10 11:08:12.105766: I tensorflow/core/framework/local_rendezvous.cc:424] Local rendezvous recv item cancelled. Key hash: 5468732834743256518\n"
     ]
    },
    {
     "name": "stdout",
     "output_type": "stream",
     "text": [
      "\u001b[1m5/5\u001b[0m \u001b[32m━━━━━━━━━━━━━━━━━━━━\u001b[0m\u001b[37m\u001b[0m \u001b[1m1s\u001b[0m 90ms/step - accuracy: 0.3609 - loss: 19317.8516 - val_accuracy: 0.6400 - val_loss: 2038.0643\n",
      "Epoch 12/15\n"
     ]
    },
    {
     "name": "stderr",
     "output_type": "stream",
     "text": [
      "2024-12-10 11:08:12.861982: I tensorflow/core/framework/local_rendezvous.cc:424] Local rendezvous recv item cancelled. Key hash: 13566228589279304123\n",
      "2024-12-10 11:08:12.862012: I tensorflow/core/framework/local_rendezvous.cc:424] Local rendezvous recv item cancelled. Key hash: 5468732834743256518\n"
     ]
    },
    {
     "name": "stdout",
     "output_type": "stream",
     "text": [
      "\u001b[1m5/5\u001b[0m \u001b[32m━━━━━━━━━━━━━━━━━━━━\u001b[0m\u001b[37m\u001b[0m \u001b[1m1s\u001b[0m 89ms/step - accuracy: 0.4224 - loss: 31832.0938 - val_accuracy: 0.6400 - val_loss: 12602.3086\n",
      "Epoch 13/15\n"
     ]
    },
    {
     "name": "stderr",
     "output_type": "stream",
     "text": [
      "2024-12-10 11:08:13.538810: I tensorflow/core/framework/local_rendezvous.cc:424] Local rendezvous recv item cancelled. Key hash: 13566228589279304123\n",
      "2024-12-10 11:08:13.538835: I tensorflow/core/framework/local_rendezvous.cc:424] Local rendezvous recv item cancelled. Key hash: 5468732834743256518\n"
     ]
    },
    {
     "name": "stdout",
     "output_type": "stream",
     "text": [
      "\u001b[1m4/5\u001b[0m \u001b[32m━━━━━━━━━━━━━━━━\u001b[0m\u001b[37m━━━━\u001b[0m \u001b[1m0s\u001b[0m 61ms/step - accuracy: 0.4160 - loss: 41090.5547"
     ]
    },
    {
     "name": "stderr",
     "output_type": "stream",
     "text": [
      "2024-12-10 11:08:14.100655: I tensorflow/core/framework/local_rendezvous.cc:424] Local rendezvous recv item cancelled. Key hash: 13566228589279304123\n",
      "2024-12-10 11:08:14.100681: I tensorflow/core/framework/local_rendezvous.cc:424] Local rendezvous recv item cancelled. Key hash: 5468732834743256518\n"
     ]
    },
    {
     "name": "stdout",
     "output_type": "stream",
     "text": [
      "\u001b[1m5/5\u001b[0m \u001b[32m━━━━━━━━━━━━━━━━━━━━\u001b[0m\u001b[37m\u001b[0m \u001b[1m1s\u001b[0m 113ms/step - accuracy: 0.4173 - loss: 41902.0312 - val_accuracy: 0.6400 - val_loss: 10871.1758\n",
      "Epoch 14/15\n"
     ]
    },
    {
     "name": "stderr",
     "output_type": "stream",
     "text": [
      "2024-12-10 11:08:14.352901: I tensorflow/core/framework/local_rendezvous.cc:424] Local rendezvous recv item cancelled. Key hash: 13566228589279304123\n",
      "2024-12-10 11:08:14.352928: I tensorflow/core/framework/local_rendezvous.cc:424] Local rendezvous recv item cancelled. Key hash: 5468732834743256518\n"
     ]
    },
    {
     "name": "stdout",
     "output_type": "stream",
     "text": [
      "\u001b[1m3/5\u001b[0m \u001b[32m━━━━━━━━━━━━\u001b[0m\u001b[37m━━━━━━━━\u001b[0m \u001b[1m0s\u001b[0m 39ms/step - accuracy: 0.4149 - loss: 68547.9531 "
     ]
    },
    {
     "name": "stderr",
     "output_type": "stream",
     "text": [
      "2024-12-10 11:08:14.801788: I tensorflow/core/framework/local_rendezvous.cc:424] Local rendezvous recv item cancelled. Key hash: 13566228589279304123\n",
      "2024-12-10 11:08:14.801822: I tensorflow/core/framework/local_rendezvous.cc:424] Local rendezvous recv item cancelled. Key hash: 5468732834743256518\n"
     ]
    },
    {
     "name": "stdout",
     "output_type": "stream",
     "text": [
      "\u001b[1m5/5\u001b[0m \u001b[32m━━━━━━━━━━━━━━━━━━━━\u001b[0m\u001b[37m\u001b[0m \u001b[1m1s\u001b[0m 83ms/step - accuracy: 0.4216 - loss: 70395.5000 - val_accuracy: 0.5700 - val_loss: 1365.8975\n",
      "Epoch 15/15\n"
     ]
    },
    {
     "name": "stderr",
     "output_type": "stream",
     "text": [
      "2024-12-10 11:08:15.012684: I tensorflow/core/framework/local_rendezvous.cc:424] Local rendezvous recv item cancelled. Key hash: 13566228589279304123\n",
      "2024-12-10 11:08:15.012709: I tensorflow/core/framework/local_rendezvous.cc:424] Local rendezvous recv item cancelled. Key hash: 5468732834743256518\n"
     ]
    },
    {
     "name": "stdout",
     "output_type": "stream",
     "text": [
      "\u001b[1m3/5\u001b[0m \u001b[32m━━━━━━━━━━━━\u001b[0m\u001b[37m━━━━━━━━\u001b[0m \u001b[1m0s\u001b[0m 41ms/step - accuracy: 0.4062 - loss: 112427.8906 "
     ]
    },
    {
     "name": "stderr",
     "output_type": "stream",
     "text": [
      "2024-12-10 11:08:15.455540: I tensorflow/core/framework/local_rendezvous.cc:424] Local rendezvous recv item cancelled. Key hash: 13566228589279304123\n",
      "2024-12-10 11:08:15.455570: I tensorflow/core/framework/local_rendezvous.cc:424] Local rendezvous recv item cancelled. Key hash: 5468732834743256518\n",
      "2024-12-10 11:08:15.655118: I tensorflow/core/framework/local_rendezvous.cc:424] Local rendezvous recv item cancelled. Key hash: 13566228589279304123\n",
      "2024-12-10 11:08:15.655149: I tensorflow/core/framework/local_rendezvous.cc:424] Local rendezvous recv item cancelled. Key hash: 5468732834743256518\n"
     ]
    },
    {
     "name": "stdout",
     "output_type": "stream",
     "text": [
      "\u001b[1m5/5\u001b[0m \u001b[32m━━━━━━━━━━━━━━━━━━━━\u001b[0m\u001b[37m\u001b[0m \u001b[1m1s\u001b[0m 82ms/step - accuracy: 0.4249 - loss: 107843.2500 - val_accuracy: 0.6400 - val_loss: 45141.1797\n"
     ]
    },
    {
     "name": "stderr",
     "output_type": "stream",
     "text": [
      "WARNING:absl:You are saving your model as an HDF5 file via `model.save()` or `keras.saving.save_model(model)`. This file format is considered legacy. We recommend using instead the native Keras format, e.g. `model.save('my_model.keras')` or `keras.saving.save_model(model, 'my_model.keras')`. \n"
     ]
    },
    {
     "data": {
      "image/png": "[encoded data removed]",
      "text/plain": [
       "<Figure size 640x480 with 1 Axes>"
      ]
     },
     "metadata": {},
     "output_type": "display_data"
    }
   ],
   "source": [
    "num_classes = 5\n",
    "model = Sequential([\n",
    "    Conv2D(32, (3, 3), activation='relu', input_shape=(224, 224, 3)),\n",
    "    MaxPooling2D(pool_size=(2, 2)),\n",
    "    Conv2D(64, (3, 3), activation='relu'),\n",
    "    MaxPooling2D(pool_size=(2, 2)),\n",
    "    Conv2D(128, (3, 3), activation='relu'),\n",
    "    MaxPooling2D(pool_size=(2, 2)),\n",
    "    Flatten(),\n",
    "    Dense(128, activation='relu'),\n",
    "    Dropout(0.5),\n",
    "    Dense(num_classes, activation='softmax')  # Number of classes\n",
    "])\n",
    "\n",
    "def preprocess(img, label):\n",
    "    img = tf.image.resize(img, (224, 224))  # Größe anpassen\n",
    "    img = img / 255.0  # Normalisierung\n",
    "    return img, tf.one_hot(label, num_classes)  # One-Hot-Encoding der Labels\n",
    "\n",
    "batch_size = 32\n",
    "train_dataset = (\n",
    "    train_dataset\n",
    "        .map(preprocess)\n",
    "        .shuffle(1000)\n",
    "        .batch(batch_size)\n",
    "        .prefetch(tf.data.AUTOTUNE)\n",
    ")\n",
    "\n",
    "test_dataset = (\n",
    "    test_dataset\n",
    "        .map(preprocess)\n",
    "        .batch(batch_size)\n",
    "        .prefetch(tf.data.AUTOTUNE)\n",
    ")\n",
    "\n",
    "\n",
    "model.compile(\n",
    "    optimizer=Adam(learning_rate=0.001),\n",
    "    loss='categorical_crossentropy',\n",
    "    metrics=['accuracy']\n",
    ")\n",
    "\n",
    "history = model.fit(\n",
    "    train_dataset,\n",
    "    validation_data=test_dataset,\n",
    "    epochs=15,\n",
    "    verbose=1\n",
    ")\n",
    "\n",
    "model.save_weights(os.path.join(model_folder, weights_filename))\n",
    "model.save(os.path.join(model_folder, model_filename)) \n",
    "\n",
    "# Plot Accuracy\n",
    "plt.plot(history.history['accuracy'], label='Train Accuracy')\n",
    "plt.plot(history.history['val_accuracy'], label='Test Accuracy')\n",
    "plt.legend()\n",
    "\n",
    "# Plot Loss\n",
    "plt.plot(history.history['loss'], label='Train Loss')\n",
    "plt.plot(history.history['val_loss'], label='Test Loss')\n",
    "plt.legend()\n",
    "plt.show()\n"
   ]
  },
  {
   "cell_type": "markdown",
   "metadata": {},
   "source": [
    "# Performancetest des Modells"
   ]
  },
  {
   "cell_type": "code",
   "execution_count": 12,
   "metadata": {},
   "outputs": [
    {
     "name": "stderr",
     "output_type": "stream",
     "text": [
      "WARNING:absl:Compiled the loaded model, but the compiled metrics have yet to be built. `model.compile_metrics` will be empty until you train or evaluate the model.\n"
     ]
    },
    {
     "name": "stdout",
     "output_type": "stream",
     "text": [
      "Model loaded successfully!\n",
      "Class labels: {0: 'Chihuahua', 1: 'Maltese Dog', 2: 'Komondor', 3: 'German Shepherd', 4: 'African Hunting Dog'}\n",
      "Testing image: (<tf.Tensor: shape=(32, 224, 224, 3), dtype=float32, numpy=\n",
      "array([[[[0.10411289, 0.1276423 , 0.11979917],\n",
      "         [0.08262555, 0.11791967, 0.10615496],\n",
      "         [0.13215537, 0.16744949, 0.15568478],\n",
      "         ...,\n",
      "         [0.3437148 , 0.34869796, 0.45615727],\n",
      "         [0.5027048 , 0.531276  , 0.62177986],\n",
      "         [0.41895768, 0.4747    , 0.54920983]],\n",
      "\n",
      "        [[0.09992997, 0.12345938, 0.11162464],\n",
      "         [0.10658263, 0.14187674, 0.12612045],\n",
      "         [0.14940853, 0.18470265, 0.17279537],\n",
      "         ...,\n",
      "         [0.33974612, 0.3438777 , 0.44384146],\n",
      "         [0.39399886, 0.41857845, 0.50537217],\n",
      "         [0.35783088, 0.40958163, 0.48245198]],\n",
      "\n",
      "        [[0.07447604, 0.09800545, 0.08231918],\n",
      "         [0.09268332, 0.12797745, 0.1083696 ],\n",
      "         [0.10796067, 0.14325479, 0.13120998],\n",
      "         ...,\n",
      "         [0.32738394, 0.32124886, 0.41641694],\n",
      "         [0.40535527, 0.42881557, 0.5078062 ],\n",
      "         [0.55564094, 0.6035402 , 0.6722151 ]],\n",
      "\n",
      "        ...,\n",
      "\n",
      "        [[0.11301183, 0.12477653, 0.09732556],\n",
      "         [0.13854672, 0.15031143, 0.12286045],\n",
      "         [0.10469928, 0.10890096, 0.08523149],\n",
      "         ...,\n",
      "         [0.10305285, 0.08344501, 0.07168031],\n",
      "         [0.09874326, 0.07913542, 0.06737071],\n",
      "         [0.07704227, 0.05743443, 0.04566973]],\n",
      "\n",
      "        [[0.14167264, 0.15343735, 0.12598637],\n",
      "         [0.12677263, 0.13853733, 0.11108634],\n",
      "         [0.09447652, 0.0986782 , 0.07500874],\n",
      "         ...,\n",
      "         [0.14975949, 0.13008288, 0.11852446],\n",
      "         [0.11889549, 0.09736181, 0.09137462],\n",
      "         [0.09149194, 0.06995825, 0.06397106]],\n",
      "\n",
      "        [[0.10344528, 0.11520999, 0.08775901],\n",
      "         [0.07928687, 0.09105158, 0.0636006 ],\n",
      "         [0.09327982, 0.0974815 , 0.07381203],\n",
      "         ...,\n",
      "         [0.17076357, 0.1510157 , 0.13967106],\n",
      "         [0.12817279, 0.10464337, 0.10464337],\n",
      "         [0.10271246, 0.07918305, 0.07918305]]],\n",
      "\n",
      "\n",
      "       [[[0.63745224, 0.5550993 , 0.4805895 ],\n",
      "         [0.6241764 , 0.54182345, 0.46731365],\n",
      "         [0.62551403, 0.5431611 , 0.4686513 ],\n",
      "         ...,\n",
      "         [0.30891404, 0.34028658, 0.28945953],\n",
      "         [0.15893574, 0.17343147, 0.11615735],\n",
      "         [0.14144425, 0.14928739, 0.09533956]],\n",
      "\n",
      "        [[0.62381506, 0.5414621 , 0.46695232],\n",
      "         [0.5936919 , 0.51133895, 0.43682918],\n",
      "         [0.627076  , 0.5447231 , 0.47021332],\n",
      "         ...,\n",
      "         [0.18027712, 0.21164967, 0.1612995 ],\n",
      "         [0.17455451, 0.18618785, 0.14706214],\n",
      "         [0.1599041 , 0.16488484, 0.12821642]],\n",
      "\n",
      "        [[0.6101457 , 0.5277927 , 0.45328286],\n",
      "         [0.5862697 , 0.50391674, 0.4294069 ],\n",
      "         [0.60747707, 0.52512413, 0.4506143 ],\n",
      "         ...,\n",
      "         [0.10530633, 0.13582979, 0.0952398 ],\n",
      "         [0.20632069, 0.21323106, 0.19697833],\n",
      "         [0.14245789, 0.14722855, 0.13101706]],\n",
      "\n",
      "        ...,\n",
      "\n",
      "        [[0.68146497, 0.6069552 , 0.5402885 ],\n",
      "         [0.61210907, 0.53759927, 0.4709326 ],\n",
      "         [0.6515358 , 0.577026  , 0.51035935],\n",
      "         ...,\n",
      "         [0.38840476, 0.4023331 , 0.31555656],\n",
      "         [0.43475237, 0.42211008, 0.33335826],\n",
      "         [0.38104507, 0.3558177 , 0.27039218]],\n",
      "\n",
      "        [[0.49938893, 0.42487913, 0.35821247],\n",
      "         [0.54521376, 0.47070393, 0.40403727],\n",
      "         [0.66303235, 0.58852255, 0.52185583],\n",
      "         ...,\n",
      "         [0.26485658, 0.25563872, 0.18882753],\n",
      "         [0.27439302, 0.2620687 , 0.18001893],\n",
      "         [0.33923328, 0.31962544, 0.23335093]],\n",
      "\n",
      "        [[0.6822651 , 0.6077553 , 0.54108864],\n",
      "         [0.7073364 , 0.6328266 , 0.56615996],\n",
      "         [0.6701543 , 0.5956445 , 0.5289778 ],\n",
      "         ...,\n",
      "         [0.23127869, 0.18769208, 0.15011826],\n",
      "         [0.33241415, 0.30732173, 0.23273394],\n",
      "         [0.49032125, 0.4677459 , 0.3814714 ]]],\n",
      "\n",
      "\n",
      "       [[[0.16516106, 0.55339634, 0.6788866 ],\n",
      "         [0.18530288, 0.5735381 , 0.6990284 ],\n",
      "         [0.19724087, 0.58547616, 0.71096635],\n",
      "         ...,\n",
      "         [0.16297443, 0.5189367 , 0.60556656],\n",
      "         [0.12517552, 0.5275566 , 0.61834794],\n",
      "         [0.12437544, 0.54006165, 0.63417935]],\n",
      "\n",
      "        [[0.1735609 , 0.5617962 , 0.6833648 ],\n",
      "         [0.1624016 , 0.55063695, 0.67220557],\n",
      "         [0.15558308, 0.5438184 , 0.66538703],\n",
      "         ...,\n",
      "         [0.14726911, 0.50507367, 0.610739  ],\n",
      "         [0.1547879 , 0.5571318 , 0.65587777],\n",
      "         [0.10459167, 0.520278  , 0.62223876]],\n",
      "\n",
      "        [[0.16580006, 0.55403537, 0.675604  ],\n",
      "         [0.12720588, 0.5154412 , 0.6370098 ],\n",
      "         [0.16732319, 0.5555585 , 0.6771271 ],\n",
      "         ...,\n",
      "         [0.19900218, 0.5616539 , 0.6890143 ],\n",
      "         [0.15108335, 0.5577922 , 0.66412616],\n",
      "         [0.12195364, 0.5430146 , 0.64497536]],\n",
      "\n",
      "        ...,\n",
      "\n",
      "        [[0.15626311, 0.5327337 , 0.6307729 ],\n",
      "         [0.19758998, 0.58855635, 0.6911124 ],\n",
      "         [0.25404337, 0.6546737 , 0.7533431 ],\n",
      "         ...,\n",
      "         [0.17975241, 0.5875956 , 0.70132107],\n",
      "         [0.11329446, 0.53741914, 0.6511446 ],\n",
      "         [0.145914  , 0.573365  , 0.68709046]],\n",
      "\n",
      "        [[0.12317003, 0.4996406 , 0.59767985],\n",
      "         [0.13715273, 0.52811915, 0.6306752 ],\n",
      "         [0.13451275, 0.535143  , 0.6338125 ],\n",
      "         ...,\n",
      "         [0.08731467, 0.4951578 , 0.6088833 ],\n",
      "         [0.15326732, 0.577392  , 0.6922948 ],\n",
      "         [0.14090878, 0.5683598 , 0.68984103]],\n",
      "\n",
      "        [[0.16611709, 0.54258764, 0.64062685],\n",
      "         [0.23696055, 0.62792695, 0.73048294],\n",
      "         [0.14743043, 0.5480607 , 0.6467302 ],\n",
      "         ...,\n",
      "         [0.10180031, 0.50964344, 0.6233689 ],\n",
      "         [0.08708146, 0.50787985, 0.63277483],\n",
      "         [0.12049171, 0.5479427 , 0.6695113 ]]],\n",
      "\n",
      "\n",
      "       ...,\n",
      "\n",
      "\n",
      "       [[[0.5223511 , 0.51552683, 0.483398  ],\n",
      "         [0.52980125, 0.5402004 , 0.53099173],\n",
      "         [0.52021956, 0.5341371 , 0.5367822 ],\n",
      "         ...,\n",
      "         [0.19379984, 0.14446525, 0.0736841 ],\n",
      "         [0.21823803, 0.17254446, 0.09794755],\n",
      "         [0.22628203, 0.19315003, 0.10471341]],\n",
      "\n",
      "        [[0.5220165 , 0.5208567 , 0.49762926],\n",
      "         [0.49560148, 0.51186115, 0.5140145 ],\n",
      "         [0.5026698 , 0.5214549 , 0.5332196 ],\n",
      "         ...,\n",
      "         [0.23941907, 0.19008449, 0.12094912],\n",
      "         [0.23090287, 0.17873648, 0.11954936],\n",
      "         [0.23569676, 0.18295693, 0.1274539 ]],\n",
      "\n",
      "        [[0.53659064, 0.5371426 , 0.53023565],\n",
      "         [0.51682425, 0.5364321 , 0.5494748 ],\n",
      "         [0.5118161 , 0.5356431 , 0.5574018 ],\n",
      "         ...,\n",
      "         [0.14683726, 0.09688733, 0.03247444],\n",
      "         [0.17080525, 0.11915808, 0.07358342],\n",
      "         [0.17840526, 0.12643571, 0.09407403]],\n",
      "\n",
      "        ...,\n",
      "\n",
      "        [[0.68240345, 0.81870383, 0.6187038 ],\n",
      "         [0.5641933 , 0.70278156, 0.4910169 ],\n",
      "         [0.3998042 , 0.55015206, 0.34296554],\n",
      "         ...,\n",
      "         [0.46384683, 0.58409446, 0.43812478],\n",
      "         [0.6280749 , 0.6550608 , 0.5245452 ],\n",
      "         [0.9158622 , 0.8912346 , 0.7803269 ]],\n",
      "\n",
      "        [[0.32754517, 0.5008994 , 0.31799638],\n",
      "         [0.3501493 , 0.51817274, 0.2971074 ],\n",
      "         [0.4535348 , 0.6035028 , 0.37198302],\n",
      "         ...,\n",
      "         [0.37996426, 0.53995377, 0.38048565],\n",
      "         [0.62804246, 0.7461536 , 0.57455385],\n",
      "         [0.3423415 , 0.45231867, 0.28859344]],\n",
      "\n",
      "        [[0.48186672, 0.6078426 , 0.4296985 ],\n",
      "         [0.40098312, 0.5729575 , 0.36176744],\n",
      "         [0.23169853, 0.3705832 , 0.16877966],\n",
      "         ...,\n",
      "         [0.52605045, 0.7258156 , 0.5635784 ],\n",
      "         [0.32550976, 0.5723095 , 0.44709912],\n",
      "         [0.55973154, 0.77421767, 0.6574908 ]]],\n",
      "\n",
      "\n",
      "       [[[0.47030813, 0.6232493 , 0.4467787 ],\n",
      "         [0.4704047 , 0.6233459 , 0.4468753 ],\n",
      "         [0.4687306 , 0.62343127, 0.4452012 ],\n",
      "         ...,\n",
      "         [0.51587754, 0.48460174, 0.37585154],\n",
      "         [0.49060684, 0.5056724 , 0.38045353],\n",
      "         [0.5049212 , 0.5564327 , 0.41997156]],\n",
      "\n",
      "        [[0.46200135, 0.61494255, 0.43847194],\n",
      "         [0.46445015, 0.6182607 , 0.44150037],\n",
      "         [0.46536553, 0.62113816, 0.44255078],\n",
      "         ...,\n",
      "         [0.49212795, 0.4688982 , 0.3577095 ],\n",
      "         [0.5250888 , 0.5464719 , 0.42167318],\n",
      "         [0.51360965, 0.5726263 , 0.43367302]],\n",
      "\n",
      "        [[0.45650387, 0.60944504, 0.43297446],\n",
      "         [0.45633596, 0.61739165, 0.43821624],\n",
      "         [0.45941   , 0.6241159 , 0.44255078],\n",
      "         ...,\n",
      "         [0.3637673 , 0.34736365, 0.24216327],\n",
      "         [0.42733735, 0.46047983, 0.3394482 ],\n",
      "         [0.4518964 , 0.5259409 , 0.39140663]],\n",
      "\n",
      "        ...,\n",
      "\n",
      "        [[0.51311827, 0.52170205, 0.33102638],\n",
      "         [0.5489809 , 0.5600453 , 0.37974063],\n",
      "         [0.5843848 , 0.595563  , 0.42928153],\n",
      "         ...,\n",
      "         [0.55476964, 0.5400468 , 0.39172748],\n",
      "         [0.5582545 , 0.5423844 , 0.39133236],\n",
      "         [0.54161924, 0.5229531 , 0.36782902]],\n",
      "\n",
      "        [[0.51850957, 0.52995074, 0.34498987],\n",
      "         [0.49385124, 0.50561595, 0.33154193],\n",
      "         [0.5344419 , 0.55262285, 0.3933441 ],\n",
      "         ...,\n",
      "         [0.5727412 , 0.5657541 , 0.40675396],\n",
      "         [0.58798033, 0.58292854, 0.41250953],\n",
      "         [0.5656943 , 0.55489224, 0.38123092]],\n",
      "\n",
      "        [[0.46998894, 0.48175365, 0.29917875],\n",
      "         [0.39894235, 0.41853172, 0.24477564],\n",
      "         [0.26821622, 0.28723758, 0.13201518],\n",
      "         ...,\n",
      "         [0.585307  , 0.5888711 , 0.41789424],\n",
      "         [0.6188551 , 0.61493355, 0.44003797],\n",
      "         [0.59565175, 0.58860224, 0.40255803]]],\n",
      "\n",
      "\n",
      "       [[[0.20326178, 0.24295124, 0.17695914],\n",
      "         [0.17144115, 0.21586353, 0.1594981 ],\n",
      "         [0.17867155, 0.22634913, 0.17781971],\n",
      "         ...,\n",
      "         [0.4674085 , 0.43603596, 0.35563177],\n",
      "         [0.49943268, 0.4682981 , 0.37738806],\n",
      "         [0.43991598, 0.4117904 , 0.31185332]],\n",
      "\n",
      "        [[0.22563353, 0.24482122, 0.18973707],\n",
      "         [0.22861412, 0.25343904, 0.20450696],\n",
      "         [0.18573125, 0.21745394, 0.17379147],\n",
      "         ...,\n",
      "         [0.42848387, 0.40407747, 0.3270839 ],\n",
      "         [0.4105956 , 0.38982844, 0.30225843],\n",
      "         [0.39400056, 0.37517726, 0.2805481 ]],\n",
      "\n",
      "        [[0.30369455, 0.2975381 , 0.25116202],\n",
      "         [0.29718632, 0.3033132 , 0.26024598],\n",
      "         [0.25573954, 0.27023536, 0.23826264],\n",
      "         ...,\n",
      "         [0.33549163, 0.3241821 , 0.24989988],\n",
      "         [0.38146064, 0.3738451 , 0.29171973],\n",
      "         [0.4468088 , 0.43919325, 0.35159424]],\n",
      "\n",
      "        ...,\n",
      "\n",
      "        [[0.6355504 , 0.6982955 , 0.8277073 ],\n",
      "         [0.6240555 , 0.6868006 , 0.81621236],\n",
      "         [0.60992044, 0.67266554, 0.8020773 ],\n",
      "         ...,\n",
      "         [0.84093374, 0.9002123 , 0.9816979 ],\n",
      "         [0.8145492 , 0.87382776, 0.9554982 ],\n",
      "         [0.7906157 , 0.8498942 , 0.9315646 ]],\n",
      "\n",
      "        [[0.6110507 , 0.6737958 , 0.8032076 ],\n",
      "         [0.6490138 , 0.7117589 , 0.84117067],\n",
      "         [0.59282166, 0.65556675, 0.7849785 ],\n",
      "         ...,\n",
      "         [0.7741089 , 0.82836306, 0.94403195],\n",
      "         [0.76903373, 0.8239357 , 0.93766123],\n",
      "         [0.79488444, 0.8497864 , 0.9635119 ]],\n",
      "\n",
      "        [[0.58370095, 0.64644605, 0.77585787],\n",
      "         [0.608701  , 0.6714461 , 0.80085784],\n",
      "         [0.5990196 , 0.6617647 , 0.7911765 ],\n",
      "         ...,\n",
      "         [0.804272  , 0.85917395, 0.97109056],\n",
      "         [0.7948357 , 0.84973764, 0.95372206],\n",
      "         [0.8083161 , 0.8643129 , 0.96298915]]]], dtype=float32)>, <tf.Tensor: shape=(32, 5), dtype=float32, numpy=\n",
      "array([[0., 0., 0., 0., 0.],\n",
      "       [0., 0., 0., 0., 0.],\n",
      "       [1., 0., 0., 0., 0.],\n",
      "       [1., 0., 0., 0., 0.],\n",
      "       [0., 0., 1., 0., 0.],\n",
      "       [0., 0., 0., 0., 0.],\n",
      "       [0., 0., 0., 0., 0.],\n",
      "       [1., 0., 0., 0., 0.],\n",
      "       [0., 0., 0., 0., 0.],\n",
      "       [0., 0., 0., 0., 0.],\n",
      "       [1., 0., 0., 0., 0.],\n",
      "       [0., 0., 1., 0., 0.],\n",
      "       [0., 0., 1., 0., 0.],\n",
      "       [0., 0., 0., 0., 0.],\n",
      "       [1., 0., 0., 0., 0.],\n",
      "       [0., 0., 0., 0., 0.],\n",
      "       [0., 0., 1., 0., 0.],\n",
      "       [1., 0., 0., 0., 0.],\n",
      "       [0., 0., 0., 0., 0.],\n",
      "       [0., 0., 0., 0., 0.],\n",
      "       [0., 0., 0., 0., 0.],\n",
      "       [0., 0., 0., 0., 0.],\n",
      "       [1., 0., 0., 0., 0.],\n",
      "       [0., 0., 0., 0., 0.],\n",
      "       [0., 0., 1., 0., 0.],\n",
      "       [0., 0., 0., 0., 0.],\n",
      "       [0., 0., 0., 0., 0.],\n",
      "       [0., 0., 0., 0., 0.],\n",
      "       [0., 0., 1., 0., 0.],\n",
      "       [0., 0., 0., 0., 0.],\n",
      "       [0., 0., 0., 0., 0.],\n",
      "       [0., 0., 0., 0., 0.]], dtype=float32)>)\n"
     ]
    },
    {
     "name": "stderr",
     "output_type": "stream",
     "text": [
      "2024-12-10 11:08:16.485613: W tensorflow/core/kernels/data/prefetch_autotuner.cc:52] Prefetch autotuner tried to allocate 19268224 bytes after encountering the first element of size 19268224 bytes.This already causes the autotune ram budget to be exceeded. To stay within the ram budget, either increase the ram budget or reduce element size\n"
     ]
    },
    {
     "ename": "TypeError",
     "evalue": "path should be path-like or io.BytesIO, not <class 'tuple'>",
     "output_type": "error",
     "traceback": [
      "\u001b[0;31m---------------------------------------------------------------------------\u001b[0m",
      "\u001b[0;31mTypeError\u001b[0m                                 Traceback (most recent call last)",
      "Cell \u001b[0;32mIn[12], line 57\u001b[0m\n\u001b[1;32m     55\u001b[0m \u001b[38;5;28;01mfor\u001b[39;00m img \u001b[38;5;129;01min\u001b[39;00m train_dataset:\n\u001b[1;32m     56\u001b[0m     \u001b[38;5;28mprint\u001b[39m(\u001b[38;5;124mf\u001b[39m\u001b[38;5;124m\"\u001b[39m\u001b[38;5;124mTesting image: \u001b[39m\u001b[38;5;132;01m{\u001b[39;00mimg\u001b[38;5;132;01m}\u001b[39;00m\u001b[38;5;124m\"\u001b[39m)\n\u001b[0;32m---> 57\u001b[0m     \u001b[43mpredict_image\u001b[49m\u001b[43m(\u001b[49m\u001b[43mimg\u001b[49m\u001b[43m)\u001b[49m\n",
      "Cell \u001b[0;32mIn[12], line 38\u001b[0m, in \u001b[0;36mpredict_image\u001b[0;34m(image_path)\u001b[0m\n\u001b[1;32m     32\u001b[0m \u001b[38;5;28;01mdef\u001b[39;00m \u001b[38;5;21mpredict_image\u001b[39m(image_path):\n\u001b[1;32m     33\u001b[0m \u001b[38;5;250m    \u001b[39m\u001b[38;5;124;03m\"\"\"\u001b[39;00m\n\u001b[1;32m     34\u001b[0m \u001b[38;5;124;03m    Predict the class of an image.\u001b[39;00m\n\u001b[1;32m     35\u001b[0m \u001b[38;5;124;03m    Args:\u001b[39;00m\n\u001b[1;32m     36\u001b[0m \u001b[38;5;124;03m        image_path (str): Path to the image file.\u001b[39;00m\n\u001b[1;32m     37\u001b[0m \u001b[38;5;124;03m    \"\"\"\u001b[39;00m\n\u001b[0;32m---> 38\u001b[0m     preprocessed_image \u001b[38;5;241m=\u001b[39m \u001b[43mpreprocess_image\u001b[49m\u001b[43m(\u001b[49m\u001b[43mimage_path\u001b[49m\u001b[43m)\u001b[49m\n\u001b[1;32m     39\u001b[0m     predictions \u001b[38;5;241m=\u001b[39m model\u001b[38;5;241m.\u001b[39mpredict(preprocessed_image)\n\u001b[1;32m     40\u001b[0m     predicted_class \u001b[38;5;241m=\u001b[39m np\u001b[38;5;241m.\u001b[39margmax(predictions, axis\u001b[38;5;241m=\u001b[39m\u001b[38;5;241m-\u001b[39m\u001b[38;5;241m1\u001b[39m)[\u001b[38;5;241m0\u001b[39m]\n",
      "Cell \u001b[0;32mIn[12], line 25\u001b[0m, in \u001b[0;36mpreprocess_image\u001b[0;34m(image_path, target_size)\u001b[0m\n\u001b[1;32m     16\u001b[0m \u001b[38;5;28;01mdef\u001b[39;00m \u001b[38;5;21mpreprocess_image\u001b[39m(image_path, target_size\u001b[38;5;241m=\u001b[39m(\u001b[38;5;241m224\u001b[39m, \u001b[38;5;241m224\u001b[39m)):\n\u001b[1;32m     17\u001b[0m \u001b[38;5;250m    \u001b[39m\u001b[38;5;124;03m\"\"\"\u001b[39;00m\n\u001b[1;32m     18\u001b[0m \u001b[38;5;124;03m    Preprocess an image for prediction.\u001b[39;00m\n\u001b[1;32m     19\u001b[0m \u001b[38;5;124;03m    Args:\u001b[39;00m\n\u001b[0;32m   (...)\u001b[0m\n\u001b[1;32m     23\u001b[0m \u001b[38;5;124;03m        np.array: Preprocessed image ready for prediction.\u001b[39;00m\n\u001b[1;32m     24\u001b[0m \u001b[38;5;124;03m    \"\"\"\u001b[39;00m\n\u001b[0;32m---> 25\u001b[0m     img \u001b[38;5;241m=\u001b[39m \u001b[43mload_img\u001b[49m\u001b[43m(\u001b[49m\u001b[43mimage_path\u001b[49m\u001b[43m,\u001b[49m\u001b[43m \u001b[49m\u001b[43mtarget_size\u001b[49m\u001b[38;5;241;43m=\u001b[39;49m\u001b[43mtarget_size\u001b[49m\u001b[43m)\u001b[49m  \u001b[38;5;66;03m# Load and resize the image\u001b[39;00m\n\u001b[1;32m     26\u001b[0m     img_array \u001b[38;5;241m=\u001b[39m img_to_array(img)  \u001b[38;5;66;03m# Convert image to numpy array\u001b[39;00m\n\u001b[1;32m     27\u001b[0m     img_array \u001b[38;5;241m=\u001b[39m np\u001b[38;5;241m.\u001b[39mexpand_dims(img_array, axis\u001b[38;5;241m=\u001b[39m\u001b[38;5;241m0\u001b[39m)  \u001b[38;5;66;03m# Add batch dimension\u001b[39;00m\n",
      "File \u001b[0;32m~/Documents/git/ml-lecture/.venv/lib/python3.12/site-packages/keras/src/utils/image_utils.py:238\u001b[0m, in \u001b[0;36mload_img\u001b[0;34m(path, color_mode, target_size, interpolation, keep_aspect_ratio)\u001b[0m\n\u001b[1;32m    236\u001b[0m         img \u001b[38;5;241m=\u001b[39m pil_image\u001b[38;5;241m.\u001b[39mopen(io\u001b[38;5;241m.\u001b[39mBytesIO(f\u001b[38;5;241m.\u001b[39mread()))\n\u001b[1;32m    237\u001b[0m \u001b[38;5;28;01melse\u001b[39;00m:\n\u001b[0;32m--> 238\u001b[0m     \u001b[38;5;28;01mraise\u001b[39;00m \u001b[38;5;167;01mTypeError\u001b[39;00m(\n\u001b[1;32m    239\u001b[0m         \u001b[38;5;124mf\u001b[39m\u001b[38;5;124m\"\u001b[39m\u001b[38;5;124mpath should be path-like or io.BytesIO, not \u001b[39m\u001b[38;5;132;01m{\u001b[39;00m\u001b[38;5;28mtype\u001b[39m(path)\u001b[38;5;132;01m}\u001b[39;00m\u001b[38;5;124m\"\u001b[39m\n\u001b[1;32m    240\u001b[0m     )\n\u001b[1;32m    242\u001b[0m \u001b[38;5;28;01mif\u001b[39;00m color_mode \u001b[38;5;241m==\u001b[39m \u001b[38;5;124m\"\u001b[39m\u001b[38;5;124mgrayscale\u001b[39m\u001b[38;5;124m\"\u001b[39m:\n\u001b[1;32m    243\u001b[0m     \u001b[38;5;66;03m# if image is not already an 8-bit, 16-bit or 32-bit grayscale image\u001b[39;00m\n\u001b[1;32m    244\u001b[0m     \u001b[38;5;66;03m# convert it to an 8-bit grayscale image.\u001b[39;00m\n\u001b[1;32m    245\u001b[0m     \u001b[38;5;28;01mif\u001b[39;00m img\u001b[38;5;241m.\u001b[39mmode \u001b[38;5;129;01mnot\u001b[39;00m \u001b[38;5;129;01min\u001b[39;00m (\u001b[38;5;124m\"\u001b[39m\u001b[38;5;124mL\u001b[39m\u001b[38;5;124m\"\u001b[39m, \u001b[38;5;124m\"\u001b[39m\u001b[38;5;124mI;16\u001b[39m\u001b[38;5;124m\"\u001b[39m, \u001b[38;5;124m\"\u001b[39m\u001b[38;5;124mI\u001b[39m\u001b[38;5;124m\"\u001b[39m):\n",
      "\u001b[0;31mTypeError\u001b[0m: path should be path-like or io.BytesIO, not <class 'tuple'>"
     ]
    }
   ],
   "source": [
    "model = load_model(os.path.join(model_folder, model_filename))\n",
    "print(\"Model loaded successfully!\")\n",
    "\n",
    "# Step 2: Define Class Labels\n",
    "# Ensure these match the class labels used during training\n",
    "class_labels = {\n",
    "    0: \"Chihuahua\",\n",
    "    1: \"Maltese Dog\",\n",
    "    2: \"Komondor\",\n",
    "    3: \"German Shepherd\",\n",
    "    4: \"African Hunting Dog\"\n",
    "}\n",
    "print(\"Class labels:\", class_labels)\n",
    "\n",
    "# Step 3: Define Image Preprocessing Function\n",
    "def preprocess_image(image_path, target_size=(224, 224)):\n",
    "    \"\"\"\n",
    "    Preprocess an image for prediction.\n",
    "    Args:\n",
    "        image_path (str): Path to the image file.\n",
    "        target_size (tuple): Desired image size (height, width).\n",
    "    Returns:\n",
    "        np.array: Preprocessed image ready for prediction.\n",
    "    \"\"\"\n",
    "    img = load_img(image_path, target_size=target_size)  # Load and resize the image\n",
    "    img_array = img_to_array(img)  # Convert image to numpy array\n",
    "    img_array = np.expand_dims(img_array, axis=0)  # Add batch dimension\n",
    "    img_array = img_array / 255.0  # Normalize pixel values to [0, 1]\n",
    "    return img_array\n",
    "\n",
    "# Step 4: Predict Function\n",
    "def predict_image(image_path):\n",
    "    \"\"\"\n",
    "    Predict the class of an image.\n",
    "    Args:\n",
    "        image_path (str): Path to the image file.\n",
    "    \"\"\"\n",
    "    preprocessed_image = preprocess_image(image_path)\n",
    "    predictions = model.predict(preprocessed_image)\n",
    "    predicted_class = np.argmax(predictions, axis=-1)[0]\n",
    "    predicted_label = class_labels[predicted_class]\n",
    "\n",
    "    # Display the image with its prediction\n",
    "    img = load_img(image_path)\n",
    "    plt.imshow(img)\n",
    "    plt.title(f\"Predicted: {predicted_label}\")\n",
    "    plt.axis(\"off\")\n",
    "    plt.show()\n",
    "    print(f\"Predicted Label: {predicted_label}\")\n",
    "\n",
    "# Step 5: Test the Model with Example Images\n",
    "# Update this with the path to your test image directory\n",
    "\n",
    "\n",
    "for img in train_dataset:\n",
    "    print(f\"Testing image: {img}\")\n",
    "    predict_image(img)\n"
   ]
  }
 ],
 "metadata": {
  "kernelspec": {
   "display_name": ".venv",
   "language": "python",
   "name": "python3"
  },
  "language_info": {
   "codemirror_mode": {
    "name": "ipython",
    "version": 3
   },
   "file_extension": ".py",
   "mimetype": "text/x-python",
   "name": "python",
   "nbconvert_exporter": "python",
   "pygments_lexer": "ipython3",
   "version": "3.12.7"
  }
 },
 "nbformat": 4,
 "nbformat_minor": 2
}

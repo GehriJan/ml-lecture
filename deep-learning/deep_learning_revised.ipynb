{
 "cells": [
  {
   "cell_type": "markdown",
   "metadata": {},
   "source": [
    "# Deep Learning\n",
    "\n",
    "## Aufgabem\n",
    "1. _Laden der Daten und Splitting in Trainings- und Testdaten (Verhältnis 75:25)._\n",
    "2. _Überlegen Sie sich eine geeignete Netzwerkarchitektur für die Klassifikationsaufgabe._\n",
    "3. _Implementieren Sie Ihr Netzwerk in Keras/Tensorflow._\n",
    "4. _Wahlen Sie eine geeignete Loss-Funktion und einen geeigneten Optimizer. Begründen Sie Ihre\n",
    "Auswahl in Ihrem Kurzreport._\n",
    "5. _Evaluieren Sie Ihr ML-System und stellen Sie die Ergebnisse in geeigneter Weise dar. Nutzen Sie\n",
    "zur Evaluation eine Kreuzvalidierung (3-fold)._\n",
    "6. _In dem Notebook `transfer_learning.ipynb`_\n",
    "\n",
    "### Laden der Daten und Splitting in Trainings- und Testdaten (Verhältnis 75:25)\n",
    "Dieser Schritt ist identisch bei _Merkmalsbasierte Klassifikation_ und _Deep Learning_ und wurde somit in `setup.py` ausgelagert.\n",
    "Dort wird das Verhältnis durch `split=['train[75%:]', 'test[:25%]']` erstellt.\n"
   ]
  },
  {
   "cell_type": "code",
   "execution_count": null,
   "metadata": {},
   "outputs": [],
   "source": [
    "import tensorflow as tf\n",
    "import keras\n",
    "import matplotlib.pyplot as plt\n",
    "import numpy as np\n",
    "import os\n",
    "from pathlib import Path\n",
    "import sys\n",
    "%matplotlib inline\n",
    "\n",
    "\n",
    "notebook_dir = Path().resolve()\n",
    "sys.path.append(str(notebook_dir.parent))\n",
    "from setup import setup_dataset\n",
    "\n",
    "keras.utils.set_random_seed(100)\n",
    "\n",
    "verification_image_dir = '../dataset/verification'\n",
    "model_folder = 'models/'\n",
    "model_filename = 'dog_classifier.keras'\n",
    "weights_filename = 'model.weights.h5'"
   ]
  },
  {
   "cell_type": "markdown",
   "metadata": {},
   "source": [
    "## Hyperparameter definieren"
   ]
  },
  {
   "cell_type": "code",
   "execution_count": 24,
   "metadata": {},
   "outputs": [],
   "source": [
    "num_classes = 5\n",
    "batch_size = 16\n",
    "epochs = 15\n",
    "learning_rate = 1e-4\n",
    "resize_size = (256, 256)\n",
    "indices = [0, 2, 77, 84, 55]"
   ]
  },
  {
   "cell_type": "markdown",
   "metadata": {},
   "source": [
    "## Laden der Datensets"
   ]
  },
  {
   "cell_type": "code",
   "execution_count": 25,
   "metadata": {},
   "outputs": [
    {
     "data": {
      "image/png": "[encoded data removed]",
      "text/plain": [
       "<Figure size 640x480 with 1 Axes>"
      ]
     },
     "metadata": {},
     "output_type": "display_data"
    }
   ],
   "source": [
    "train_dataset, test_dataset, metadata = setup_dataset('../dataset', labels=indices)\n",
    "\n",
    "\n",
    "def preprocess(img, label):\n",
    "    table = tf.lookup.StaticHashTable(\n",
    "        initializer=tf.lookup.KeyValueTensorInitializer(\n",
    "            keys=tf.constant(indices, dtype=tf.int64),\n",
    "            values=tf.constant(list(range(num_classes)),  dtype=tf.int64),\n",
    "        ),\n",
    "        default_value= tf.constant(0,  dtype=tf.int64)\n",
    "    )\n",
    "    img = tf.image.resize(img, resize_size)\n",
    "    img = img / 255.0  # Normalisierung\n",
    "    label = table.lookup(label)\n",
    "    return img, label\n",
    "\n",
    "train_dataset = (\n",
    "    train_dataset\n",
    "        .map(preprocess)\n",
    "        .shuffle(100)\n",
    "        .batch(batch_size)\n",
    "        .repeat(3)\n",
    "        .prefetch(tf.data.AUTOTUNE)\n",
    ")\n",
    "\n",
    "test_dataset = (\n",
    "    test_dataset\n",
    "        .map(preprocess)\n",
    "        .shuffle(100)\n",
    "        .batch(batch_size)\n",
    "        .prefetch(tf.data.AUTOTUNE)\n",
    ")\n",
    "\n",
    "\n",
    "\n",
    "def plot_batch_sizes(ds):\n",
    "    batch_sizes = [np.array(batch[1]).shape[0] for batch in ds]\n",
    "    plt.bar(range(len(batch_sizes)), batch_sizes)\n",
    "    plt.title(\"Batch sizes of train dataset\")\n",
    "    plt.xlabel(\"Batch number\")\n",
    "    plt.ylabel(\"Batch size\")\n",
    "    plt.show()\n",
    "\n",
    "plot_batch_sizes(test_dataset)"
   ]
  },
  {
   "cell_type": "markdown",
   "metadata": {},
   "source": [
    "# Model erstellen"
   ]
  },
  {
   "cell_type": "code",
   "execution_count": 26,
   "metadata": {},
   "outputs": [
    {
     "name": "stderr",
     "output_type": "stream",
     "text": [
      "/home/jakob/Documents/git/ml-lecture/.venv/lib/python3.12/site-packages/keras/src/layers/convolutional/base_conv.py:107: UserWarning: Do not pass an `input_shape`/`input_dim` argument to a layer. When using Sequential models, prefer using an `Input(shape)` object as the first layer in the model instead.\n",
      "  super().__init__(activity_regularizer=activity_regularizer, **kwargs)\n"
     ]
    }
   ],
   "source": [
    "\n",
    "model = keras.models.Sequential(\n",
    "    [\n",
    "        keras.layers.Conv2D(64, (3, 3), kernel_initializer='he_uniform', activation='relu', input_shape=(*resize_size, 3)),\n",
    "        keras.layers.Conv2D(64, (3, 3), kernel_initializer='he_uniform', activation='relu'),\n",
    "        keras.layers.BatchNormalization(),\n",
    "        keras.layers.Dropout(0.2),\n",
    "        keras.layers.MaxPooling2D(pool_size=(3,3)),\n",
    "\n",
    "        keras.layers.Conv2D(128, (3, 3), kernel_initializer='he_uniform', activation='relu'),\n",
    "        keras.layers.Conv2D(128, (3, 3), kernel_initializer='he_uniform', activation='relu'),\n",
    "        keras.layers.BatchNormalization(),\n",
    "        keras.layers.MaxPooling2D(pool_size=(3,3)),\n",
    "\n",
    "        keras.layers.Conv2D(256, (3, 3), kernel_initializer='he_uniform', activation='relu'),\n",
    "        keras.layers.Conv2D(256, (3, 3), kernel_initializer='he_uniform', activation='relu'),\n",
    "        keras.layers.BatchNormalization(),\n",
    "        keras.layers.Dropout(0.2),\n",
    "        keras.layers.MaxPooling2D(pool_size=(3,3)),\n",
    "\n",
    "        keras.layers.Flatten(),\n",
    "\n",
    "        keras.layers.Dense(256, activation=\"relu\"),\n",
    "\n",
    "        keras.layers.Dense(num_classes, activation=\"softmax\"),\n",
    "    ]\n",
    ")\n",
    "\n",
    "model.compile(\n",
    "    optimizer=keras.optimizers.SGD(learning_rate=learning_rate),\n",
    "    loss=keras.losses.SparseCategoricalCrossentropy(),\n",
    "    metrics=[\"accuracy\"],\n",
    ")"
   ]
  },
  {
   "cell_type": "markdown",
   "metadata": {},
   "source": [
    "## Training des Models"
   ]
  },
  {
   "cell_type": "code",
   "execution_count": 27,
   "metadata": {},
   "outputs": [
    {
     "name": "stdout",
     "output_type": "stream",
     "text": [
      "Epoch 1/15\n",
      "     26/Unknown \u001b[1m6s\u001b[0m 154ms/step - accuracy: 0.2512 - loss: 3.1038"
     ]
    },
    {
     "name": "stderr",
     "output_type": "stream",
     "text": [
      "/home/jakob/Documents/git/ml-lecture/.venv/lib/python3.12/site-packages/keras/src/trainers/epoch_iterator.py:151: UserWarning: Your input ran out of data; interrupting training. Make sure that your dataset or generator can generate at least `steps_per_epoch * epochs` batches. You may need to use the `.repeat()` function when building your dataset.\n",
      "  self._interrupted_warning()\n"
     ]
    },
    {
     "name": "stdout",
     "output_type": "stream",
     "text": [
      "\u001b[1m27/27\u001b[0m \u001b[32m━━━━━━━━━━━━━━━━━━━━\u001b[0m\u001b[37m\u001b[0m \u001b[1m8s\u001b[0m 191ms/step - accuracy: 0.2529 - loss: 3.0746 - val_accuracy: 0.2553 - val_loss: 1.6795\n",
      "Epoch 2/15\n"
     ]
    },
    {
     "name": "stderr",
     "output_type": "stream",
     "text": [
      "2024-12-12 18:42:48.335659: I tensorflow/core/framework/local_rendezvous.cc:424] Local rendezvous recv item cancelled. Key hash: 17080047826698313515\n",
      "2024-12-12 18:42:48.335691: I tensorflow/core/framework/local_rendezvous.cc:424] Local rendezvous recv item cancelled. Key hash: 11283831286447593922\n"
     ]
    },
    {
     "name": "stdout",
     "output_type": "stream",
     "text": [
      "\u001b[1m27/27\u001b[0m \u001b[32m━━━━━━━━━━━━━━━━━━━━\u001b[0m\u001b[37m\u001b[0m \u001b[1m3s\u001b[0m 98ms/step - accuracy: 0.3551 - loss: 2.1394 - val_accuracy: 0.3404 - val_loss: 1.5376\n",
      "Epoch 3/15\n",
      "\u001b[1m27/27\u001b[0m \u001b[32m━━━━━━━━━━━━━━━━━━━━\u001b[0m\u001b[37m\u001b[0m \u001b[1m3s\u001b[0m 98ms/step - accuracy: 0.5046 - loss: 1.4656 - val_accuracy: 0.4043 - val_loss: 1.4652\n",
      "Epoch 4/15\n",
      "\u001b[1m26/27\u001b[0m \u001b[32m━━━━━━━━━━━━━━━━━━━\u001b[0m\u001b[37m━\u001b[0m \u001b[1m0s\u001b[0m 86ms/step - accuracy: 0.6095 - loss: 1.0331"
     ]
    },
    {
     "name": "stderr",
     "output_type": "stream",
     "text": [
      "2024-12-12 18:42:56.536563: I tensorflow/core/framework/local_rendezvous.cc:424] Local rendezvous recv item cancelled. Key hash: 11283831286447593922\n"
     ]
    },
    {
     "name": "stdout",
     "output_type": "stream",
     "text": [
      "\u001b[1m27/27\u001b[0m \u001b[32m━━━━━━━━━━━━━━━━━━━━\u001b[0m\u001b[37m\u001b[0m \u001b[1m3s\u001b[0m 97ms/step - accuracy: 0.6110 - loss: 1.0288 - val_accuracy: 0.3936 - val_loss: 1.4498\n",
      "Epoch 5/15\n"
     ]
    },
    {
     "name": "stderr",
     "output_type": "stream",
     "text": [
      "2024-12-12 18:42:56.891559: I tensorflow/core/framework/local_rendezvous.cc:424] Local rendezvous recv item cancelled. Key hash: 11283831286447593922\n"
     ]
    },
    {
     "name": "stdout",
     "output_type": "stream",
     "text": [
      "\u001b[1m26/27\u001b[0m \u001b[32m━━━━━━━━━━━━━━━━━━━\u001b[0m\u001b[37m━\u001b[0m \u001b[1m0s\u001b[0m 87ms/step - accuracy: 0.7265 - loss: 0.7669"
     ]
    },
    {
     "name": "stderr",
     "output_type": "stream",
     "text": [
      "2024-12-12 18:42:59.393366: I tensorflow/core/framework/local_rendezvous.cc:424] Local rendezvous recv item cancelled. Key hash: 11283831286447593922\n"
     ]
    },
    {
     "name": "stdout",
     "output_type": "stream",
     "text": [
      "\u001b[1m27/27\u001b[0m \u001b[32m━━━━━━━━━━━━━━━━━━━━\u001b[0m\u001b[37m\u001b[0m \u001b[1m3s\u001b[0m 97ms/step - accuracy: 0.7274 - loss: 0.7644 - val_accuracy: 0.4043 - val_loss: 1.4500\n",
      "Epoch 6/15\n"
     ]
    },
    {
     "name": "stderr",
     "output_type": "stream",
     "text": [
      "2024-12-12 18:42:59.738308: I tensorflow/core/framework/local_rendezvous.cc:424] Local rendezvous recv item cancelled. Key hash: 11283831286447593922\n"
     ]
    },
    {
     "name": "stdout",
     "output_type": "stream",
     "text": [
      "\u001b[1m26/27\u001b[0m \u001b[32m━━━━━━━━━━━━━━━━━━━\u001b[0m\u001b[37m━\u001b[0m \u001b[1m0s\u001b[0m 87ms/step - accuracy: 0.7556 - loss: 0.6776"
     ]
    },
    {
     "name": "stderr",
     "output_type": "stream",
     "text": [
      "2024-12-12 18:43:02.255915: I tensorflow/core/framework/local_rendezvous.cc:424] Local rendezvous recv item cancelled. Key hash: 11283831286447593922\n"
     ]
    },
    {
     "name": "stdout",
     "output_type": "stream",
     "text": [
      "\u001b[1m27/27\u001b[0m \u001b[32m━━━━━━━━━━━━━━━━━━━━\u001b[0m\u001b[37m\u001b[0m \u001b[1m3s\u001b[0m 98ms/step - accuracy: 0.7580 - loss: 0.6711 - val_accuracy: 0.3830 - val_loss: 1.4468\n",
      "Epoch 7/15\n"
     ]
    },
    {
     "name": "stderr",
     "output_type": "stream",
     "text": [
      "2024-12-12 18:43:02.611542: I tensorflow/core/framework/local_rendezvous.cc:424] Local rendezvous recv item cancelled. Key hash: 11283831286447593922\n"
     ]
    },
    {
     "name": "stdout",
     "output_type": "stream",
     "text": [
      "\u001b[1m26/27\u001b[0m \u001b[32m━━━━━━━━━━━━━━━━━━━\u001b[0m\u001b[37m━\u001b[0m \u001b[1m0s\u001b[0m 87ms/step - accuracy: 0.8315 - loss: 0.5239"
     ]
    },
    {
     "name": "stderr",
     "output_type": "stream",
     "text": [
      "2024-12-12 18:43:05.120873: I tensorflow/core/framework/local_rendezvous.cc:424] Local rendezvous recv item cancelled. Key hash: 11283831286447593922\n"
     ]
    },
    {
     "name": "stdout",
     "output_type": "stream",
     "text": [
      "\u001b[1m27/27\u001b[0m \u001b[32m━━━━━━━━━━━━━━━━━━━━\u001b[0m\u001b[37m\u001b[0m \u001b[1m3s\u001b[0m 98ms/step - accuracy: 0.8307 - loss: 0.5277 - val_accuracy: 0.3830 - val_loss: 1.4696\n",
      "Epoch 8/15\n"
     ]
    },
    {
     "name": "stderr",
     "output_type": "stream",
     "text": [
      "2024-12-12 18:43:05.457981: I tensorflow/core/framework/local_rendezvous.cc:424] Local rendezvous recv item cancelled. Key hash: 17080047826698313515\n",
      "2024-12-12 18:43:05.458013: I tensorflow/core/framework/local_rendezvous.cc:424] Local rendezvous recv item cancelled. Key hash: 11283831286447593922\n"
     ]
    },
    {
     "name": "stdout",
     "output_type": "stream",
     "text": [
      "\u001b[1m27/27\u001b[0m \u001b[32m━━━━━━━━━━━━━━━━━━━━\u001b[0m\u001b[37m\u001b[0m \u001b[1m3s\u001b[0m 97ms/step - accuracy: 0.8491 - loss: 0.4479 - val_accuracy: 0.3936 - val_loss: 1.5212\n",
      "Epoch 9/15\n",
      "\u001b[1m26/27\u001b[0m \u001b[32m━━━━━━━━━━━━━━━━━━━\u001b[0m\u001b[37m━\u001b[0m \u001b[1m0s\u001b[0m 87ms/step - accuracy: 0.8705 - loss: 0.3727"
     ]
    },
    {
     "name": "stderr",
     "output_type": "stream",
     "text": [
      "2024-12-12 18:43:10.853215: I tensorflow/core/framework/local_rendezvous.cc:424] Local rendezvous recv item cancelled. Key hash: 17080047826698313515\n",
      "2024-12-12 18:43:10.853241: I tensorflow/core/framework/local_rendezvous.cc:424] Local rendezvous recv item cancelled. Key hash: 11283831286447593922\n"
     ]
    },
    {
     "name": "stdout",
     "output_type": "stream",
     "text": [
      "\u001b[1m27/27\u001b[0m \u001b[32m━━━━━━━━━━━━━━━━━━━━\u001b[0m\u001b[37m\u001b[0m \u001b[1m3s\u001b[0m 98ms/step - accuracy: 0.8724 - loss: 0.3703 - val_accuracy: 0.3511 - val_loss: 1.5459\n",
      "Epoch 10/15\n"
     ]
    },
    {
     "name": "stderr",
     "output_type": "stream",
     "text": [
      "2024-12-12 18:43:11.192513: I tensorflow/core/framework/local_rendezvous.cc:424] Local rendezvous recv item cancelled. Key hash: 17080047826698313515\n",
      "2024-12-12 18:43:11.192545: I tensorflow/core/framework/local_rendezvous.cc:424] Local rendezvous recv item cancelled. Key hash: 11283831286447593922\n"
     ]
    },
    {
     "name": "stdout",
     "output_type": "stream",
     "text": [
      "\u001b[1m27/27\u001b[0m \u001b[32m━━━━━━━━━━━━━━━━━━━━\u001b[0m\u001b[37m\u001b[0m \u001b[1m3s\u001b[0m 97ms/step - accuracy: 0.8833 - loss: 0.3232 - val_accuracy: 0.3723 - val_loss: 1.5391\n",
      "Epoch 11/15\n",
      "\u001b[1m27/27\u001b[0m \u001b[32m━━━━━━━━━━━━━━━━━━━━\u001b[0m\u001b[37m\u001b[0m \u001b[1m3s\u001b[0m 97ms/step - accuracy: 0.9327 - loss: 0.2450 - val_accuracy: 0.3723 - val_loss: 1.5929\n",
      "Epoch 12/15\n",
      "\u001b[1m26/27\u001b[0m \u001b[32m━━━━━━━━━━━━━━━━━━━\u001b[0m\u001b[37m━\u001b[0m \u001b[1m0s\u001b[0m 88ms/step - accuracy: 0.9444 - loss: 0.2600"
     ]
    },
    {
     "name": "stderr",
     "output_type": "stream",
     "text": [
      "2024-12-12 18:43:19.413466: I tensorflow/core/framework/local_rendezvous.cc:424] Local rendezvous recv item cancelled. Key hash: 17080047826698313515\n",
      "2024-12-12 18:43:19.413495: I tensorflow/core/framework/local_rendezvous.cc:424] Local rendezvous recv item cancelled. Key hash: 11283831286447593922\n"
     ]
    },
    {
     "name": "stdout",
     "output_type": "stream",
     "text": [
      "\u001b[1m27/27\u001b[0m \u001b[32m━━━━━━━━━━━━━━━━━━━━\u001b[0m\u001b[37m\u001b[0m \u001b[1m3s\u001b[0m 100ms/step - accuracy: 0.9437 - loss: 0.2617 - val_accuracy: 0.4149 - val_loss: 1.5795\n",
      "Epoch 13/15\n"
     ]
    },
    {
     "name": "stderr",
     "output_type": "stream",
     "text": [
      "2024-12-12 18:43:19.783774: I tensorflow/core/framework/local_rendezvous.cc:424] Local rendezvous recv item cancelled. Key hash: 17080047826698313515\n",
      "2024-12-12 18:43:19.783810: I tensorflow/core/framework/local_rendezvous.cc:424] Local rendezvous recv item cancelled. Key hash: 11283831286447593922\n"
     ]
    },
    {
     "name": "stdout",
     "output_type": "stream",
     "text": [
      "\u001b[1m26/27\u001b[0m \u001b[32m━━━━━━━━━━━━━━━━━━━\u001b[0m\u001b[37m━\u001b[0m \u001b[1m0s\u001b[0m 88ms/step - accuracy: 0.9059 - loss: 0.2633"
     ]
    },
    {
     "name": "stderr",
     "output_type": "stream",
     "text": [
      "2024-12-12 18:43:22.331344: I tensorflow/core/framework/local_rendezvous.cc:424] Local rendezvous recv item cancelled. Key hash: 11283831286447593922\n"
     ]
    },
    {
     "name": "stdout",
     "output_type": "stream",
     "text": [
      "\u001b[1m27/27\u001b[0m \u001b[32m━━━━━━━━━━━━━━━━━━━━\u001b[0m\u001b[37m\u001b[0m \u001b[1m3s\u001b[0m 99ms/step - accuracy: 0.9069 - loss: 0.2619 - val_accuracy: 0.4255 - val_loss: 1.5873\n",
      "Epoch 14/15\n"
     ]
    },
    {
     "name": "stderr",
     "output_type": "stream",
     "text": [
      "2024-12-12 18:43:22.690672: I tensorflow/core/framework/local_rendezvous.cc:424] Local rendezvous recv item cancelled. Key hash: 17080047826698313515\n",
      "2024-12-12 18:43:22.690705: I tensorflow/core/framework/local_rendezvous.cc:424] Local rendezvous recv item cancelled. Key hash: 11283831286447593922\n"
     ]
    },
    {
     "name": "stdout",
     "output_type": "stream",
     "text": [
      "\u001b[1m26/27\u001b[0m \u001b[32m━━━━━━━━━━━━━━━━━━━\u001b[0m\u001b[37m━\u001b[0m \u001b[1m0s\u001b[0m 87ms/step - accuracy: 0.9338 - loss: 0.2104"
     ]
    },
    {
     "name": "stderr",
     "output_type": "stream",
     "text": [
      "2024-12-12 18:43:25.202512: I tensorflow/core/framework/local_rendezvous.cc:424] Local rendezvous recv item cancelled. Key hash: 17080047826698313515\n",
      "2024-12-12 18:43:25.202544: I tensorflow/core/framework/local_rendezvous.cc:424] Local rendezvous recv item cancelled. Key hash: 11283831286447593922\n"
     ]
    },
    {
     "name": "stdout",
     "output_type": "stream",
     "text": [
      "\u001b[1m27/27\u001b[0m \u001b[32m━━━━━━━━━━━━━━━━━━━━\u001b[0m\u001b[37m\u001b[0m \u001b[1m3s\u001b[0m 98ms/step - accuracy: 0.9356 - loss: 0.2082 - val_accuracy: 0.4255 - val_loss: 1.6247\n",
      "Epoch 15/15\n"
     ]
    },
    {
     "name": "stderr",
     "output_type": "stream",
     "text": [
      "2024-12-12 18:43:25.562479: I tensorflow/core/framework/local_rendezvous.cc:424] Local rendezvous recv item cancelled. Key hash: 17080047826698313515\n",
      "2024-12-12 18:43:25.562512: I tensorflow/core/framework/local_rendezvous.cc:424] Local rendezvous recv item cancelled. Key hash: 11283831286447593922\n"
     ]
    },
    {
     "name": "stdout",
     "output_type": "stream",
     "text": [
      "\u001b[1m26/27\u001b[0m \u001b[32m━━━━━━━━━━━━━━━━━━━\u001b[0m\u001b[37m━\u001b[0m \u001b[1m0s\u001b[0m 88ms/step - accuracy: 0.9592 - loss: 0.1637"
     ]
    },
    {
     "name": "stderr",
     "output_type": "stream",
     "text": [
      "2024-12-12 18:43:28.094533: I tensorflow/core/framework/local_rendezvous.cc:424] Local rendezvous recv item cancelled. Key hash: 17080047826698313515\n",
      "2024-12-12 18:43:28.094562: I tensorflow/core/framework/local_rendezvous.cc:424] Local rendezvous recv item cancelled. Key hash: 11283831286447593922\n"
     ]
    },
    {
     "name": "stdout",
     "output_type": "stream",
     "text": [
      "\u001b[1m27/27\u001b[0m \u001b[32m━━━━━━━━━━━━━━━━━━━━\u001b[0m\u001b[37m\u001b[0m \u001b[1m3s\u001b[0m 99ms/step - accuracy: 0.9597 - loss: 0.1630 - val_accuracy: 0.3936 - val_loss: 1.5894\n"
     ]
    },
    {
     "name": "stderr",
     "output_type": "stream",
     "text": [
      "2024-12-12 18:43:28.460022: I tensorflow/core/framework/local_rendezvous.cc:424] Local rendezvous recv item cancelled. Key hash: 11283831286447593922\n"
     ]
    },
    {
     "data": {
      "text/html": [
       "<pre style=\"white-space:pre;overflow-x:auto;line-height:normal;font-family:Menlo,'DejaVu Sans Mono',consolas,'Courier New',monospace\"><span style=\"font-weight: bold\">Model: \"sequential_4\"</span>\n",
       "</pre>\n"
      ],
      "text/plain": [
       "\u001b[1mModel: \"sequential_4\"\u001b[0m\n"
      ]
     },
     "metadata": {},
     "output_type": "display_data"
    },
    {
     "data": {
      "text/html": [
       "<pre style=\"white-space:pre;overflow-x:auto;line-height:normal;font-family:Menlo,'DejaVu Sans Mono',consolas,'Courier New',monospace\">┏━━━━━━━━━━━━━━━━━━━━━━━━━━━━━━━━━┳━━━━━━━━━━━━━━━━━━━━━━━━┳━━━━━━━━━━━━━━━┓\n",
       "┃<span style=\"font-weight: bold\"> Layer (type)                    </span>┃<span style=\"font-weight: bold\"> Output Shape           </span>┃<span style=\"font-weight: bold\">       Param # </span>┃\n",
       "┡━━━━━━━━━━━━━━━━━━━━━━━━━━━━━━━━━╇━━━━━━━━━━━━━━━━━━━━━━━━╇━━━━━━━━━━━━━━━┩\n",
       "│ conv2d_23 (<span style=\"color: #0087ff; text-decoration-color: #0087ff\">Conv2D</span>)              │ (<span style=\"color: #00d7ff; text-decoration-color: #00d7ff\">None</span>, <span style=\"color: #00af00; text-decoration-color: #00af00\">254</span>, <span style=\"color: #00af00; text-decoration-color: #00af00\">254</span>, <span style=\"color: #00af00; text-decoration-color: #00af00\">64</span>)   │         <span style=\"color: #00af00; text-decoration-color: #00af00\">1,792</span> │\n",
       "├─────────────────────────────────┼────────────────────────┼───────────────┤\n",
       "│ conv2d_24 (<span style=\"color: #0087ff; text-decoration-color: #0087ff\">Conv2D</span>)              │ (<span style=\"color: #00d7ff; text-decoration-color: #00d7ff\">None</span>, <span style=\"color: #00af00; text-decoration-color: #00af00\">252</span>, <span style=\"color: #00af00; text-decoration-color: #00af00\">252</span>, <span style=\"color: #00af00; text-decoration-color: #00af00\">64</span>)   │        <span style=\"color: #00af00; text-decoration-color: #00af00\">36,928</span> │\n",
       "├─────────────────────────────────┼────────────────────────┼───────────────┤\n",
       "│ batch_normalization             │ (<span style=\"color: #00d7ff; text-decoration-color: #00d7ff\">None</span>, <span style=\"color: #00af00; text-decoration-color: #00af00\">252</span>, <span style=\"color: #00af00; text-decoration-color: #00af00\">252</span>, <span style=\"color: #00af00; text-decoration-color: #00af00\">64</span>)   │           <span style=\"color: #00af00; text-decoration-color: #00af00\">256</span> │\n",
       "│ (<span style=\"color: #0087ff; text-decoration-color: #0087ff\">BatchNormalization</span>)            │                        │               │\n",
       "├─────────────────────────────────┼────────────────────────┼───────────────┤\n",
       "│ dropout (<span style=\"color: #0087ff; text-decoration-color: #0087ff\">Dropout</span>)               │ (<span style=\"color: #00d7ff; text-decoration-color: #00d7ff\">None</span>, <span style=\"color: #00af00; text-decoration-color: #00af00\">252</span>, <span style=\"color: #00af00; text-decoration-color: #00af00\">252</span>, <span style=\"color: #00af00; text-decoration-color: #00af00\">64</span>)   │             <span style=\"color: #00af00; text-decoration-color: #00af00\">0</span> │\n",
       "├─────────────────────────────────┼────────────────────────┼───────────────┤\n",
       "│ max_pooling2d_8 (<span style=\"color: #0087ff; text-decoration-color: #0087ff\">MaxPooling2D</span>)  │ (<span style=\"color: #00d7ff; text-decoration-color: #00d7ff\">None</span>, <span style=\"color: #00af00; text-decoration-color: #00af00\">84</span>, <span style=\"color: #00af00; text-decoration-color: #00af00\">84</span>, <span style=\"color: #00af00; text-decoration-color: #00af00\">64</span>)     │             <span style=\"color: #00af00; text-decoration-color: #00af00\">0</span> │\n",
       "├─────────────────────────────────┼────────────────────────┼───────────────┤\n",
       "│ conv2d_25 (<span style=\"color: #0087ff; text-decoration-color: #0087ff\">Conv2D</span>)              │ (<span style=\"color: #00d7ff; text-decoration-color: #00d7ff\">None</span>, <span style=\"color: #00af00; text-decoration-color: #00af00\">82</span>, <span style=\"color: #00af00; text-decoration-color: #00af00\">82</span>, <span style=\"color: #00af00; text-decoration-color: #00af00\">128</span>)    │        <span style=\"color: #00af00; text-decoration-color: #00af00\">73,856</span> │\n",
       "├─────────────────────────────────┼────────────────────────┼───────────────┤\n",
       "│ conv2d_26 (<span style=\"color: #0087ff; text-decoration-color: #0087ff\">Conv2D</span>)              │ (<span style=\"color: #00d7ff; text-decoration-color: #00d7ff\">None</span>, <span style=\"color: #00af00; text-decoration-color: #00af00\">80</span>, <span style=\"color: #00af00; text-decoration-color: #00af00\">80</span>, <span style=\"color: #00af00; text-decoration-color: #00af00\">128</span>)    │       <span style=\"color: #00af00; text-decoration-color: #00af00\">147,584</span> │\n",
       "├─────────────────────────────────┼────────────────────────┼───────────────┤\n",
       "│ batch_normalization_1           │ (<span style=\"color: #00d7ff; text-decoration-color: #00d7ff\">None</span>, <span style=\"color: #00af00; text-decoration-color: #00af00\">80</span>, <span style=\"color: #00af00; text-decoration-color: #00af00\">80</span>, <span style=\"color: #00af00; text-decoration-color: #00af00\">128</span>)    │           <span style=\"color: #00af00; text-decoration-color: #00af00\">512</span> │\n",
       "│ (<span style=\"color: #0087ff; text-decoration-color: #0087ff\">BatchNormalization</span>)            │                        │               │\n",
       "├─────────────────────────────────┼────────────────────────┼───────────────┤\n",
       "│ max_pooling2d_9 (<span style=\"color: #0087ff; text-decoration-color: #0087ff\">MaxPooling2D</span>)  │ (<span style=\"color: #00d7ff; text-decoration-color: #00d7ff\">None</span>, <span style=\"color: #00af00; text-decoration-color: #00af00\">26</span>, <span style=\"color: #00af00; text-decoration-color: #00af00\">26</span>, <span style=\"color: #00af00; text-decoration-color: #00af00\">128</span>)    │             <span style=\"color: #00af00; text-decoration-color: #00af00\">0</span> │\n",
       "├─────────────────────────────────┼────────────────────────┼───────────────┤\n",
       "│ conv2d_27 (<span style=\"color: #0087ff; text-decoration-color: #0087ff\">Conv2D</span>)              │ (<span style=\"color: #00d7ff; text-decoration-color: #00d7ff\">None</span>, <span style=\"color: #00af00; text-decoration-color: #00af00\">24</span>, <span style=\"color: #00af00; text-decoration-color: #00af00\">24</span>, <span style=\"color: #00af00; text-decoration-color: #00af00\">256</span>)    │       <span style=\"color: #00af00; text-decoration-color: #00af00\">295,168</span> │\n",
       "├─────────────────────────────────┼────────────────────────┼───────────────┤\n",
       "│ conv2d_28 (<span style=\"color: #0087ff; text-decoration-color: #0087ff\">Conv2D</span>)              │ (<span style=\"color: #00d7ff; text-decoration-color: #00d7ff\">None</span>, <span style=\"color: #00af00; text-decoration-color: #00af00\">22</span>, <span style=\"color: #00af00; text-decoration-color: #00af00\">22</span>, <span style=\"color: #00af00; text-decoration-color: #00af00\">256</span>)    │       <span style=\"color: #00af00; text-decoration-color: #00af00\">590,080</span> │\n",
       "├─────────────────────────────────┼────────────────────────┼───────────────┤\n",
       "│ batch_normalization_2           │ (<span style=\"color: #00d7ff; text-decoration-color: #00d7ff\">None</span>, <span style=\"color: #00af00; text-decoration-color: #00af00\">22</span>, <span style=\"color: #00af00; text-decoration-color: #00af00\">22</span>, <span style=\"color: #00af00; text-decoration-color: #00af00\">256</span>)    │         <span style=\"color: #00af00; text-decoration-color: #00af00\">1,024</span> │\n",
       "│ (<span style=\"color: #0087ff; text-decoration-color: #0087ff\">BatchNormalization</span>)            │                        │               │\n",
       "├─────────────────────────────────┼────────────────────────┼───────────────┤\n",
       "│ dropout_1 (<span style=\"color: #0087ff; text-decoration-color: #0087ff\">Dropout</span>)             │ (<span style=\"color: #00d7ff; text-decoration-color: #00d7ff\">None</span>, <span style=\"color: #00af00; text-decoration-color: #00af00\">22</span>, <span style=\"color: #00af00; text-decoration-color: #00af00\">22</span>, <span style=\"color: #00af00; text-decoration-color: #00af00\">256</span>)    │             <span style=\"color: #00af00; text-decoration-color: #00af00\">0</span> │\n",
       "├─────────────────────────────────┼────────────────────────┼───────────────┤\n",
       "│ max_pooling2d_10 (<span style=\"color: #0087ff; text-decoration-color: #0087ff\">MaxPooling2D</span>) │ (<span style=\"color: #00d7ff; text-decoration-color: #00d7ff\">None</span>, <span style=\"color: #00af00; text-decoration-color: #00af00\">7</span>, <span style=\"color: #00af00; text-decoration-color: #00af00\">7</span>, <span style=\"color: #00af00; text-decoration-color: #00af00\">256</span>)      │             <span style=\"color: #00af00; text-decoration-color: #00af00\">0</span> │\n",
       "├─────────────────────────────────┼────────────────────────┼───────────────┤\n",
       "│ flatten_4 (<span style=\"color: #0087ff; text-decoration-color: #0087ff\">Flatten</span>)             │ (<span style=\"color: #00d7ff; text-decoration-color: #00d7ff\">None</span>, <span style=\"color: #00af00; text-decoration-color: #00af00\">12544</span>)          │             <span style=\"color: #00af00; text-decoration-color: #00af00\">0</span> │\n",
       "├─────────────────────────────────┼────────────────────────┼───────────────┤\n",
       "│ dense_8 (<span style=\"color: #0087ff; text-decoration-color: #0087ff\">Dense</span>)                 │ (<span style=\"color: #00d7ff; text-decoration-color: #00d7ff\">None</span>, <span style=\"color: #00af00; text-decoration-color: #00af00\">256</span>)            │     <span style=\"color: #00af00; text-decoration-color: #00af00\">3,211,520</span> │\n",
       "├─────────────────────────────────┼────────────────────────┼───────────────┤\n",
       "│ dense_9 (<span style=\"color: #0087ff; text-decoration-color: #0087ff\">Dense</span>)                 │ (<span style=\"color: #00d7ff; text-decoration-color: #00d7ff\">None</span>, <span style=\"color: #00af00; text-decoration-color: #00af00\">5</span>)              │         <span style=\"color: #00af00; text-decoration-color: #00af00\">1,285</span> │\n",
       "└─────────────────────────────────┴────────────────────────┴───────────────┘\n",
       "</pre>\n"
      ],
      "text/plain": [
       "┏━━━━━━━━━━━━━━━━━━━━━━━━━━━━━━━━━┳━━━━━━━━━━━━━━━━━━━━━━━━┳━━━━━━━━━━━━━━━┓\n",
       "┃\u001b[1m \u001b[0m\u001b[1mLayer (type)                   \u001b[0m\u001b[1m \u001b[0m┃\u001b[1m \u001b[0m\u001b[1mOutput Shape          \u001b[0m\u001b[1m \u001b[0m┃\u001b[1m \u001b[0m\u001b[1m      Param #\u001b[0m\u001b[1m \u001b[0m┃\n",
       "┡━━━━━━━━━━━━━━━━━━━━━━━━━━━━━━━━━╇━━━━━━━━━━━━━━━━━━━━━━━━╇━━━━━━━━━━━━━━━┩\n",
       "│ conv2d_23 (\u001b[38;5;33mConv2D\u001b[0m)              │ (\u001b[38;5;45mNone\u001b[0m, \u001b[38;5;34m254\u001b[0m, \u001b[38;5;34m254\u001b[0m, \u001b[38;5;34m64\u001b[0m)   │         \u001b[38;5;34m1,792\u001b[0m │\n",
       "├─────────────────────────────────┼────────────────────────┼───────────────┤\n",
       "│ conv2d_24 (\u001b[38;5;33mConv2D\u001b[0m)              │ (\u001b[38;5;45mNone\u001b[0m, \u001b[38;5;34m252\u001b[0m, \u001b[38;5;34m252\u001b[0m, \u001b[38;5;34m64\u001b[0m)   │        \u001b[38;5;34m36,928\u001b[0m │\n",
       "├─────────────────────────────────┼────────────────────────┼───────────────┤\n",
       "│ batch_normalization             │ (\u001b[38;5;45mNone\u001b[0m, \u001b[38;5;34m252\u001b[0m, \u001b[38;5;34m252\u001b[0m, \u001b[38;5;34m64\u001b[0m)   │           \u001b[38;5;34m256\u001b[0m │\n",
       "│ (\u001b[38;5;33mBatchNormalization\u001b[0m)            │                        │               │\n",
       "├─────────────────────────────────┼────────────────────────┼───────────────┤\n",
       "│ dropout (\u001b[38;5;33mDropout\u001b[0m)               │ (\u001b[38;5;45mNone\u001b[0m, \u001b[38;5;34m252\u001b[0m, \u001b[38;5;34m252\u001b[0m, \u001b[38;5;34m64\u001b[0m)   │             \u001b[38;5;34m0\u001b[0m │\n",
       "├─────────────────────────────────┼────────────────────────┼───────────────┤\n",
       "│ max_pooling2d_8 (\u001b[38;5;33mMaxPooling2D\u001b[0m)  │ (\u001b[38;5;45mNone\u001b[0m, \u001b[38;5;34m84\u001b[0m, \u001b[38;5;34m84\u001b[0m, \u001b[38;5;34m64\u001b[0m)     │             \u001b[38;5;34m0\u001b[0m │\n",
       "├─────────────────────────────────┼────────────────────────┼───────────────┤\n",
       "│ conv2d_25 (\u001b[38;5;33mConv2D\u001b[0m)              │ (\u001b[38;5;45mNone\u001b[0m, \u001b[38;5;34m82\u001b[0m, \u001b[38;5;34m82\u001b[0m, \u001b[38;5;34m128\u001b[0m)    │        \u001b[38;5;34m73,856\u001b[0m │\n",
       "├─────────────────────────────────┼────────────────────────┼───────────────┤\n",
       "│ conv2d_26 (\u001b[38;5;33mConv2D\u001b[0m)              │ (\u001b[38;5;45mNone\u001b[0m, \u001b[38;5;34m80\u001b[0m, \u001b[38;5;34m80\u001b[0m, \u001b[38;5;34m128\u001b[0m)    │       \u001b[38;5;34m147,584\u001b[0m │\n",
       "├─────────────────────────────────┼────────────────────────┼───────────────┤\n",
       "│ batch_normalization_1           │ (\u001b[38;5;45mNone\u001b[0m, \u001b[38;5;34m80\u001b[0m, \u001b[38;5;34m80\u001b[0m, \u001b[38;5;34m128\u001b[0m)    │           \u001b[38;5;34m512\u001b[0m │\n",
       "│ (\u001b[38;5;33mBatchNormalization\u001b[0m)            │                        │               │\n",
       "├─────────────────────────────────┼────────────────────────┼───────────────┤\n",
       "│ max_pooling2d_9 (\u001b[38;5;33mMaxPooling2D\u001b[0m)  │ (\u001b[38;5;45mNone\u001b[0m, \u001b[38;5;34m26\u001b[0m, \u001b[38;5;34m26\u001b[0m, \u001b[38;5;34m128\u001b[0m)    │             \u001b[38;5;34m0\u001b[0m │\n",
       "├─────────────────────────────────┼────────────────────────┼───────────────┤\n",
       "│ conv2d_27 (\u001b[38;5;33mConv2D\u001b[0m)              │ (\u001b[38;5;45mNone\u001b[0m, \u001b[38;5;34m24\u001b[0m, \u001b[38;5;34m24\u001b[0m, \u001b[38;5;34m256\u001b[0m)    │       \u001b[38;5;34m295,168\u001b[0m │\n",
       "├─────────────────────────────────┼────────────────────────┼───────────────┤\n",
       "│ conv2d_28 (\u001b[38;5;33mConv2D\u001b[0m)              │ (\u001b[38;5;45mNone\u001b[0m, \u001b[38;5;34m22\u001b[0m, \u001b[38;5;34m22\u001b[0m, \u001b[38;5;34m256\u001b[0m)    │       \u001b[38;5;34m590,080\u001b[0m │\n",
       "├─────────────────────────────────┼────────────────────────┼───────────────┤\n",
       "│ batch_normalization_2           │ (\u001b[38;5;45mNone\u001b[0m, \u001b[38;5;34m22\u001b[0m, \u001b[38;5;34m22\u001b[0m, \u001b[38;5;34m256\u001b[0m)    │         \u001b[38;5;34m1,024\u001b[0m │\n",
       "│ (\u001b[38;5;33mBatchNormalization\u001b[0m)            │                        │               │\n",
       "├─────────────────────────────────┼────────────────────────┼───────────────┤\n",
       "│ dropout_1 (\u001b[38;5;33mDropout\u001b[0m)             │ (\u001b[38;5;45mNone\u001b[0m, \u001b[38;5;34m22\u001b[0m, \u001b[38;5;34m22\u001b[0m, \u001b[38;5;34m256\u001b[0m)    │             \u001b[38;5;34m0\u001b[0m │\n",
       "├─────────────────────────────────┼────────────────────────┼───────────────┤\n",
       "│ max_pooling2d_10 (\u001b[38;5;33mMaxPooling2D\u001b[0m) │ (\u001b[38;5;45mNone\u001b[0m, \u001b[38;5;34m7\u001b[0m, \u001b[38;5;34m7\u001b[0m, \u001b[38;5;34m256\u001b[0m)      │             \u001b[38;5;34m0\u001b[0m │\n",
       "├─────────────────────────────────┼────────────────────────┼───────────────┤\n",
       "│ flatten_4 (\u001b[38;5;33mFlatten\u001b[0m)             │ (\u001b[38;5;45mNone\u001b[0m, \u001b[38;5;34m12544\u001b[0m)          │             \u001b[38;5;34m0\u001b[0m │\n",
       "├─────────────────────────────────┼────────────────────────┼───────────────┤\n",
       "│ dense_8 (\u001b[38;5;33mDense\u001b[0m)                 │ (\u001b[38;5;45mNone\u001b[0m, \u001b[38;5;34m256\u001b[0m)            │     \u001b[38;5;34m3,211,520\u001b[0m │\n",
       "├─────────────────────────────────┼────────────────────────┼───────────────┤\n",
       "│ dense_9 (\u001b[38;5;33mDense\u001b[0m)                 │ (\u001b[38;5;45mNone\u001b[0m, \u001b[38;5;34m5\u001b[0m)              │         \u001b[38;5;34m1,285\u001b[0m │\n",
       "└─────────────────────────────────┴────────────────────────┴───────────────┘\n"
      ]
     },
     "metadata": {},
     "output_type": "display_data"
    },
    {
     "data": {
      "text/html": [
       "<pre style=\"white-space:pre;overflow-x:auto;line-height:normal;font-family:Menlo,'DejaVu Sans Mono',consolas,'Courier New',monospace\"><span style=\"font-weight: bold\"> Total params: </span><span style=\"color: #00af00; text-decoration-color: #00af00\">4,360,007</span> (16.63 MB)\n",
       "</pre>\n"
      ],
      "text/plain": [
       "\u001b[1m Total params: \u001b[0m\u001b[38;5;34m4,360,007\u001b[0m (16.63 MB)\n"
      ]
     },
     "metadata": {},
     "output_type": "display_data"
    },
    {
     "data": {
      "text/html": [
       "<pre style=\"white-space:pre;overflow-x:auto;line-height:normal;font-family:Menlo,'DejaVu Sans Mono',consolas,'Courier New',monospace\"><span style=\"font-weight: bold\"> Trainable params: </span><span style=\"color: #00af00; text-decoration-color: #00af00\">4,359,109</span> (16.63 MB)\n",
       "</pre>\n"
      ],
      "text/plain": [
       "\u001b[1m Trainable params: \u001b[0m\u001b[38;5;34m4,359,109\u001b[0m (16.63 MB)\n"
      ]
     },
     "metadata": {},
     "output_type": "display_data"
    },
    {
     "data": {
      "text/html": [
       "<pre style=\"white-space:pre;overflow-x:auto;line-height:normal;font-family:Menlo,'DejaVu Sans Mono',consolas,'Courier New',monospace\"><span style=\"font-weight: bold\"> Non-trainable params: </span><span style=\"color: #00af00; text-decoration-color: #00af00\">896</span> (3.50 KB)\n",
       "</pre>\n"
      ],
      "text/plain": [
       "\u001b[1m Non-trainable params: \u001b[0m\u001b[38;5;34m896\u001b[0m (3.50 KB)\n"
      ]
     },
     "metadata": {},
     "output_type": "display_data"
    },
    {
     "data": {
      "text/html": [
       "<pre style=\"white-space:pre;overflow-x:auto;line-height:normal;font-family:Menlo,'DejaVu Sans Mono',consolas,'Courier New',monospace\"><span style=\"font-weight: bold\"> Optimizer params: </span><span style=\"color: #00af00; text-decoration-color: #00af00\">2</span> (12.00 B)\n",
       "</pre>\n"
      ],
      "text/plain": [
       "\u001b[1m Optimizer params: \u001b[0m\u001b[38;5;34m2\u001b[0m (12.00 B)\n"
      ]
     },
     "metadata": {},
     "output_type": "display_data"
    },
    {
     "name": "stderr",
     "output_type": "stream",
     "text": [
      "2024-12-12 18:43:28.825303: I tensorflow/core/framework/local_rendezvous.cc:424] Local rendezvous recv item cancelled. Key hash: 17080047826698313515\n",
      "2024-12-12 18:43:28.825333: I tensorflow/core/framework/local_rendezvous.cc:424] Local rendezvous recv item cancelled. Key hash: 11283831286447593922\n"
     ]
    },
    {
     "name": "stdout",
     "output_type": "stream",
     "text": [
      "Test accuracy: 0.394\n"
     ]
    },
    {
     "data": {
      "image/png": "[encoded data removed]",
      "text/plain": [
       "<Figure size 1200x600 with 2 Axes>"
      ]
     },
     "metadata": {},
     "output_type": "display_data"
    }
   ],
   "source": [
    "\n",
    "history = model.fit(\n",
    "    train_dataset,\n",
    "    validation_data=test_dataset,\n",
    "    epochs=epochs,\n",
    "    verbose=1\n",
    ")\n",
    "\n",
    "#model.save_weights(os.path.join(model_folder, weights_filename))\n",
    "#model.save(os.path.join(model_folder, model_filename))\n",
    "\n",
    "model.summary()\n",
    "loss, acc = model.evaluate(test_dataset, verbose=0)\n",
    "print('Test accuracy: %.3f' % acc)\n",
    "\n",
    "fig, (ax1, ax2) = plt.subplots(1,2, figsize=(12, 6))\n",
    "fig.suptitle('Accuracy and Loss during Training')\n",
    "\n",
    "# Plot Accuracy\n",
    "ax1.set_title(\"Accuracy\")\n",
    "ax1.plot(history.history['accuracy'], label='Train Accuracy')\n",
    "ax1.plot(history.history['val_accuracy'], label='Test Accuracy')\n",
    "ax1.set(xlabel=\"epochs\")\n",
    "ax1.legend()\n",
    "\n",
    "# Plot Loss\n",
    "ax2.set_title(\"Loss\")\n",
    "ax2.plot(history.history['loss'], label='Train Loss')\n",
    "ax2.plot(history.history['val_loss'], label='Test Loss')\n",
    "ax2.set(xlabel=\"epochs\")\n",
    "ax2.legend()\n",
    "\n",
    "plt.show()"
   ]
  },
  {
   "cell_type": "markdown",
   "metadata": {},
   "source": [
    "# Performancetest des Modells"
   ]
  },
  {
   "cell_type": "code",
   "execution_count": 28,
   "metadata": {},
   "outputs": [
    {
     "name": "stdout",
     "output_type": "stream",
     "text": [
      "Model loaded successfully!\n",
      "Class labels: {0: 'Chihuahua', 1: 'Maltese Dog', 2: 'Komondor', 3: 'German Shepherd', 4: 'African Hunting Dog'}\n",
      "Testing image: (<tf.Tensor: shape=(16, 256, 256, 3), dtype=float32, numpy=\n",
      "array([[[[0.624303  , 0.67920494, 0.47920495],\n",
      "         [0.6370108 , 0.6919128 , 0.49191278],\n",
      "         [0.6240919 , 0.67899394, 0.4711508 ],\n",
      "         ...,\n",
      "         [0.53388053, 0.58035725, 0.22891732],\n",
      "         [0.50483304, 0.5782093 , 0.20734528],\n",
      "         [0.5157957 , 0.5942271 , 0.22167808]],\n",
      "\n",
      "        [[0.6172554 , 0.6721574 , 0.4721574 ],\n",
      "         [0.63373464, 0.6886366 , 0.4831679 ],\n",
      "         [0.6286841 , 0.68358606, 0.47574297],\n",
      "         ...,\n",
      "         [0.5341963 , 0.58067304, 0.22923309],\n",
      "         [0.5210585 , 0.5928753 , 0.2290395 ],\n",
      "         [0.5294118 , 0.60510874, 0.24076287]],\n",
      "\n",
      "        [[0.61097497, 0.6658769 , 0.46460548],\n",
      "         [0.62562805, 0.68053   , 0.4726869 ],\n",
      "         [0.6297223 , 0.68526   , 0.47614542],\n",
      "         ...,\n",
      "         [0.5277897 , 0.57426643, 0.2228265 ],\n",
      "         [0.50811374, 0.57898027, 0.21974057],\n",
      "         [0.5112209 , 0.5857307 , 0.22965261]],\n",
      "\n",
      "        ...,\n",
      "\n",
      "        [[0.6331913 , 0.6364473 , 0.34382665],\n",
      "         [0.6081012 , 0.6199501 , 0.33233014],\n",
      "         [0.60222465, 0.6192778 , 0.3457696 ],\n",
      "         ...,\n",
      "         [0.7130497 , 0.7522654 , 0.4659909 ],\n",
      "         [0.69652265, 0.7278952 , 0.43377757],\n",
      "         [0.6759302 , 0.70730275, 0.4131851 ]],\n",
      "\n",
      "        [[0.6460994 , 0.6472743 , 0.3196538 ],\n",
      "         [0.6593321 , 0.6647595 , 0.34578738],\n",
      "         [0.6313036 , 0.6522722 , 0.33680043],\n",
      "         ...,\n",
      "         [0.70021445, 0.7433517 , 0.4453125 ],\n",
      "         [0.69014245, 0.721515  , 0.42739737],\n",
      "         [0.66672695, 0.6980995 , 0.40398183]],\n",
      "\n",
      "        [[0.6461746 , 0.6430234 , 0.30132386],\n",
      "         [0.6510769 , 0.6539272 , 0.32160184],\n",
      "         [0.6465746 , 0.6626098 , 0.33203807],\n",
      "         ...,\n",
      "         [0.6821044 , 0.72524166, 0.42720246],\n",
      "         [0.6874081 , 0.71878064, 0.42466298],\n",
      "         [0.6625613 , 0.69393384, 0.3998162 ]]],\n",
      "\n",
      "\n",
      "       [[[0.04239729, 0.07376985, 0.08161298],\n",
      "         [0.03978379, 0.07115634, 0.08134323],\n",
      "         [0.04888904, 0.08026159, 0.09202629],\n",
      "         ...,\n",
      "         [0.33595067, 0.3830095 , 0.3830095 ],\n",
      "         [0.3401335 , 0.3871923 , 0.3871923 ],\n",
      "         [0.34030536, 0.38736418, 0.38736418]],\n",
      "\n",
      "        [[0.05692534, 0.08829789, 0.09614103],\n",
      "         [0.04360076, 0.07497332, 0.0851602 ],\n",
      "         [0.04199494, 0.07336749, 0.0851322 ],\n",
      "         ...,\n",
      "         [0.22797613, 0.28287807, 0.28287807],\n",
      "         [0.23155242, 0.28645438, 0.28645438],\n",
      "         [0.24600315, 0.3009051 , 0.3009051 ]],\n",
      "\n",
      "        [[0.06176471, 0.09313726, 0.10098039],\n",
      "         [0.04935003, 0.08072259, 0.09090947],\n",
      "         [0.04522059, 0.07659314, 0.08835784],\n",
      "         ...,\n",
      "         [0.22745098, 0.2901961 , 0.28627452],\n",
      "         [0.22234772, 0.28509283, 0.28117126],\n",
      "         [0.1995317 , 0.2622768 , 0.25835523]],\n",
      "\n",
      "        ...,\n",
      "\n",
      "        [[0.16191502, 0.14622875, 0.15015031],\n",
      "         [0.17324494, 0.15755866, 0.16148023],\n",
      "         [0.10795659, 0.09709209, 0.10101366],\n",
      "         ...,\n",
      "         [0.04944266, 0.05336423, 0.03375639],\n",
      "         [0.03758318, 0.04150474, 0.0218969 ],\n",
      "         [0.03259074, 0.03651231, 0.01690446]],\n",
      "\n",
      "        [[0.16794948, 0.15226321, 0.14834164],\n",
      "         [0.16262256, 0.15396753, 0.1477022 ],\n",
      "         [0.16299462, 0.15907305, 0.15122992],\n",
      "         ...,\n",
      "         [0.03421523, 0.0381368 , 0.01852896],\n",
      "         [0.0435049 , 0.04742647, 0.02781863],\n",
      "         [0.04684304, 0.05076462, 0.03115677]],\n",
      "\n",
      "        [[0.1737179 , 0.15803163, 0.15411006],\n",
      "         [0.14379333, 0.1351383 , 0.12887298],\n",
      "         [0.1723871 , 0.16846552, 0.16062239],\n",
      "         ...,\n",
      "         [0.03771374, 0.04163531, 0.02202747],\n",
      "         [0.03986039, 0.04378195, 0.02417411],\n",
      "         [0.04974892, 0.05367049, 0.03406264]]],\n",
      "\n",
      "\n",
      "       [[[0.10980392, 0.03529412, 0.01960784],\n",
      "         [0.10980392, 0.03529412, 0.01960784],\n",
      "         [0.10980392, 0.03529412, 0.01960784],\n",
      "         ...,\n",
      "         [0.16006434, 0.25810355, 0.5120864 ],\n",
      "         [0.15015337, 0.2325063 , 0.48293522],\n",
      "         [0.14852175, 0.23087469, 0.47793353]],\n",
      "\n",
      "        [[0.10980392, 0.03529412, 0.01960784],\n",
      "         [0.10980392, 0.03529412, 0.01960784],\n",
      "         [0.10980392, 0.03529412, 0.01960784],\n",
      "         ...,\n",
      "         [0.16904871, 0.26708794, 0.5210708 ],\n",
      "         [0.17958793, 0.26194087, 0.5123698 ],\n",
      "         [0.1669734 , 0.24932633, 0.49638516]],\n",
      "\n",
      "        [[0.10980392, 0.03529412, 0.01960784],\n",
      "         [0.10980392, 0.03529412, 0.01960784],\n",
      "         [0.10980392, 0.03529412, 0.01960784],\n",
      "         ...,\n",
      "         [0.17800395, 0.26983613, 0.5324463 ],\n",
      "         [0.18242954, 0.2647825 , 0.51724696],\n",
      "         [0.17151472, 0.25386766, 0.50449574]],\n",
      "\n",
      "        ...,\n",
      "\n",
      "        [[0.32058823, 0.36372548, 0.67745095],\n",
      "         [0.29792523, 0.35396075, 0.66207963],\n",
      "         [0.3095205 , 0.37815413, 0.6775122 ],\n",
      "         ...,\n",
      "         [0.09411765, 0.034375  , 0.03287378],\n",
      "         [0.10317951, 0.03015382, 0.02506307],\n",
      "         [0.09897395, 0.02241085, 0.01755515]],\n",
      "\n",
      "        [[0.34875137, 0.39188862, 0.7056141 ],\n",
      "         [0.3175092 , 0.37354472, 0.68166363],\n",
      "         [0.31321996, 0.37896752, 0.6794271 ],\n",
      "         ...,\n",
      "         [0.09411765, 0.034375  , 0.03287378],\n",
      "         [0.1041973 , 0.02913603, 0.02352941],\n",
      "         [0.09990809, 0.02147672, 0.01755515]],\n",
      "\n",
      "        [[0.35445005, 0.39758733, 0.71131283],\n",
      "         [0.32435662, 0.38039216, 0.688511  ],\n",
      "         [0.32562807, 0.3913756 , 0.69183517],\n",
      "         ...,\n",
      "         [0.09411765, 0.034375  , 0.03287378],\n",
      "         [0.1041973 , 0.02913603, 0.02352941],\n",
      "         [0.09990809, 0.02147672, 0.01755515]]],\n",
      "\n",
      "\n",
      "       ...,\n",
      "\n",
      "\n",
      "       [[[0.5275516 , 0.74323785, 0.52009684],\n",
      "         [0.5513968 , 0.76876813, 0.534195  ],\n",
      "         [0.67655694, 0.9077431 , 0.63858205],\n",
      "         ...,\n",
      "         [0.9133928 , 0.9568943 , 0.86447614],\n",
      "         [0.9283114 , 0.99517924, 0.88517416],\n",
      "         [0.9116871 , 0.9839396 , 0.8685498 ]],\n",
      "\n",
      "        [[0.14235942, 0.32378057, 0.1480845 ],\n",
      "         [0.12739474, 0.3233183 , 0.12348998],\n",
      "         [0.44780165, 0.67068005, 0.42951888],\n",
      "         ...,\n",
      "         [0.9308824 , 0.97225034, 0.8838236 ],\n",
      "         [0.8851732 , 0.94759965, 0.84203595],\n",
      "         [0.9371896 , 0.99365604, 0.8940523 ]],\n",
      "\n",
      "        [[0.12414395, 0.32190403, 0.1571207 ],\n",
      "         [0.3332379 , 0.5342872 , 0.36095947],\n",
      "         [0.3231994 , 0.5358296 , 0.3312187 ],\n",
      "         ...,\n",
      "         [0.9617978 , 0.99748427, 0.9238536 ],\n",
      "         [0.88320565, 0.93401235, 0.84713537],\n",
      "         [0.95157605, 0.9937364 , 0.91474587]],\n",
      "\n",
      "        ...,\n",
      "\n",
      "        [[0.31088036, 0.5129331 , 0.33198944],\n",
      "         [0.4322505 , 0.6356206 , 0.5146341 ],\n",
      "         [0.29119387, 0.50654316, 0.37388384],\n",
      "         ...,\n",
      "         [0.10356619, 0.10840687, 0.15546569],\n",
      "         [0.08416814, 0.11609216, 0.14522819],\n",
      "         [0.12317792, 0.15847203, 0.18592303]],\n",
      "\n",
      "        [[0.24557896, 0.44763166, 0.26668802],\n",
      "         [0.35592544, 0.55929554, 0.438309  ],\n",
      "         [0.28932956, 0.50467885, 0.3720195 ],\n",
      "         ...,\n",
      "         [0.09116426, 0.09600495, 0.14306377],\n",
      "         [0.08479321, 0.11671723, 0.14585327],\n",
      "         [0.11828075, 0.15357487, 0.18102585]],\n",
      "\n",
      "        [[0.2199528 , 0.4220055 , 0.24106188],\n",
      "         [0.09263952, 0.29600963, 0.1750231 ],\n",
      "         [0.28220963, 0.4975589 , 0.36489958],\n",
      "         ...,\n",
      "         [0.07852998, 0.08337067, 0.13042949],\n",
      "         [0.10163245, 0.13355647, 0.1626925 ],\n",
      "         [0.12964155, 0.16493566, 0.19238664]]],\n",
      "\n",
      "\n",
      "       [[[0.11277574, 0.06963848, 0.06179534],\n",
      "         [0.10980392, 0.06666667, 0.05882353],\n",
      "         [0.10897671, 0.06583946, 0.05799633],\n",
      "         ...,\n",
      "         [0.09494485, 0.0518076 , 0.04396446],\n",
      "         [0.09411765, 0.05098039, 0.04313726],\n",
      "         [0.09411765, 0.05098039, 0.04313726]],\n",
      "\n",
      "        [[0.11277574, 0.06963848, 0.06179534],\n",
      "         [0.10980392, 0.06666667, 0.05882353],\n",
      "         [0.10897671, 0.06583946, 0.05799633],\n",
      "         ...,\n",
      "         [0.10183746, 0.0587002 , 0.05085706],\n",
      "         [0.10182292, 0.05868566, 0.05084252],\n",
      "         [0.10182292, 0.05868566, 0.05084252]],\n",
      "\n",
      "        [[0.11369766, 0.07056041, 0.06271727],\n",
      "         [0.1136106 , 0.07047334, 0.06263021],\n",
      "         [0.10977969, 0.06664243, 0.0587993 ],\n",
      "         ...,\n",
      "         [0.10496449, 0.06182724, 0.0539841 ],\n",
      "         [0.10576747, 0.06263021, 0.05478707],\n",
      "         [0.10576747, 0.06263021, 0.05478707]],\n",
      "\n",
      "        ...,\n",
      "\n",
      "        [[0.        , 0.        , 0.        ],\n",
      "         [0.        , 0.        , 0.        ],\n",
      "         [0.        , 0.        , 0.        ],\n",
      "         ...,\n",
      "         [0.        , 0.00392157, 0.        ],\n",
      "         [0.        , 0.00392157, 0.        ],\n",
      "         [0.        , 0.00392157, 0.        ]],\n",
      "\n",
      "        [[0.        , 0.        , 0.        ],\n",
      "         [0.        , 0.        , 0.        ],\n",
      "         [0.        , 0.        , 0.        ],\n",
      "         ...,\n",
      "         [0.        , 0.00385263, 0.        ],\n",
      "         [0.        , 0.00385263, 0.        ],\n",
      "         [0.        , 0.00385263, 0.        ]],\n",
      "\n",
      "        [[0.        , 0.        , 0.        ],\n",
      "         [0.        , 0.        , 0.        ],\n",
      "         [0.        , 0.        , 0.        ],\n",
      "         ...,\n",
      "         [0.        , 0.        , 0.        ],\n",
      "         [0.        , 0.        , 0.        ],\n",
      "         [0.        , 0.        , 0.        ]]],\n",
      "\n",
      "\n",
      "       [[[0.2562831 , 0.32368153, 0.10267495],\n",
      "         [0.31711826, 0.3314547 , 0.14750749],\n",
      "         [0.28637832, 0.28347778, 0.12706228],\n",
      "         ...,\n",
      "         [0.12886263, 0.13670577, 0.09356851],\n",
      "         [0.10523604, 0.11307918, 0.06994192],\n",
      "         [0.12964508, 0.13748822, 0.09435096]],\n",
      "\n",
      "        [[0.39843702, 0.45909765, 0.2532047 ],\n",
      "         [0.33480337, 0.3751657 , 0.20372954],\n",
      "         [0.3183446 , 0.3577384 , 0.19979636],\n",
      "         ...,\n",
      "         [0.10728401, 0.11455335, 0.07313747],\n",
      "         [0.08967411, 0.0968367 , 0.05574108],\n",
      "         [0.11066649, 0.11702845, 0.07833473]],\n",
      "\n",
      "        [[0.3734189 , 0.4248082 , 0.2500763 ],\n",
      "         [0.50887585, 0.5832631 , 0.42322174],\n",
      "         [0.4714457 , 0.55991447, 0.41526064],\n",
      "         ...,\n",
      "         [0.08217312, 0.09393783, 0.0633232 ],\n",
      "         [0.06968509, 0.0814498 , 0.05113292],\n",
      "         [0.08688959, 0.09865429, 0.07057058]],\n",
      "\n",
      "        ...,\n",
      "\n",
      "        [[0.563878  , 0.53880906, 0.41793746],\n",
      "         [0.57333463, 0.5498052 , 0.4152451 ],\n",
      "         [0.52036613, 0.49735388, 0.3583067 ],\n",
      "         ...,\n",
      "         [0.17401704, 0.17793861, 0.15440919],\n",
      "         [0.2501718 , 0.25409338, 0.23056395],\n",
      "         [0.40112263, 0.4050442 , 0.37843573]],\n",
      "\n",
      "        [[0.49562833, 0.47209892, 0.3387656 ],\n",
      "         [0.552868  , 0.5293386 , 0.39600524],\n",
      "         [0.56195885, 0.53842944, 0.40509608],\n",
      "         ...,\n",
      "         [0.10239276, 0.10631432, 0.08278491],\n",
      "         [0.1552072 , 0.15912877, 0.13559936],\n",
      "         [0.11419026, 0.11811183, 0.09458241]],\n",
      "\n",
      "        [[0.4913609 , 0.4678315 , 0.33449814],\n",
      "         [0.5117724 , 0.48824295, 0.35490963],\n",
      "         [0.5189368 , 0.4954074 , 0.36207408],\n",
      "         ...,\n",
      "         [0.13749169, 0.14141326, 0.11788384],\n",
      "         [0.07565218, 0.07957375, 0.05604434],\n",
      "         [0.05646386, 0.06038543, 0.03685602]]]], dtype=float32)>, <tf.Tensor: shape=(16,), dtype=int64, numpy=array([1, 1, 0, 0, 1, 0, 4, 3, 2, 4, 1, 1, 2, 3, 0, 4])>)\n"
     ]
    },
    {
     "ename": "InvalidArgumentError",
     "evalue": "cannot compute Pack as input #1(zero-based) was expected to be a float tensor but is a int64 tensor [Op:Pack] name: images",
     "output_type": "error",
     "traceback": [
      "\u001b[0;31m---------------------------------------------------------------------------\u001b[0m",
      "\u001b[0;31mInvalidArgumentError\u001b[0m                      Traceback (most recent call last)",
      "Cell \u001b[0;32mIn[28], line 39\u001b[0m\n\u001b[1;32m     37\u001b[0m \u001b[38;5;28;01mfor\u001b[39;00m img \u001b[38;5;129;01min\u001b[39;00m train_dataset:\n\u001b[1;32m     38\u001b[0m     \u001b[38;5;28mprint\u001b[39m(\u001b[38;5;124mf\u001b[39m\u001b[38;5;124m\"\u001b[39m\u001b[38;5;124mTesting image: \u001b[39m\u001b[38;5;132;01m{\u001b[39;00mimg\u001b[38;5;132;01m}\u001b[39;00m\u001b[38;5;124m\"\u001b[39m)\n\u001b[0;32m---> 39\u001b[0m     \u001b[43mpredict_image\u001b[49m\u001b[43m(\u001b[49m\u001b[43mimg\u001b[49m\u001b[43m)\u001b[49m\n",
      "Cell \u001b[0;32mIn[28], line 24\u001b[0m, in \u001b[0;36mpredict_image\u001b[0;34m(img)\u001b[0m\n\u001b[1;32m     23\u001b[0m \u001b[38;5;28;01mdef\u001b[39;00m \u001b[38;5;21mpredict_image\u001b[39m(img):\n\u001b[0;32m---> 24\u001b[0m     preprocessed_image \u001b[38;5;241m=\u001b[39m \u001b[43mpreprocess_image\u001b[49m\u001b[43m(\u001b[49m\u001b[43mimg\u001b[49m\u001b[43m)\u001b[49m\n\u001b[1;32m     25\u001b[0m     predictions \u001b[38;5;241m=\u001b[39m model\u001b[38;5;241m.\u001b[39mpredict(preprocessed_image)\n\u001b[1;32m     26\u001b[0m     predicted_class \u001b[38;5;241m=\u001b[39m np\u001b[38;5;241m.\u001b[39margmax(predictions, axis\u001b[38;5;241m=\u001b[39m\u001b[38;5;241m-\u001b[39m\u001b[38;5;241m1\u001b[39m)[\u001b[38;5;241m0\u001b[39m]\n",
      "Cell \u001b[0;32mIn[28], line 17\u001b[0m, in \u001b[0;36mpreprocess_image\u001b[0;34m(img)\u001b[0m\n\u001b[1;32m     16\u001b[0m \u001b[38;5;28;01mdef\u001b[39;00m \u001b[38;5;21mpreprocess_image\u001b[39m(img):\n\u001b[0;32m---> 17\u001b[0m     img_array \u001b[38;5;241m=\u001b[39m \u001b[43mtf\u001b[49m\u001b[38;5;241;43m.\u001b[39;49m\u001b[43mimage\u001b[49m\u001b[38;5;241;43m.\u001b[39;49m\u001b[43mresize\u001b[49m\u001b[43m(\u001b[49m\u001b[43mimg\u001b[49m\u001b[43m,\u001b[49m\u001b[43m \u001b[49m\u001b[43mresize_size\u001b[49m\u001b[43m)\u001b[49m\n\u001b[1;32m     18\u001b[0m     img_array \u001b[38;5;241m=\u001b[39m np\u001b[38;5;241m.\u001b[39mexpand_dims(img_array, axis\u001b[38;5;241m=\u001b[39m\u001b[38;5;241m0\u001b[39m)  \u001b[38;5;66;03m# Add batch dimension\u001b[39;00m\n\u001b[1;32m     19\u001b[0m     img_array \u001b[38;5;241m=\u001b[39m img_array \u001b[38;5;241m/\u001b[39m \u001b[38;5;241m255.0\u001b[39m  \u001b[38;5;66;03m# Normalize pixel values to [0, 1]\u001b[39;00m\n",
      "File \u001b[0;32m~/Documents/git/ml-lecture/.venv/lib/python3.12/site-packages/tensorflow/python/util/traceback_utils.py:153\u001b[0m, in \u001b[0;36mfilter_traceback.<locals>.error_handler\u001b[0;34m(*args, **kwargs)\u001b[0m\n\u001b[1;32m    151\u001b[0m \u001b[38;5;28;01mexcept\u001b[39;00m \u001b[38;5;167;01mException\u001b[39;00m \u001b[38;5;28;01mas\u001b[39;00m e:\n\u001b[1;32m    152\u001b[0m   filtered_tb \u001b[38;5;241m=\u001b[39m _process_traceback_frames(e\u001b[38;5;241m.\u001b[39m__traceback__)\n\u001b[0;32m--> 153\u001b[0m   \u001b[38;5;28;01mraise\u001b[39;00m e\u001b[38;5;241m.\u001b[39mwith_traceback(filtered_tb) \u001b[38;5;28;01mfrom\u001b[39;00m \u001b[38;5;28;01mNone\u001b[39;00m\n\u001b[1;32m    154\u001b[0m \u001b[38;5;28;01mfinally\u001b[39;00m:\n\u001b[1;32m    155\u001b[0m   \u001b[38;5;28;01mdel\u001b[39;00m filtered_tb\n",
      "File \u001b[0;32m~/Documents/git/ml-lecture/.venv/lib/python3.12/site-packages/tensorflow/python/framework/ops.py:6002\u001b[0m, in \u001b[0;36mraise_from_not_ok_status\u001b[0;34m(e, name)\u001b[0m\n\u001b[1;32m   6000\u001b[0m \u001b[38;5;28;01mdef\u001b[39;00m \u001b[38;5;21mraise_from_not_ok_status\u001b[39m(e, name) \u001b[38;5;241m-\u001b[39m\u001b[38;5;241m>\u001b[39m NoReturn:\n\u001b[1;32m   6001\u001b[0m   e\u001b[38;5;241m.\u001b[39mmessage \u001b[38;5;241m+\u001b[39m\u001b[38;5;241m=\u001b[39m (\u001b[38;5;124m\"\u001b[39m\u001b[38;5;124m name: \u001b[39m\u001b[38;5;124m\"\u001b[39m \u001b[38;5;241m+\u001b[39m \u001b[38;5;28mstr\u001b[39m(name \u001b[38;5;28;01mif\u001b[39;00m name \u001b[38;5;129;01mis\u001b[39;00m \u001b[38;5;129;01mnot\u001b[39;00m \u001b[38;5;28;01mNone\u001b[39;00m \u001b[38;5;28;01melse\u001b[39;00m \u001b[38;5;124m\"\u001b[39m\u001b[38;5;124m\"\u001b[39m))\n\u001b[0;32m-> 6002\u001b[0m   \u001b[38;5;28;01mraise\u001b[39;00m core\u001b[38;5;241m.\u001b[39m_status_to_exception(e) \u001b[38;5;28;01mfrom\u001b[39;00m \u001b[38;5;28;01mNone\u001b[39;00m\n",
      "\u001b[0;31mInvalidArgumentError\u001b[0m: cannot compute Pack as input #1(zero-based) was expected to be a float tensor but is a int64 tensor [Op:Pack] name: images"
     ]
    }
   ],
   "source": [
    "model = keras.models.load_model(os.path.join(model_folder, model_filename))\n",
    "print(\"Model loaded successfully!\")\n",
    "\n",
    "# Step 2: Define Class Labels\n",
    "# Ensure these match the class labels used during training\n",
    "class_labels = {\n",
    "    0: \"Chihuahua\",\n",
    "    1: \"Maltese Dog\",\n",
    "    2: \"Komondor\",\n",
    "    3: \"German Shepherd\",\n",
    "    4: \"African Hunting Dog\"\n",
    "}\n",
    "print(\"Class labels:\", class_labels)\n",
    "\n",
    "# Step 3: Define Image Preprocessing Function\n",
    "def preprocess_image(img):\n",
    "    img_array = tf.image.resize(img, resize_size)\n",
    "    img_array = np.expand_dims(img_array, axis=0)  # Add batch dimension\n",
    "    img_array = img_array / 255.0  # Normalize pixel values to [0, 1]\n",
    "    return img_array\n",
    "\n",
    "# Step 4: Predict Function\n",
    "def predict_image(img):\n",
    "    preprocessed_image = preprocess_image(img)\n",
    "    predictions = model.predict(preprocessed_image)\n",
    "    predicted_class = np.argmax(predictions, axis=-1)[0]\n",
    "    predicted_label = class_labels[predicted_class]\n",
    "\n",
    "    # Display the image with its prediction\n",
    "    img = keras.preprocessing.image.load_img(img)\n",
    "    plt.imshow(img)\n",
    "    plt.title(f\"Predicted: {predicted_label}\")\n",
    "    plt.axis(\"off\")\n",
    "    plt.show()\n",
    "    print(f\"Predicted Label: {predicted_label}\")\n",
    "\n",
    "for img in train_dataset:\n",
    "    print(f\"Testing image: {img}\")\n",
    "    predict_image(img)\n"
   ]
  }
 ],
 "metadata": {
  "kernelspec": {
   "display_name": ".venv",
   "language": "python",
   "name": "python3"
  },
  "language_info": {
   "codemirror_mode": {
    "name": "ipython",
    "version": 3
   },
   "file_extension": ".py",
   "mimetype": "text/x-python",
   "name": "python",
   "nbconvert_exporter": "python",
   "pygments_lexer": "ipython3",
   "version": "3.12.7"
  }
 },
 "nbformat": 4,
 "nbformat_minor": 2
}
